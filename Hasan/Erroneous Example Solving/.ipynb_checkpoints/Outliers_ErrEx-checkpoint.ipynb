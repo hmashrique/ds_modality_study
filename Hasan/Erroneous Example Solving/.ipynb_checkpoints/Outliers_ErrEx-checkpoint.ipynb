{
 "cells": [
  {
   "cell_type": "markdown",
   "id": "9def8167",
   "metadata": {},
   "source": [
    "## Problem Description\n",
    "\n",
    "In this problem, we have a dataset about students admisson  named `college_admissions.csv`. The dataset is a classification dataset which determines if a student can get admission based on their `gre,gpa and rank`. In the dataset, feature `gre` contains outlier data which we need to remove.\n",
    "\n",
    "In this problem, the solution steps are given but each step contains some errors in them(some steps may not have any error). We have to correct the errors in each step and move on to the next in order completely remove the outliers from `gre` feature.\n",
    "\n",
    "For each step given below, follow the instructions in them and move on to the next one to finally remove the outliers from `gre` column and see the results.\n",
    "Some steps might not show any error message but they will give an unexpected output which is also an error.\n",
    "\n",
    "\n"
   ]
  },
  {
   "cell_type": "markdown",
   "id": "6c8d3d36",
   "metadata": {},
   "source": [
    "#### Load the dataset:\n",
    "\n",
    " - Run the cell below and see the error message\n",
    " - Correct the error(s) and run cell again"
   ]
  },
  {
   "cell_type": "code",
   "execution_count": null,
   "id": "ccc0689b",
   "metadata": {},
   "outputs": [],
   "source": [
    "import pandas as pd\n",
    "\n",
    "gredata= read_csv(\"../datasets/college_admissions.csv\") "
   ]
  },
  {
   "cell_type": "markdown",
   "id": "e73cd2ba",
   "metadata": {},
   "source": [
    "- Run the cell below:\n",
    "    "
   ]
  },
  {
   "cell_type": "code",
   "execution_count": null,
   "id": "e8294e6f",
   "metadata": {},
   "outputs": [],
   "source": [
    "gredata"
   ]
  },
  {
   "cell_type": "markdown",
   "id": "347ea998",
   "metadata": {},
   "source": [
    "#### Where did we store the data in?\n",
    "(Type answer here)"
   ]
  },
  {
   "cell_type": "markdown",
   "id": "dbd44437",
   "metadata": {},
   "source": [
    "## Check for Outliers in the `gre` data"
   ]
  },
  {
   "cell_type": "markdown",
   "id": "f5050477",
   "metadata": {},
   "source": [
    "### Plot a strip plot to check for outliers\n",
    "\n",
    " - Run the cell below and see the error message\n",
    " - Correct the error(s) and run cell again"
   ]
  },
  {
   "cell_type": "code",
   "execution_count": null,
   "id": "3a8d0889",
   "metadata": {},
   "outputs": [],
   "source": [
    "import plotly.express as px\n",
    "\n",
    "fig= px.strip(y='gre') \n",
    "\n",
    "fig.show()\n"
   ]
  },
  {
   "cell_type": "markdown",
   "id": "a582f5c8",
   "metadata": {},
   "source": [
    "#### What is the maximum value in this plot?\n",
    "(Type answer here)"
   ]
  },
  {
   "cell_type": "markdown",
   "id": "49681014",
   "metadata": {},
   "source": [
    "### Plot a boxplot for outlier estimation\n",
    "\n",
    " - Run the cell below and see the error message\n",
    " - Correct the error(s) and run cell again"
   ]
  },
  {
   "cell_type": "code",
   "execution_count": null,
   "id": "1b0b0378",
   "metadata": {},
   "outputs": [],
   "source": [
    "box1= boxplot(column='gpa', figsize=(20,5), fontsize='20', vert=False) \n",
    "\n",
    "box1"
   ]
  },
  {
   "cell_type": "markdown",
   "id": "8083c61d",
   "metadata": {},
   "source": [
    "### Use `describe()` for `gre` distribution by numbers:\n",
    "\n",
    " - Run the cell below and see the error message\n",
    " - Correct the error(s) and run cell again"
   ]
  },
  {
   "cell_type": "code",
   "execution_count": null,
   "id": "a20d1210",
   "metadata": {},
   "outputs": [],
   "source": [
    "gredata.describe()"
   ]
  },
  {
   "cell_type": "markdown",
   "id": "5648facb",
   "metadata": {},
   "source": [
    "## Find the outlier points:"
   ]
  },
  {
   "cell_type": "markdown",
   "id": "c01ca462",
   "metadata": {},
   "source": [
    "### Find the upper and lower bounds:\n",
    "\n",
    " - Run the cell below and see the error message \n",
    " - Correct the error(s) and run cell again"
   ]
  },
  {
   "cell_type": "markdown",
   "id": "9317cc8a",
   "metadata": {},
   "source": [
    "### Calculate Q1:"
   ]
  },
  {
   "cell_type": "code",
   "execution_count": null,
   "id": "b7665d12",
   "metadata": {},
   "outputs": [],
   "source": [
    "q1= gredata['gre'].quantile()\n",
    "\n",
    "print(f\"q1: {q1}\")"
   ]
  },
  {
   "cell_type": "markdown",
   "id": "06b9bf31",
   "metadata": {},
   "source": [
    "- Run the cell below and see the error message \n",
    "- Correct the error(s) and run cell again"
   ]
  },
  {
   "cell_type": "markdown",
   "id": "3a4e847b",
   "metadata": {},
   "source": [
    "### Calculate Q3:"
   ]
  },
  {
   "cell_type": "code",
   "execution_count": null,
   "id": "63822946",
   "metadata": {},
   "outputs": [],
   "source": [
    "q3= gredata['gre'].quantile(.60)\n",
    "\n",
    "print(f\"q3: {q3}\")"
   ]
  },
  {
   "cell_type": "markdown",
   "id": "39092d45",
   "metadata": {},
   "source": [
    "### Find the interquartile range:\n",
    "\n",
    " - Run the cell below and see the error message\n",
    " - Correct the error(s) and run cell again"
   ]
  },
  {
   "cell_type": "code",
   "execution_count": null,
   "id": "1e2b851c",
   "metadata": {},
   "outputs": [],
   "source": [
    "iqr= q3 - q2 \n",
    "\n",
    "print(f\"iqr: {iqr}\")"
   ]
  },
  {
   "cell_type": "markdown",
   "id": "26bbf9f2",
   "metadata": {},
   "source": [
    "### Calculate the upper and lower bound for outliers:\n",
    "\n",
    " - Run the cell below and see the error message\n",
    " - Correct the error(s) and run cell again"
   ]
  },
  {
   "cell_type": "code",
   "execution_count": null,
   "id": "004fbfd2",
   "metadata": {},
   "outputs": [],
   "source": [
    "upper_bound= q1 + 1.5*iqr\n",
    "\n",
    "lower_bound= q2 - 1.5*iqr\n",
    "\n",
    "print(\"upper bound\",upper_bound)\n",
    "print(\"lower bound\",lower_bound)"
   ]
  },
  {
   "cell_type": "markdown",
   "id": "c0186dd9",
   "metadata": {},
   "source": [
    "### Clipping points:\n",
    "\n",
    " - Run the cell below and see the error message\n",
    " - Correct the error(s) and run cell again"
   ]
  },
  {
   "cell_type": "code",
   "execution_count": null,
   "id": "cbf8a767",
   "metadata": {},
   "outputs": [],
   "source": [
    "lower_point= max(upper_bound, gredata['gre'].max())\n",
    "\n",
    "print(\"lower_point\", lower_point)\n",
    "\n",
    "upper_point= min(upper_bound, gredata['gre'].min()) \n",
    "\n",
    "print(\"upper_point\", upper_point)"
   ]
  },
  {
   "cell_type": "markdown",
   "id": "4c7a6696",
   "metadata": {},
   "source": [
    "## Clip the Outliers:"
   ]
  },
  {
   "cell_type": "markdown",
   "id": "f81489cc",
   "metadata": {},
   "source": [
    "### Clip `price` data with lower and upper limit:\n",
    "\n",
    " - Run the cell below and see the error message\n",
    " - Correct the error(s) and run cell again"
   ]
  },
  {
   "cell_type": "code",
   "execution_count": null,
   "id": "f2d3f3a2",
   "metadata": {},
   "outputs": [],
   "source": [
    "gredata['gre']= gredata['gre'].clip(upper_bound,lower_point)  "
   ]
  },
  {
   "cell_type": "markdown",
   "id": "ed3a0d76",
   "metadata": {},
   "source": [
    "### Check `gre` distribution after clipping\n",
    "\n",
    " - Run the cell below "
   ]
  },
  {
   "cell_type": "code",
   "execution_count": null,
   "id": "fb1b5cee",
   "metadata": {},
   "outputs": [],
   "source": [
    "gredata['gre'].describe()"
   ]
  },
  {
   "cell_type": "markdown",
   "id": "dc76a878",
   "metadata": {},
   "source": [
    "## Distribution after clipping data\n",
    "\n",
    " - Run the cell below and see the error message\n",
    " - Correct the error(s) and run cell again"
   ]
  },
  {
   "cell_type": "code",
   "execution_count": null,
   "id": "c5047278",
   "metadata": {},
   "outputs": [],
   "source": [
    "fig= px.strip('gre') \n",
    "\n",
    "fig.show()"
   ]
  },
  {
   "cell_type": "markdown",
   "id": "701000f9",
   "metadata": {},
   "source": [
    "### What is the minimum value of this plot?\n",
    "\n",
    "(type answer here)"
   ]
  },
  {
   "cell_type": "markdown",
   "id": "e5e6043b",
   "metadata": {},
   "source": [
    " - Run the cell below and see the error message\n",
    " - Correct the error(s) and run cell again"
   ]
  },
  {
   "cell_type": "code",
   "execution_count": null,
   "id": "fac7cc09",
   "metadata": {},
   "outputs": [],
   "source": [
    "box2= gredata.boxplot(column='rank', figsize=(10,5), fontsize='8', vert=False)\n",
    "box2"
   ]
  }
 ],
 "metadata": {
  "kernelspec": {
   "display_name": "Python 3",
   "language": "python",
   "name": "python3"
  },
  "language_info": {
   "codemirror_mode": {
    "name": "ipython",
    "version": 3
   },
   "file_extension": ".py",
   "mimetype": "text/x-python",
   "name": "python",
   "nbconvert_exporter": "python",
   "pygments_lexer": "ipython3",
   "version": "3.7.12"
  }
 },
 "nbformat": 4,
 "nbformat_minor": 5
}
