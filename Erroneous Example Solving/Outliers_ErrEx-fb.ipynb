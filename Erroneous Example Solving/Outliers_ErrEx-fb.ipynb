{
 "cells": [
  {
   "cell_type": "markdown",
   "id": "1699d06e",
   "metadata": {},
   "source": [
    "## what type of erroneous examples should we put it ?\n",
    " - actual coding errors ?\n",
    " - conceptual errors of data science(will not throw an error but by concept it is wrong)?\n",
    " - should there be questions after error correction ?\n",
    " - What happens if they are unable to fix the errors?"
   ]
  },
  {
   "cell_type": "markdown",
   "id": "141bbd18",
   "metadata": {},
   "source": [
    "## Problem Description\n",
    "\n",
    "In this problem, we have a dataset about students admisson  named `binary_outliers.csv`. The dataset classifies if a student can get admission based on their `gre,gpa and rank`. In the dataset, feature `gre` \n",
    "contains outlier data which we have to remove.\n",
    "\n",
    "In this problem, the solution steps are given but each step contains some errors in them. We have to correct the errors in each step and move on to the next in order completely remove the outliers from `gre` feature.\n",
    "\n",
    "For each step given below, follow the instructions in them and move on to the next one to finally remove the outliers from `gre` column and see the results.\n",
    "\n"
   ]
  },
  {
   "cell_type": "markdown",
   "id": "b0cd55ae",
   "metadata": {},
   "source": [
    "#### Load the dataset:\n",
    "\n",
    " - Run the cell below and see the error message\n",
    " - Correct the error(s) and run cell again"
   ]
  },
  {
   "cell_type": "code",
   "execution_count": 1,
   "id": "186e5153",
   "metadata": {},
   "outputs": [
    {
     "ename": "NameError",
     "evalue": "name 'read_csv' is not defined",
     "output_type": "error",
     "traceback": [
      "\u001b[0;31m---------------------------------------------------------------------------\u001b[0m",
      "\u001b[0;31mNameError\u001b[0m                                 Traceback (most recent call last)",
      "\u001b[1;32m/Users/kbrid/workspace/hasan-example-mode-study-materials/Erroneous Example Solving/Outliers_ErrEx.ipynb Cell 4\u001b[0m in \u001b[0;36m<cell line: 3>\u001b[0;34m()\u001b[0m\n\u001b[1;32m      <a href='vscode-notebook-cell:/Users/kbrid/workspace/hasan-example-mode-study-materials/Erroneous%20Example%20Solving/Outliers_ErrEx.ipynb#W3sZmlsZQ%3D%3D?line=0'>1</a>\u001b[0m \u001b[39mimport\u001b[39;00m \u001b[39mpandas\u001b[39;00m \u001b[39mas\u001b[39;00m \u001b[39mpd\u001b[39;00m\n\u001b[0;32m----> <a href='vscode-notebook-cell:/Users/kbrid/workspace/hasan-example-mode-study-materials/Erroneous%20Example%20Solving/Outliers_ErrEx.ipynb#W3sZmlsZQ%3D%3D?line=2'>3</a>\u001b[0m gredata\u001b[39m=\u001b[39m read_csv(\u001b[39m\"\u001b[39m\u001b[39m../datasets/binary_outliers.csv\u001b[39m\u001b[39m\"\u001b[39m)\n",
      "\u001b[0;31mNameError\u001b[0m: name 'read_csv' is not defined"
     ]
    }
   ],
   "source": [
    "import pandas as pd\n",
    "\n",
    "gredata= read_csv(\"../datasets/binary_outliers.csv\") # missing library. needs pandas library to read the csv data"
   ]
  },
  {
   "cell_type": "code",
   "execution_count": null,
   "id": "46af6718",
   "metadata": {},
   "outputs": [],
   "source": [
    "gredata"
   ]
  },
  {
   "attachments": {},
   "cell_type": "markdown",
   "id": "60dfd808",
   "metadata": {},
   "source": [
    "- What was the error in the above code? Explain the cause and why the fix worked. (rewrite as multiple choice)"
   ]
  },
  {
   "cell_type": "markdown",
   "id": "53022bdf",
   "metadata": {},
   "source": [
    "#### What does this output `gredata` mean?\n",
    "##### Type answer here:"
   ]
  },
  {
   "cell_type": "markdown",
   "id": "2c628cec",
   "metadata": {},
   "source": [
    "## Check for Outliers in the 'gre' data"
   ]
  },
  {
   "cell_type": "markdown",
   "id": "17ccd22a",
   "metadata": {},
   "source": [
    "### Plot a strip plot to check for outliers\n",
    "\n",
    " - Run the cell below and see the error message\n",
    " - Correct the error(s) and run cell again"
   ]
  },
  {
   "cell_type": "code",
   "execution_count": 3,
   "id": "e2b36101",
   "metadata": {},
   "outputs": [
    {
     "data": {
      "application/vnd.plotly.v1+json": {
       "config": {
        "plotlyServerURL": "https://plot.ly"
       },
       "data": [
        {
         "alignmentgroup": "True",
         "boxpoints": "all",
         "fillcolor": "rgba(255,255,255,0)",
         "hoveron": "points",
         "hovertemplate": "y=%{y}<extra></extra>",
         "legendgroup": "",
         "line": {
          "color": "rgba(255,255,255,0)"
         },
         "marker": {
          "color": "#636efa"
         },
         "name": "",
         "offsetgroup": "",
         "orientation": "v",
         "pointpos": 0,
         "showlegend": false,
         "type": "box",
         "x0": " ",
         "xaxis": "x",
         "y": [
          "gre"
         ],
         "y0": " ",
         "yaxis": "y"
        }
       ],
       "layout": {
        "boxmode": "group",
        "legend": {
         "tracegroupgap": 0
        },
        "margin": {
         "t": 60
        },
        "template": {
         "data": {
          "bar": [
           {
            "error_x": {
             "color": "#2a3f5f"
            },
            "error_y": {
             "color": "#2a3f5f"
            },
            "marker": {
             "line": {
              "color": "#E5ECF6",
              "width": 0.5
             },
             "pattern": {
              "fillmode": "overlay",
              "size": 10,
              "solidity": 0.2
             }
            },
            "type": "bar"
           }
          ],
          "barpolar": [
           {
            "marker": {
             "line": {
              "color": "#E5ECF6",
              "width": 0.5
             },
             "pattern": {
              "fillmode": "overlay",
              "size": 10,
              "solidity": 0.2
             }
            },
            "type": "barpolar"
           }
          ],
          "carpet": [
           {
            "aaxis": {
             "endlinecolor": "#2a3f5f",
             "gridcolor": "white",
             "linecolor": "white",
             "minorgridcolor": "white",
             "startlinecolor": "#2a3f5f"
            },
            "baxis": {
             "endlinecolor": "#2a3f5f",
             "gridcolor": "white",
             "linecolor": "white",
             "minorgridcolor": "white",
             "startlinecolor": "#2a3f5f"
            },
            "type": "carpet"
           }
          ],
          "choropleth": [
           {
            "colorbar": {
             "outlinewidth": 0,
             "ticks": ""
            },
            "type": "choropleth"
           }
          ],
          "contour": [
           {
            "colorbar": {
             "outlinewidth": 0,
             "ticks": ""
            },
            "colorscale": [
             [
              0,
              "#0d0887"
             ],
             [
              0.1111111111111111,
              "#46039f"
             ],
             [
              0.2222222222222222,
              "#7201a8"
             ],
             [
              0.3333333333333333,
              "#9c179e"
             ],
             [
              0.4444444444444444,
              "#bd3786"
             ],
             [
              0.5555555555555556,
              "#d8576b"
             ],
             [
              0.6666666666666666,
              "#ed7953"
             ],
             [
              0.7777777777777778,
              "#fb9f3a"
             ],
             [
              0.8888888888888888,
              "#fdca26"
             ],
             [
              1,
              "#f0f921"
             ]
            ],
            "type": "contour"
           }
          ],
          "contourcarpet": [
           {
            "colorbar": {
             "outlinewidth": 0,
             "ticks": ""
            },
            "type": "contourcarpet"
           }
          ],
          "heatmap": [
           {
            "colorbar": {
             "outlinewidth": 0,
             "ticks": ""
            },
            "colorscale": [
             [
              0,
              "#0d0887"
             ],
             [
              0.1111111111111111,
              "#46039f"
             ],
             [
              0.2222222222222222,
              "#7201a8"
             ],
             [
              0.3333333333333333,
              "#9c179e"
             ],
             [
              0.4444444444444444,
              "#bd3786"
             ],
             [
              0.5555555555555556,
              "#d8576b"
             ],
             [
              0.6666666666666666,
              "#ed7953"
             ],
             [
              0.7777777777777778,
              "#fb9f3a"
             ],
             [
              0.8888888888888888,
              "#fdca26"
             ],
             [
              1,
              "#f0f921"
             ]
            ],
            "type": "heatmap"
           }
          ],
          "heatmapgl": [
           {
            "colorbar": {
             "outlinewidth": 0,
             "ticks": ""
            },
            "colorscale": [
             [
              0,
              "#0d0887"
             ],
             [
              0.1111111111111111,
              "#46039f"
             ],
             [
              0.2222222222222222,
              "#7201a8"
             ],
             [
              0.3333333333333333,
              "#9c179e"
             ],
             [
              0.4444444444444444,
              "#bd3786"
             ],
             [
              0.5555555555555556,
              "#d8576b"
             ],
             [
              0.6666666666666666,
              "#ed7953"
             ],
             [
              0.7777777777777778,
              "#fb9f3a"
             ],
             [
              0.8888888888888888,
              "#fdca26"
             ],
             [
              1,
              "#f0f921"
             ]
            ],
            "type": "heatmapgl"
           }
          ],
          "histogram": [
           {
            "marker": {
             "pattern": {
              "fillmode": "overlay",
              "size": 10,
              "solidity": 0.2
             }
            },
            "type": "histogram"
           }
          ],
          "histogram2d": [
           {
            "colorbar": {
             "outlinewidth": 0,
             "ticks": ""
            },
            "colorscale": [
             [
              0,
              "#0d0887"
             ],
             [
              0.1111111111111111,
              "#46039f"
             ],
             [
              0.2222222222222222,
              "#7201a8"
             ],
             [
              0.3333333333333333,
              "#9c179e"
             ],
             [
              0.4444444444444444,
              "#bd3786"
             ],
             [
              0.5555555555555556,
              "#d8576b"
             ],
             [
              0.6666666666666666,
              "#ed7953"
             ],
             [
              0.7777777777777778,
              "#fb9f3a"
             ],
             [
              0.8888888888888888,
              "#fdca26"
             ],
             [
              1,
              "#f0f921"
             ]
            ],
            "type": "histogram2d"
           }
          ],
          "histogram2dcontour": [
           {
            "colorbar": {
             "outlinewidth": 0,
             "ticks": ""
            },
            "colorscale": [
             [
              0,
              "#0d0887"
             ],
             [
              0.1111111111111111,
              "#46039f"
             ],
             [
              0.2222222222222222,
              "#7201a8"
             ],
             [
              0.3333333333333333,
              "#9c179e"
             ],
             [
              0.4444444444444444,
              "#bd3786"
             ],
             [
              0.5555555555555556,
              "#d8576b"
             ],
             [
              0.6666666666666666,
              "#ed7953"
             ],
             [
              0.7777777777777778,
              "#fb9f3a"
             ],
             [
              0.8888888888888888,
              "#fdca26"
             ],
             [
              1,
              "#f0f921"
             ]
            ],
            "type": "histogram2dcontour"
           }
          ],
          "mesh3d": [
           {
            "colorbar": {
             "outlinewidth": 0,
             "ticks": ""
            },
            "type": "mesh3d"
           }
          ],
          "parcoords": [
           {
            "line": {
             "colorbar": {
              "outlinewidth": 0,
              "ticks": ""
             }
            },
            "type": "parcoords"
           }
          ],
          "pie": [
           {
            "automargin": true,
            "type": "pie"
           }
          ],
          "scatter": [
           {
            "fillpattern": {
             "fillmode": "overlay",
             "size": 10,
             "solidity": 0.2
            },
            "type": "scatter"
           }
          ],
          "scatter3d": [
           {
            "line": {
             "colorbar": {
              "outlinewidth": 0,
              "ticks": ""
             }
            },
            "marker": {
             "colorbar": {
              "outlinewidth": 0,
              "ticks": ""
             }
            },
            "type": "scatter3d"
           }
          ],
          "scattercarpet": [
           {
            "marker": {
             "colorbar": {
              "outlinewidth": 0,
              "ticks": ""
             }
            },
            "type": "scattercarpet"
           }
          ],
          "scattergeo": [
           {
            "marker": {
             "colorbar": {
              "outlinewidth": 0,
              "ticks": ""
             }
            },
            "type": "scattergeo"
           }
          ],
          "scattergl": [
           {
            "marker": {
             "colorbar": {
              "outlinewidth": 0,
              "ticks": ""
             }
            },
            "type": "scattergl"
           }
          ],
          "scattermapbox": [
           {
            "marker": {
             "colorbar": {
              "outlinewidth": 0,
              "ticks": ""
             }
            },
            "type": "scattermapbox"
           }
          ],
          "scatterpolar": [
           {
            "marker": {
             "colorbar": {
              "outlinewidth": 0,
              "ticks": ""
             }
            },
            "type": "scatterpolar"
           }
          ],
          "scatterpolargl": [
           {
            "marker": {
             "colorbar": {
              "outlinewidth": 0,
              "ticks": ""
             }
            },
            "type": "scatterpolargl"
           }
          ],
          "scatterternary": [
           {
            "marker": {
             "colorbar": {
              "outlinewidth": 0,
              "ticks": ""
             }
            },
            "type": "scatterternary"
           }
          ],
          "surface": [
           {
            "colorbar": {
             "outlinewidth": 0,
             "ticks": ""
            },
            "colorscale": [
             [
              0,
              "#0d0887"
             ],
             [
              0.1111111111111111,
              "#46039f"
             ],
             [
              0.2222222222222222,
              "#7201a8"
             ],
             [
              0.3333333333333333,
              "#9c179e"
             ],
             [
              0.4444444444444444,
              "#bd3786"
             ],
             [
              0.5555555555555556,
              "#d8576b"
             ],
             [
              0.6666666666666666,
              "#ed7953"
             ],
             [
              0.7777777777777778,
              "#fb9f3a"
             ],
             [
              0.8888888888888888,
              "#fdca26"
             ],
             [
              1,
              "#f0f921"
             ]
            ],
            "type": "surface"
           }
          ],
          "table": [
           {
            "cells": {
             "fill": {
              "color": "#EBF0F8"
             },
             "line": {
              "color": "white"
             }
            },
            "header": {
             "fill": {
              "color": "#C8D4E3"
             },
             "line": {
              "color": "white"
             }
            },
            "type": "table"
           }
          ]
         },
         "layout": {
          "annotationdefaults": {
           "arrowcolor": "#2a3f5f",
           "arrowhead": 0,
           "arrowwidth": 1
          },
          "autotypenumbers": "strict",
          "coloraxis": {
           "colorbar": {
            "outlinewidth": 0,
            "ticks": ""
           }
          },
          "colorscale": {
           "diverging": [
            [
             0,
             "#8e0152"
            ],
            [
             0.1,
             "#c51b7d"
            ],
            [
             0.2,
             "#de77ae"
            ],
            [
             0.3,
             "#f1b6da"
            ],
            [
             0.4,
             "#fde0ef"
            ],
            [
             0.5,
             "#f7f7f7"
            ],
            [
             0.6,
             "#e6f5d0"
            ],
            [
             0.7,
             "#b8e186"
            ],
            [
             0.8,
             "#7fbc41"
            ],
            [
             0.9,
             "#4d9221"
            ],
            [
             1,
             "#276419"
            ]
           ],
           "sequential": [
            [
             0,
             "#0d0887"
            ],
            [
             0.1111111111111111,
             "#46039f"
            ],
            [
             0.2222222222222222,
             "#7201a8"
            ],
            [
             0.3333333333333333,
             "#9c179e"
            ],
            [
             0.4444444444444444,
             "#bd3786"
            ],
            [
             0.5555555555555556,
             "#d8576b"
            ],
            [
             0.6666666666666666,
             "#ed7953"
            ],
            [
             0.7777777777777778,
             "#fb9f3a"
            ],
            [
             0.8888888888888888,
             "#fdca26"
            ],
            [
             1,
             "#f0f921"
            ]
           ],
           "sequentialminus": [
            [
             0,
             "#0d0887"
            ],
            [
             0.1111111111111111,
             "#46039f"
            ],
            [
             0.2222222222222222,
             "#7201a8"
            ],
            [
             0.3333333333333333,
             "#9c179e"
            ],
            [
             0.4444444444444444,
             "#bd3786"
            ],
            [
             0.5555555555555556,
             "#d8576b"
            ],
            [
             0.6666666666666666,
             "#ed7953"
            ],
            [
             0.7777777777777778,
             "#fb9f3a"
            ],
            [
             0.8888888888888888,
             "#fdca26"
            ],
            [
             1,
             "#f0f921"
            ]
           ]
          },
          "colorway": [
           "#636efa",
           "#EF553B",
           "#00cc96",
           "#ab63fa",
           "#FFA15A",
           "#19d3f3",
           "#FF6692",
           "#B6E880",
           "#FF97FF",
           "#FECB52"
          ],
          "font": {
           "color": "#2a3f5f"
          },
          "geo": {
           "bgcolor": "white",
           "lakecolor": "white",
           "landcolor": "#E5ECF6",
           "showlakes": true,
           "showland": true,
           "subunitcolor": "white"
          },
          "hoverlabel": {
           "align": "left"
          },
          "hovermode": "closest",
          "mapbox": {
           "style": "light"
          },
          "paper_bgcolor": "white",
          "plot_bgcolor": "#E5ECF6",
          "polar": {
           "angularaxis": {
            "gridcolor": "white",
            "linecolor": "white",
            "ticks": ""
           },
           "bgcolor": "#E5ECF6",
           "radialaxis": {
            "gridcolor": "white",
            "linecolor": "white",
            "ticks": ""
           }
          },
          "scene": {
           "xaxis": {
            "backgroundcolor": "#E5ECF6",
            "gridcolor": "white",
            "gridwidth": 2,
            "linecolor": "white",
            "showbackground": true,
            "ticks": "",
            "zerolinecolor": "white"
           },
           "yaxis": {
            "backgroundcolor": "#E5ECF6",
            "gridcolor": "white",
            "gridwidth": 2,
            "linecolor": "white",
            "showbackground": true,
            "ticks": "",
            "zerolinecolor": "white"
           },
           "zaxis": {
            "backgroundcolor": "#E5ECF6",
            "gridcolor": "white",
            "gridwidth": 2,
            "linecolor": "white",
            "showbackground": true,
            "ticks": "",
            "zerolinecolor": "white"
           }
          },
          "shapedefaults": {
           "line": {
            "color": "#2a3f5f"
           }
          },
          "ternary": {
           "aaxis": {
            "gridcolor": "white",
            "linecolor": "white",
            "ticks": ""
           },
           "baxis": {
            "gridcolor": "white",
            "linecolor": "white",
            "ticks": ""
           },
           "bgcolor": "#E5ECF6",
           "caxis": {
            "gridcolor": "white",
            "linecolor": "white",
            "ticks": ""
           }
          },
          "title": {
           "x": 0.05
          },
          "xaxis": {
           "automargin": true,
           "gridcolor": "white",
           "linecolor": "white",
           "ticks": "",
           "title": {
            "standoff": 15
           },
           "zerolinecolor": "white",
           "zerolinewidth": 2
          },
          "yaxis": {
           "automargin": true,
           "gridcolor": "white",
           "linecolor": "white",
           "ticks": "",
           "title": {
            "standoff": 15
           },
           "zerolinecolor": "white",
           "zerolinewidth": 2
          }
         }
        },
        "xaxis": {
         "anchor": "y",
         "domain": [
          0,
          1
         ]
        },
        "yaxis": {
         "anchor": "x",
         "domain": [
          0,
          1
         ],
         "title": {
          "text": "y"
         }
        }
       }
      }
     },
     "metadata": {},
     "output_type": "display_data"
    }
   ],
   "source": [
    "\n",
    "import plotly.express as px\n",
    "\n",
    "fig = px.strip(y=['gre']) ## error in wrong dataframe or column \n",
    "fig.show()\n"
   ]
  },
  {
   "cell_type": "markdown",
   "id": "0770d836",
   "metadata": {},
   "source": [
    "##### What is the maximum value in this plot?\n",
    "##### Type answer here:"
   ]
  },
  {
   "cell_type": "markdown",
   "id": "c1ec4b88",
   "metadata": {},
   "source": [
    "### Use `describe()` for `price` distribution in terms of numbers:\n",
    "\n",
    " - Run the cell below and see the error message\n",
    " - Correct the error(s) and run cell again"
   ]
  },
  {
   "cell_type": "code",
   "execution_count": null,
   "id": "5091b267",
   "metadata": {},
   "outputs": [],
   "source": [
    "gredata[('gre')].describe()  ## wrong column data selected "
   ]
  },
  {
   "cell_type": "markdown",
   "id": "a7866695",
   "metadata": {},
   "source": [
    "## Use Box Plots for outlier limit estimation:\n",
    "\n",
    " - Run the cell below and see the error message\n",
    " - Correct the error(s) and run cell again"
   ]
  },
  {
   "cell_type": "code",
   "execution_count": null,
   "id": "eda01434",
   "metadata": {},
   "outputs": [],
   "source": [
    "boxplot = boxplot(figsize = (10,10), column='gre', fontsize= '8', grid =True) # gredata dataframe needed [conceptual]\n",
    "# need to define boxplot [coding]\n",
    "\n",
    "boxplot"
   ]
  },
  {
   "cell_type": "code",
   "execution_count": null,
   "id": "fa132ee9",
   "metadata": {},
   "outputs": [],
   "source": [
    "\n",
    "#gredata.hist(column='gre',bins=len(gredata), figsize=(10,7))\n",
    "\n"
   ]
  },
  {
   "cell_type": "markdown",
   "id": "fcc45029",
   "metadata": {},
   "source": [
    "## Find the outlier points:"
   ]
  },
  {
   "cell_type": "markdown",
   "id": "14b8552c",
   "metadata": {},
   "source": [
    "### Find the upper and lower bounds:\n",
    "\n",
    " - Run the cell below and see the error message\n",
    " - Correct the error(s) and run cell again"
   ]
  },
  {
   "cell_type": "code",
   "execution_count": null,
   "id": "d9e0b3f1",
   "metadata": {},
   "outputs": [],
   "source": [
    "## Find the first quartile data range for price \n",
    "\n",
    "q1= gredata['gre'].quantile([.25])  ## wrong quartile valo  \n",
    "print(f\"q1: {q1}\")\n",
    "\n",
    "## Find the third quartile data range for price \n",
    "\n",
    "q3= gredata['gre'].quantile(.75)\n",
    "print(f\"q3: {q3}\")"
   ]
  },
  {
   "cell_type": "markdown",
   "id": "f8843c33",
   "metadata": {},
   "source": [
    "### Find the interquartile range:\n",
    "\n",
    " - Run the cell below and see the error message\n",
    " - Correct the error(s) and run cell again"
   ]
  },
  {
   "cell_type": "code",
   "execution_count": null,
   "id": "392043b3",
   "metadata": {},
   "outputs": [],
   "source": [
    "## Find the inter quartile range for price data\n",
    "\n",
    "iqr= [q3 - q1]  ## wrong substraction (q4-q2)\n",
    "print(f\"iqr: {iqr}\")"
   ]
  },
  {
   "cell_type": "markdown",
   "id": "424b0f16",
   "metadata": {},
   "source": [
    "### Find the upper and lower bounds of outliers:\n",
    "\n",
    " - Run the cell below and see the error message\n",
    " - Correct the error(s) and run cell again"
   ]
  },
  {
   "cell_type": "code",
   "execution_count": null,
   "id": "6f0bbeeb",
   "metadata": {},
   "outputs": [],
   "source": [
    "## find the upper and lower bound\n",
    "\n",
    "upper_bound= [q3] + 1.5*iqr # need to know the upper bound\n",
    "\n",
    "lower_bound= [q1] - 1.5*iqr # need to know the lower bound\n",
    "\n",
    "print(\"upper bound\",upper_bound)\n",
    "print(\"lower bound\",lower_bound)"
   ]
  },
  {
   "cell_type": "markdown",
   "id": "b60d7952",
   "metadata": {},
   "source": [
    "## Clip the Outliers:"
   ]
  },
  {
   "cell_type": "markdown",
   "id": "6e9c64b8",
   "metadata": {},
   "source": [
    "### Clip `price` data with lower and upper limit:\n",
    "\n",
    " - Run the cell below and see the error message\n",
    " - Correct the error(s) and run cell again"
   ]
  },
  {
   "cell_type": "code",
   "execution_count": null,
   "id": "910ae07b",
   "metadata": {},
   "outputs": [],
   "source": [
    "[gredata['gre']]= gredata['gre'].clip(310,870)  ## changes not permanent.. gredata['data'] missing"
   ]
  },
  {
   "cell_type": "markdown",
   "id": "6c4ea87d",
   "metadata": {},
   "source": [
    "### Check the data distribution after clipping\n",
    "\n",
    " - Run the cell below and see the error message\n",
    " - Correct the error(s) and run cell again"
   ]
  },
  {
   "cell_type": "code",
   "execution_count": null,
   "id": "fd36da37",
   "metadata": {},
   "outputs": [],
   "source": [
    "gredata['gre'].describe()  ## no error"
   ]
  },
  {
   "cell_type": "markdown",
   "id": "9b68e165",
   "metadata": {},
   "source": [
    "## Distribution after clipping data\n",
    "\n",
    " - Run the cell below and see the error message\n",
    " - Correct the error(s) and run cell again"
   ]
  },
  {
   "cell_type": "code",
   "execution_count": null,
   "id": "e99c3f4c",
   "metadata": {},
   "outputs": [],
   "source": [
    "\n",
    "fig = px.strip([gredata] , y='gre') ## error in wrong dataframe or column name\n",
    "fig.show()\n"
   ]
  },
  {
   "cell_type": "code",
   "execution_count": null,
   "id": "11b02d81",
   "metadata": {},
   "outputs": [],
   "source": [
    "#gredata['gpa'].describe()"
   ]
  },
  {
   "cell_type": "code",
   "execution_count": null,
   "id": "622300dc",
   "metadata": {},
   "outputs": [],
   "source": [
    "# gredata.hist(column='gpa',figsize=(10,7))\n",
    "\n"
   ]
  },
  {
   "cell_type": "code",
   "execution_count": null,
   "id": "5217eac6",
   "metadata": {},
   "outputs": [],
   "source": [
    "# plt.scatter(y= gredata['gpa'], x= gredata.index)\n",
    "# #plt.hist(nyc['price'],20)\n",
    "# plt.show()"
   ]
  },
  {
   "cell_type": "code",
   "execution_count": null,
   "id": "86d574cd",
   "metadata": {},
   "outputs": [],
   "source": []
  }
 ],
 "metadata": {
  "kernelspec": {
   "display_name": "base",
   "language": "python",
   "name": "python3"
  },
  "language_info": {
   "codemirror_mode": {
    "name": "ipython",
    "version": 3
   },
   "file_extension": ".py",
   "mimetype": "text/x-python",
   "name": "python",
   "nbconvert_exporter": "python",
   "pygments_lexer": "ipython3",
   "version": "3.9.13"
  },
  "vscode": {
   "interpreter": {
    "hash": "be14b4e913c6f2457a185c22af60a9db8729a2914b48dcc2c5e42fe4e4a2ce08"
   }
  }
 },
 "nbformat": 4,
 "nbformat_minor": 5
}
