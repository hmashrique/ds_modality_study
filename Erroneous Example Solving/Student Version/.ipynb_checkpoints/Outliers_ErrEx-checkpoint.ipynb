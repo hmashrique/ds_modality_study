{
 "cells": [
  {
   "cell_type": "markdown",
   "id": "ac47c6b2",
   "metadata": {},
   "source": [
    "## Problem Description\n",
    "\n",
    "In this problem, we have a dataset about students admisson  named `college_admissions.csv`. The dataset is a classification dataset which determines if a student can get admission based on their `gre,gpa and rank`. In the dataset, feature `gre` contains outlier data which we need to remove.\n",
    "\n",
    "In this problem, the solution steps are given but each step contains some errors in them(some steps may not have any error). We have to correct the errors in each step and move on to the next in order completely remove the outliers from `gre` feature.\n",
    "\n",
    "For each step given below, follow the instructions in them and move on to the next one to finally remove the outliers from `gre` column and see the results.\n",
    "Some steps might not show any error message but they will give an unexpected output which is also an error.\n",
    "\n",
    "\n"
   ]
  },
  {
   "cell_type": "markdown",
   "id": "e9a0e3b2",
   "metadata": {},
   "source": [
    "## Loading the dataset:"
   ]
  },
  {
   "cell_type": "markdown",
   "id": "134c99c1",
   "metadata": {},
   "source": [
    "Lets load the `college_admissions.csv` dataset first.\n",
    "\n",
    "<html>\n",
    "\n",
    "<head>\n",
    "\t<meta charset=\"UTF-8\">\n",
    "</head>\n",
    "\n",
    "<body>\n",
    "\n",
    "<ul>\n",
    "  <li>Run the cell below and see the error message <span> 🛑 </span> </li>\n",
    "  <li>Correct the error(s) and run cell again</li>\n",
    "</ul>\n",
    "    \n",
    "</body>\n",
    "\n",
    "</html>"
   ]
  },
  {
   "cell_type": "code",
   "execution_count": null,
   "id": "b5127906",
   "metadata": {},
   "outputs": [],
   "source": [
    "import pandas as pd\n",
    "\n",
    "gredata= read_csv(\"../datasets/college_admissions.csv\") "
   ]
  },
  {
   "cell_type": "markdown",
   "id": "b5f7cce3",
   "metadata": {},
   "source": [
    "\n",
    "<html>\n",
    "<head>\n",
    "\t<meta charset=\"UTF-8\">\n",
    "</head>\n",
    "\n",
    "<body>\n",
    "\t<p>Lets see whats inside the `gredata` variable. <span> 🧐 </span> </p>\n",
    "    <ul>\n",
    "      <li>Run the cell below <span> ✅ </span> </li>     \n",
    "    </ul>\n",
    "    \n",
    "    \n",
    "</body>\n",
    "\n",
    "</html>\n",
    "\n",
    "\n"
   ]
  },
  {
   "cell_type": "code",
   "execution_count": null,
   "id": "743e1150",
   "metadata": {},
   "outputs": [],
   "source": [
    "gredata "
   ]
  },
  {
   "cell_type": "markdown",
   "id": "0a51f748",
   "metadata": {},
   "source": [
    "#### Where did we store our csv data in?\n",
    "(Type answer here)"
   ]
  },
  {
   "cell_type": "markdown",
   "id": "e5ed221b",
   "metadata": {},
   "source": [
    "## Check for Outliers in the `gre` data"
   ]
  },
  {
   "cell_type": "markdown",
   "id": "bb4aa599",
   "metadata": {},
   "source": [
    "Now lets check if there exists any outliers in the `gre` data. Lets plot a strip plot to observe if any outliers are present in `gre`.\n",
    "\n",
    "<html>\n",
    "\n",
    "<head>\n",
    "\t<meta charset=\"UTF-8\">\n",
    "</head>\n",
    "\n",
    "<body>\n",
    "\n",
    "<ul>\n",
    "  <li>Run the cell below and see the error message <span> 🛑 </span> </li>\n",
    "  <li>Correct the error(s) and run cell again</li>\n",
    "</ul>\n",
    "    \n",
    "</body>\n",
    "\n",
    "</html>"
   ]
  },
  {
   "cell_type": "code",
   "execution_count": null,
   "id": "3fb8bf2f",
   "metadata": {},
   "outputs": [],
   "source": [
    "import plotly.express as px\n",
    "\n",
    "fig= px.strip(y='gre') \n",
    "\n",
    "fig.show()\n"
   ]
  },
  {
   "cell_type": "markdown",
   "id": "3da384d2",
   "metadata": {},
   "source": [
    "#### What is the maximum value in this plot?\n",
    "(Type answer here)"
   ]
  },
  {
   "cell_type": "markdown",
   "id": "89c6d4b6",
   "metadata": {},
   "source": [
    "We have observed that there are outliers in the `gre` data. Now lets observe the outliers in a boxplot.\n",
    "\n",
    "<html>\n",
    "\n",
    "<head>\n",
    "\t<meta charset=\"UTF-8\">\n",
    "</head>\n",
    "\n",
    "<body>\n",
    "\n",
    "<ul>\n",
    "  <li>Run the cell below and see the error message <span> 🛑 </span> </li>\n",
    "  <li>Correct the error(s) and run cell again</li>\n",
    "</ul>\n",
    "    \n",
    "</body>\n",
    "\n",
    "</html>\n",
    " "
   ]
  },
  {
   "cell_type": "code",
   "execution_count": null,
   "id": "6d1c4675",
   "metadata": {},
   "outputs": [],
   "source": [
    "box1= boxplot(column='gpa', figsize=(20,5), fontsize='20', vert=False) \n",
    "\n",
    "box1"
   ]
  },
  {
   "cell_type": "markdown",
   "id": "12af9881",
   "metadata": {},
   "source": [
    "From the boxplot we got, where do the outliers apprximately lie?\n",
    "\n",
    "(Type answer here)"
   ]
  },
  {
   "cell_type": "markdown",
   "id": "b85dd93f",
   "metadata": {},
   "source": [
    "## Look at the `gre` distribution by numbers:\n",
    "\n",
    "\n",
    "<html>\n",
    "<head>\n",
    "\t<meta charset=\"UTF-8\">\n",
    "</head>\n",
    "\n",
    "<body>\n",
    "\t<p>Lets see the numerical distribution of `gre` data.</p>\n",
    "    <ul>\n",
    "      <li>Run the cell below <span> ✅ </span> </li>     \n",
    "    </ul>\n",
    "    \n",
    "    \n",
    "</body>\n",
    "\n",
    "</html>\n",
    "\n"
   ]
  },
  {
   "cell_type": "code",
   "execution_count": null,
   "id": "4d1daffc",
   "metadata": {},
   "outputs": [],
   "source": [
    "gredata['gre'].describe()"
   ]
  },
  {
   "cell_type": "markdown",
   "id": "8c14367c",
   "metadata": {},
   "source": [
    "## Find the outlier points:"
   ]
  },
  {
   "cell_type": "markdown",
   "id": "85f967ee",
   "metadata": {},
   "source": [
    "Now that we have confirmed outliers in the `gre` data, our next task is to find the outlier points using the interquartile range. For that, first, lets find the Q1 and Q3 points."
   ]
  },
  {
   "cell_type": "markdown",
   "id": "cb816f3f",
   "metadata": {},
   "source": [
    "<html>\n",
    "\n",
    "<head>\n",
    "\t<meta charset=\"UTF-8\">\n",
    "</head>\n",
    "\n",
    "<body>\n",
    "\n",
    "<ul>\n",
    "    <li>Run the cell below (NOTE: it will give an incorrect output <span> ⚠️ </span>)</li>\n",
    "    <li>Find the mistake in the code</li>\n",
    "    <li>Correct it and run cell again</li>\n",
    "</ul>\n",
    "    \n",
    "</body>\n",
    "\n",
    "</html>\n",
    "\n",
    " "
   ]
  },
  {
   "cell_type": "code",
   "execution_count": null,
   "id": "5c49ae55",
   "metadata": {},
   "outputs": [],
   "source": [
    "q1= gredata['gre'].quantile()\n",
    "\n",
    "print(f\"q1: {q1}\")"
   ]
  },
  {
   "cell_type": "markdown",
   "id": "6291b556",
   "metadata": {},
   "source": [
    "<html>\n",
    "\n",
    "<head>\n",
    "\t<meta charset=\"UTF-8\">\n",
    "</head>\n",
    "\n",
    "<body>\n",
    "\n",
    "<ul>\n",
    "    <li>Run the cell below (NOTE: it will give an incorrect output <span> ⚠️ </span>)</li>\n",
    "    <li>Find the mistake in the code</li>\n",
    "    <li>Correct it and run cell again</li>\n",
    "</ul>\n",
    "    \n",
    "</body>\n",
    "\n",
    "</html>"
   ]
  },
  {
   "cell_type": "code",
   "execution_count": null,
   "id": "2bf595b8",
   "metadata": {},
   "outputs": [],
   "source": [
    "q3= gredata['gre'].quantile(.60)\n",
    "\n",
    "print(f\"q3: {q3}\")"
   ]
  },
  {
   "cell_type": "markdown",
   "id": "1b51fb47",
   "metadata": {},
   "source": [
    "From the `q1` and `q3` points , we find out the interquartile range. "
   ]
  },
  {
   "cell_type": "markdown",
   "id": "fc0bf685",
   "metadata": {},
   "source": [
    "<html>\n",
    "\n",
    "<head>\n",
    "\t<meta charset=\"UTF-8\">\n",
    "</head>\n",
    "\n",
    "<body>\n",
    "\n",
    "<ul>\n",
    "  <li>Run the cell below and see the error message <span> 🛑 </span> </li>\n",
    "  <li>Correct the error(s) and run cell again</li>\n",
    "</ul>\n",
    "    \n",
    "</body>\n",
    "\n",
    "</html>\n",
    " \n",
    " \n",
    " "
   ]
  },
  {
   "cell_type": "code",
   "execution_count": null,
   "id": "55012a30",
   "metadata": {},
   "outputs": [],
   "source": [
    "iqr= q2 - q3 \n",
    "\n",
    "print(f\"iqr: {iqr}\")"
   ]
  },
  {
   "cell_type": "markdown",
   "id": "14770b7b",
   "metadata": {},
   "source": [
    "Now, we have our interquartile range. Using this, lets find out the bounds for our outlier points."
   ]
  },
  {
   "cell_type": "markdown",
   "id": "c58d49cc",
   "metadata": {},
   "source": [
    "<html>\n",
    "\n",
    "<head>\n",
    "\t<meta charset=\"UTF-8\">\n",
    "</head>\n",
    "\n",
    "<body>\n",
    "\n",
    "<ul>\n",
    "    <li>Run the cell below (NOTE: it will give an incorrect output <span> ⚠️ </span>)</li>\n",
    "    <li>Find the mistake in the code</li>\n",
    "    <li>Correct it and run cell again</li>\n",
    "</ul>\n",
    "    \n",
    "</body>\n",
    "\n",
    "</html>"
   ]
  },
  {
   "cell_type": "code",
   "execution_count": null,
   "id": "cc877009",
   "metadata": {},
   "outputs": [],
   "source": [
    "upper_bound= q1 + 1.5*iqr\n",
    "\n",
    "lower_bound= q3 - 1.5*iqr\n",
    "\n",
    "print(\"upper bound\",upper_bound)\n",
    "print(\"lower bound\",lower_bound)"
   ]
  },
  {
   "cell_type": "markdown",
   "id": "cd0bc61c",
   "metadata": {},
   "source": [
    "From our bounds for outlier data, we find out the outlier points which will be our clipping points for `gre` data."
   ]
  },
  {
   "cell_type": "markdown",
   "id": "998dea69",
   "metadata": {},
   "source": [
    "<html>\n",
    "\n",
    "<head>\n",
    "\t<meta charset=\"UTF-8\">\n",
    "</head>\n",
    "\n",
    "<body>\n",
    "\n",
    "<ul>\n",
    "    <li>Run the cell below (NOTE: it will give an incorrect output <span> ⚠️ </span>)</li>\n",
    "    <li>Find the mistake in the code</li>\n",
    "    <li>Correct it and run cell again</li>\n",
    "</ul>\n",
    "    \n",
    "</body>\n",
    "\n",
    "</html>"
   ]
  },
  {
   "cell_type": "code",
   "execution_count": null,
   "id": "67232b56",
   "metadata": {},
   "outputs": [],
   "source": [
    "lower_point= max(upper_bound, gredata['gre'].max())\n",
    "\n",
    "print(\"lower_point\", lower_point)\n",
    "\n",
    "upper_point= min(upper_bound, gredata['gre'].min()) \n",
    "\n",
    "print(\"upper_point\", upper_point)"
   ]
  },
  {
   "cell_type": "markdown",
   "id": "fa2b516f",
   "metadata": {},
   "source": [
    "## Clip the Outliers:"
   ]
  },
  {
   "cell_type": "markdown",
   "id": "6c1aa231",
   "metadata": {},
   "source": [
    "\n",
    " \n",
    "<html>\n",
    "\n",
    "<head>\n",
    "\t<meta charset=\"UTF-8\">\n",
    "</head>\n",
    "\n",
    "<body>\n",
    "\n",
    "<ul>\n",
    "    <li>See the code cell below ( Dont run at first <span> 🚫 </span>)</li>\n",
    "    <li>Find the mistake in the code</li>\n",
    "    <li>Correct the error(s) and run the cell</li>\n",
    "</ul>\n",
    "    \n",
    "</body>\n",
    "\n",
    "</html> "
   ]
  },
  {
   "cell_type": "code",
   "execution_count": null,
   "id": "ab3fb785",
   "metadata": {},
   "outputs": [],
   "source": [
    "gredata['gre']= gredata['gre'].clip(upper_bound,lower_point)  "
   ]
  },
  {
   "cell_type": "markdown",
   "id": "61d9e6c8",
   "metadata": {},
   "source": [
    "## Check `gre` values distribution after clipping\n",
    "\n",
    " \n",
    "<html>\n",
    "<head>\n",
    "\t<meta charset=\"UTF-8\">\n",
    "</head>\n",
    "\n",
    "<body>\n",
    "\t<p>Lets check the numerical distribution after clipping our `gre` data.</p>\n",
    "    <ul>\n",
    "      <li>Run the cell below <span> ✅ </span> </li>     \n",
    "    </ul>\n",
    "    \n",
    "    \n",
    "</body>\n",
    "\n",
    "</html>\n",
    "\n",
    "\n",
    " "
   ]
  },
  {
   "cell_type": "code",
   "execution_count": null,
   "id": "195274f4",
   "metadata": {},
   "outputs": [],
   "source": [
    "gredata['gre'].describe()"
   ]
  },
  {
   "cell_type": "markdown",
   "id": "91534cb9",
   "metadata": {},
   "source": [
    "## Distribution of `gre` after clipping data\n",
    "\n",
    "<html>\n",
    "\n",
    "<head>\n",
    "\t<meta charset=\"UTF-8\">\n",
    "</head>\n",
    "\n",
    "<body>\n",
    "\n",
    "<ul>\n",
    "  <li>Run the cell below and see the error message <span> 🛑 </span> </li>\n",
    "  <li>Correct the error(s) and run cell again</li>\n",
    "</ul>\n",
    "    \n",
    "</body>\n",
    "\n",
    "</html>"
   ]
  },
  {
   "cell_type": "code",
   "execution_count": null,
   "id": "2b9a08dd",
   "metadata": {},
   "outputs": [],
   "source": [
    "fig= px.strip('gre') \n",
    "\n",
    "fig.show()"
   ]
  },
  {
   "cell_type": "markdown",
   "id": "4b9b2695",
   "metadata": {},
   "source": [
    "### What is the minimum value of this plot?\n",
    "\n",
    "(type answer here)"
   ]
  },
  {
   "cell_type": "markdown",
   "id": "c740131a",
   "metadata": {},
   "source": [
    "\n",
    " <html>\n",
    "\n",
    "<head>\n",
    "\t<meta charset=\"UTF-8\">\n",
    "</head>\n",
    "\n",
    "<body>\n",
    "\n",
    "<ul>\n",
    "    <li>Run the cell below (NOTE: it will give an incorrect output <span> ⚠️ </span>)</li>\n",
    "    <li>Find the mistake in the code</li>\n",
    "    <li>Correct it and run cell again</li>\n",
    "</ul>\n",
    "    \n",
    "</body>\n",
    "\n",
    "</html>"
   ]
  },
  {
   "cell_type": "code",
   "execution_count": null,
   "id": "aec2649a",
   "metadata": {},
   "outputs": [],
   "source": [
    "box2= gredata.boxplot(column='rank', figsize=(10,5), fontsize='8', vert=False)\n",
    "box2"
   ]
  }
 ],
 "metadata": {
  "kernelspec": {
   "display_name": "Python 3",
   "language": "python",
   "name": "python3"
  },
  "language_info": {
   "codemirror_mode": {
    "name": "ipython",
    "version": 3
   },
   "file_extension": ".py",
   "mimetype": "text/x-python",
   "name": "python",
   "nbconvert_exporter": "python",
   "pygments_lexer": "ipython3",
   "version": "3.7.12"
  }
 },
 "nbformat": 4,
 "nbformat_minor": 5
}
