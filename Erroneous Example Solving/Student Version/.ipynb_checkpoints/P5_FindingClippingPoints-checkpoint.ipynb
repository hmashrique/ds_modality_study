{
 "cells": [
  {
   "cell_type": "markdown",
   "id": "42e15e51-07c5-43db-9ce3-ae9a9f2baf25",
   "metadata": {},
   "source": [
    "### Problem 5 (Finding Outlier Clipping Points)"
   ]
  },
  {
   "cell_type": "markdown",
   "id": "d5f8db31-1484-4c1f-8a71-ecaa2c97ab86",
   "metadata": {},
   "source": [
    "In the following scenario, we have information about a feature data containing outliers:\n",
    "\n",
    "    upper_bound= 334\n",
    "    lower_bound= -90\n",
    "    min_val= 0\n",
    "    max_val= 334\n",
    "    Inter Quartile Range(IQR)= 120\n",
    "\n",
    "\n",
    "\n"
   ]
  },
  {
   "cell_type": "markdown",
   "id": "539cf114-40c0-4e9f-9806-9958357c5c48",
   "metadata": {},
   "source": [
    "![Outlier Detection](images/outliers.png)\n",
    "\n",
    "\n"
   ]
  },
  {
   "cell_type": "markdown",
   "id": "82ce1fcf-ee44-45c6-9db6-1825b7c5d769",
   "metadata": {},
   "source": [
    "\n",
    "<div class=\"alert alert-danger\" role=\"alert\">\n",
    "  According to the current information, what would be the outlier points for clipping from the data? \n",
    "\n",
    "Explain your answer.\n",
    "\n",
    "Follow image above for reference.\n",
    "\n",
    "</div>\n",
    "\n"
   ]
  },
  {
   "cell_type": "markdown",
   "id": "a767b805-51b8-478f-b26c-454549d1aa62",
   "metadata": {},
   "source": [
    "<div class=\"alert alert-info\" role=\"alert\">\n",
    "  Your Answer Here\n",
    "</div>"
   ]
  }
 ],
 "metadata": {
  "kernelspec": {
   "display_name": "Python 3 (ipykernel)",
   "language": "python",
   "name": "python3"
  },
  "language_info": {
   "codemirror_mode": {
    "name": "ipython",
    "version": 3
   },
   "file_extension": ".py",
   "mimetype": "text/x-python",
   "name": "python",
   "nbconvert_exporter": "python",
   "pygments_lexer": "ipython3",
   "version": "3.10.10"
  }
 },
 "nbformat": 4,
 "nbformat_minor": 5
}
