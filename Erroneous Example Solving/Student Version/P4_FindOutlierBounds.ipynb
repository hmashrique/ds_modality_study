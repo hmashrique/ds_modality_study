{
 "cells": [
  {
   "cell_type": "markdown",
   "id": "d768194b-982f-40f7-ad5d-0b9505a0a450",
   "metadata": {},
   "source": [
    "### Problem 4 (Finding outlier bounds)"
   ]
  },
  {
   "cell_type": "markdown",
   "id": "ffea3aa1-c95b-4dc3-9579-5a64d4cbccf0",
   "metadata": {},
   "source": [
    "In this problem, we have loaded housing data from **Bengluru_House_Data.csv**. The dataset has a feature `price`. Using a boxplot, we have find out there exists outliers in the `price` feature. \n",
    "\n",
    "Our next task is to find the outlier bounds using the Interquartile range method. For the `price` feature, find out the outlier bounds to identify the outlier range.\n",
    "\n",
    "\n"
   ]
  },
  {
   "cell_type": "code",
   "execution_count": 1,
   "id": "60b44ca5-2ffd-4bd5-8765-41aa11ac983d",
   "metadata": {},
   "outputs": [
    {
     "data": {
      "text/plain": [
       "count    13320.000000\n",
       "mean       112.565627\n",
       "std        148.971674\n",
       "min          8.000000\n",
       "25%         50.000000\n",
       "50%         72.000000\n",
       "75%        120.000000\n",
       "max       3600.000000\n",
       "Name: price, dtype: float64"
      ]
     },
     "execution_count": 1,
     "metadata": {},
     "output_type": "execute_result"
    }
   ],
   "source": [
    "import pandas as pd\n",
    "\n",
    "housedata= pd.read_csv(\"datasets/Bengaluru_House_Data.csv\")\n",
    "\n",
    "housedata.head()\n",
    "\n",
    "housedata['price'].describe()"
   ]
  },
  {
   "cell_type": "code",
   "execution_count": 2,
   "id": "1979f02d-22ab-41eb-8ebf-aaaa460d727d",
   "metadata": {},
   "outputs": [
    {
     "data": {
      "text/plain": [
       "<Axes: ylabel='price'>"
      ]
     },
     "execution_count": 2,
     "metadata": {},
     "output_type": "execute_result"
    },
    {
     "data": {
      "image/png": "[encoded data removed]",
      "text/plain": [
       "<Figure size 640x480 with 1 Axes>"
      ]
     },
     "metadata": {},
     "output_type": "display_data"
    }
   ],
   "source": [
    "import seaborn as sns\n",
    "%matplotlib inline\n",
    "\n",
    "\n",
    "sns.boxplot(data=housedata, y=\"price\", width=0.4)"
   ]
  },
  {
   "cell_type": "markdown",
   "id": "af9d57bd-f055-411b-b039-4b7b83d9be0f",
   "metadata": {},
   "source": [
    "#### From the boxplot above, we see that there are outliers in the data. \n",
    "Find out the outlier bounds for this feature using the interquartile range method."
   ]
  },
  {
   "cell_type": "markdown",
   "id": "5478158c-a4b2-4f68-bc50-8e6bed5a394d",
   "metadata": {},
   "source": [
    "<div class=\"alert alert-warning\" role=\"alert\">\n",
    "  Your Code below\n",
    "</div>"
   ]
  },
  {
   "cell_type": "code",
   "execution_count": null,
   "id": "16418b14-3a1b-47e4-ab78-46800141da9d",
   "metadata": {},
   "outputs": [],
   "source": [
    "q3= housedata['price'].quantile(0.75) \n",
    "\n",
    "print(\"q3:\",q3)"
   ]
  },
  {
   "cell_type": "code",
   "execution_count": null,
   "id": "425dd262-04f7-44cf-a58e-ec138201733e",
   "metadata": {},
   "outputs": [],
   "source": [
    "q1= housedata['price'].quantile(0.25) \n",
    "print(\"q1:\",q1)"
   ]
  },
  {
   "cell_type": "code",
   "execution_count": null,
   "id": "20cf090f-512b-4b75-a4ae-7452bf79caaf",
   "metadata": {},
   "outputs": [],
   "source": [
    "IQR= q3-q1\n",
    "\n",
    "print(\"IQR:\",IQR)"
   ]
  },
  {
   "cell_type": "code",
   "execution_count": null,
   "id": "11a9ab24-755d-4ed9-8ec7-45a7cb241c33",
   "metadata": {},
   "outputs": [],
   "source": [
    "upper_bound= q3 + 1.5*IQR\n",
    "print(\"upper bound\",upper_bound)"
   ]
  },
  {
   "cell_type": "code",
   "execution_count": null,
   "id": "8ce5bd83-de81-4098-b7a0-eb8112e68bbc",
   "metadata": {},
   "outputs": [],
   "source": [
    "lower_bound= q1 - 1.5*IQR\n",
    "print(\"lower bound\",lower_bound)"
   ]
  },
  {
   "cell_type": "markdown",
   "id": "392c994d-86b8-4c36-ac8f-cdb3130c21d6",
   "metadata": {},
   "source": [
    "<div class=\"alert alert-block alert-danger\">\n",
    "Q1. What is the interquartile range of the data? What are the upper and lower outlier bounds?\n",
    "</div>"
   ]
  },
  {
   "cell_type": "markdown",
   "id": "d4813a6e-e6f8-4fe3-a5a0-56c1502eb6c2",
   "metadata": {},
   "source": [
    "<div class=\"alert alert-info\" role=\"alert\">\n",
    "  Your Answer Here\n",
    "</div>"
   ]
  },
  {
   "cell_type": "code",
   "execution_count": null,
   "id": "d625fde3-a948-4101-ad99-b817a1eca39f",
   "metadata": {},
   "outputs": [],
   "source": []
  }
 ],
 "metadata": {
  "kernelspec": {
   "display_name": "Python 3 (ipykernel)",
   "language": "python",
   "name": "python3"
  },
  "language_info": {
   "codemirror_mode": {
    "name": "ipython",
    "version": 3
   },
   "file_extension": ".py",
   "mimetype": "text/x-python",
   "name": "python",
   "nbconvert_exporter": "python",
   "pygments_lexer": "ipython3",
   "version": "3.10.10"
  }
 },
 "nbformat": 4,
 "nbformat_minor": 5
}
