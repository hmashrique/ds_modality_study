{
 "cells": [
  {
   "cell_type": "markdown",
   "id": "b60777b7",
   "metadata": {},
   "source": [
    "## Imputing missing values: Titanic dataset analysis\n",
    "\n",
    "\n",
    "\n"
   ]
  },
  {
   "cell_type": "markdown",
   "id": "c53c4d72",
   "metadata": {},
   "source": [
    "### Problem Description:"
   ]
  },
  {
   "cell_type": "markdown",
   "id": "562014a4",
   "metadata": {},
   "source": [
    "In this problem, we have a dataset named `train_titanic.csv` in the datasets folder. In the dataset, the feature `Age` has some missing values. For this task, we want to fill those missing values in the `Age` column .\n",
    "\n",
    "In this problem, the solution steps are given. But there are errors in the solutions steps. We have to correct\n",
    "each error step before moving on to the next one and complete all the steps to fill the missing values.\n",
    "\n",
    "For each step given below, follow the instructions in them and finally fill the missing values in `Age`. \n",
    "Some steps might not show any error message but they will give wrong output which is also an error.\n"
   ]
  },
  {
   "cell_type": "markdown",
   "id": "af1282f5",
   "metadata": {},
   "source": [
    "### Load the dataset \n",
    "\n",
    " - Run the cell below and see the error message\n",
    " - Correct the error(s) and run cell again"
   ]
  },
  {
   "cell_type": "code",
   "execution_count": 3,
   "id": "bc5088b9",
   "metadata": {},
   "outputs": [],
   "source": [
    "import pandas as pd\n",
    "\n",
    "titanic= pd.read_csv(\"../../datasets/train_titanic\") "
   ]
  },
  {
   "cell_type": "markdown",
   "id": "e55cd584",
   "metadata": {},
   "source": [
    "- Run the cell below:\n"
   ]
  },
  {
   "cell_type": "code",
   "execution_count": null,
   "id": "c3035cac",
   "metadata": {},
   "outputs": [],
   "source": [
    "titanic.head()"
   ]
  },
  {
   "cell_type": "markdown",
   "id": "684f3852",
   "metadata": {},
   "source": [
    "### Find out the missing values in `Age` column\n",
    "\n",
    " - Run the cell below and see the error message\n",
    " - Correct the error(s) and run cell again"
   ]
  },
  {
   "cell_type": "code",
   "execution_count": null,
   "id": "c42a36fd",
   "metadata": {},
   "outputs": [],
   "source": [
    "titanic.sum()  "
   ]
  },
  {
   "cell_type": "markdown",
   "id": "fde70f68",
   "metadata": {},
   "source": [
    "### Look at `Age` data distribution:\n",
    "\n",
    " - Run the cell below and see the error message\n",
    " - Correct the error(s) and run cell again"
   ]
  },
  {
   "cell_type": "code",
   "execution_count": null,
   "id": "110a6ea7",
   "metadata": {},
   "outputs": [],
   "source": [
    "import plotly.express as px\n",
    "\n",
    "fig= histogram(x='Age', nbins=50)  \n",
    "\n",
    "fig.show()"
   ]
  },
  {
   "cell_type": "markdown",
   "id": "0bde6e69",
   "metadata": {},
   "source": [
    "#### Q. How does the distribution look like (normal/skewed)?\n",
    "\n",
    "**(Answer here)**"
   ]
  },
  {
   "cell_type": "markdown",
   "id": "41ae8d2a",
   "metadata": {},
   "source": [
    "### Fillup the missing values based on distribution:\n",
    "\n",
    " - Run the cell below and see the error message\n",
    " - Correct the error(s) and run cell again"
   ]
  },
  {
   "cell_type": "code",
   "execution_count": null,
   "id": "44bfe026",
   "metadata": {},
   "outputs": [],
   "source": [
    "titanic['Age'].fillna(titanic['Age'], inplace=True) "
   ]
  },
  {
   "cell_type": "markdown",
   "id": "4e2c672a",
   "metadata": {},
   "source": [
    "### Check if there are null values remaining in the `age` data.\n",
    "\n",
    " - Run the cell below"
   ]
  },
  {
   "cell_type": "code",
   "execution_count": null,
   "id": "e02f109e",
   "metadata": {},
   "outputs": [],
   "source": [
    "titanic.isnull().sum() "
   ]
  },
  {
   "cell_type": "code",
   "execution_count": null,
   "id": "1aebcb94",
   "metadata": {},
   "outputs": [],
   "source": []
  }
 ],
 "metadata": {
  "kernelspec": {
   "display_name": "Python 3",
   "language": "python",
   "name": "python3"
  },
  "language_info": {
   "codemirror_mode": {
    "name": "ipython",
    "version": 3
   },
   "file_extension": ".py",
   "mimetype": "text/x-python",
   "name": "python",
   "nbconvert_exporter": "python",
   "pygments_lexer": "ipython3",
   "version": "3.7.12"
  }
 },
 "nbformat": 4,
 "nbformat_minor": 5
}
