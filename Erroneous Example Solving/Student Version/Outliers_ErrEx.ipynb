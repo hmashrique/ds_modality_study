{
 "cells": [
  {
   "cell_type": "markdown",
   "id": "e57500d2-3980-49c2-b790-11fc8d752e8d",
   "metadata": {},
   "source": [
    "# Problem solving objective:\n",
    "\n",
    "- get data from dataset (learning goal 1)\n",
    "- visualize outliers using strip plot, boxplots\n",
    "- detect outliers from distribution spread\n",
    "- find out the outlier boundaries using interquartile range\n",
    "- find the outlier points\n",
    "- outlier clipping\n",
    "- compare with visualization before and after outlier removal\n",
    "\n",
    "\n",
    "## problem types:\n",
    "\n",
    "for each learning goal, set a problem as a scenario and ask students to write code and explain their solution.\n",
    "\n",
    "For goal 1, a given problem statement would be : \"we want to analyze data from patients datasets to classify diseases. For this we need to get the data from a csv source. How do we achieve this step?\"\n",
    "\n",
    "Ex: read baseball.csv data into dataframe \n",
    "\n",
    "for goal 2, we have a dataset named test.csv. the dataset is stored under variable \"testdata\". In the test  dataset, we want to find out if the feature \"income\" contains outliers or not. Try to visualize the income feature data and explain if there are probable outliers.\n",
    "\n",
    "for goal 3, a dataset \"test2.csv\" is saved in variable \"data2\". the data2 data has a feature \"budget\". We want to approximate outliers existence in the \"budget\" feature by its numerical distribution. How do we acheive this step?\n"
   ]
  },
  {
   "cell_type": "markdown",
   "id": "6642e36e",
   "metadata": {},
   "source": [
    "## Problem Description\n",
    "\n",
    "In this problem, we have a dataset about students admisson  named `college_admissions.csv`. The dataset is a classification dataset which determines if a student can get admission based on their `gre,gpa and rank`. In the dataset, feature `gre` contains outlier data which we need to remove.\n",
    "\n",
    "In this problem, the solution steps are given but each step contains some errors in them(some steps may not have any error). We have to correct the errors in each step and move on to the next in order completely remove the outliers from `gre` feature.\n",
    "\n",
    "For each step given below, follow the instructions in them and move on to the next one to finally remove the outliers from `gre` column and see the results.\n",
    "Some steps might not show any error message but they will give an unexpected output which is also an error.\n",
    "\n",
    "\n"
   ]
  },
  {
   "cell_type": "markdown",
   "id": "eb294c06",
   "metadata": {},
   "source": [
    "## Loading the dataset:"
   ]
  },
  {
   "cell_type": "markdown",
   "id": "ad5cde3b",
   "metadata": {},
   "source": [
    "Lets load the `college_admissions.csv` dataset first.\n",
    "\n",
    "<html>\n",
    "\n",
    "<head>\n",
    "\t<meta charset=\"UTF-8\">\n",
    "</head>\n",
    "\n",
    "<body>\n",
    "\n",
    "<ul>\n",
    "  <li>Run the cell below and see the error message <span> 🛑 </span> </li>\n",
    "  <li>Correct the error(s) and run cell again</li>\n",
    "</ul>\n",
    "    \n",
    "</body>\n",
    "\n",
    "</html>"
   ]
  },
  {
   "cell_type": "code",
   "execution_count": null,
   "id": "258ff071",
   "metadata": {},
   "outputs": [],
   "source": [
    "import pandas as pd\n",
    "\n",
    "gredata= read_csv(\"../../datasets/binary_outliers.csv\") "
   ]
  },
  {
   "cell_type": "markdown",
   "id": "8e91ddaf",
   "metadata": {},
   "source": [
    "\n",
    "<html>\n",
    "<head>\n",
    "\t<meta charset=\"UTF-8\">\n",
    "</head>\n",
    "\n",
    "<body>\n",
    "\t<p>Lets see whats inside the `gredata` variable. <span> 🧐 </span> </p>\n",
    "    <ul>\n",
    "      <li>Run the cell below <span> ✅ </span> </li>     \n",
    "    </ul>\n",
    "    \n",
    "    \n",
    "</body>\n",
    "\n",
    "</html>\n",
    "\n",
    "\n"
   ]
  },
  {
   "cell_type": "code",
   "execution_count": null,
   "id": "223326cf",
   "metadata": {},
   "outputs": [],
   "source": [
    "gredata "
   ]
  },
  {
   "cell_type": "markdown",
   "id": "b937eab4",
   "metadata": {},
   "source": [
    "#### Where did we store our csv data in?\n",
    "(Type answer here)"
   ]
  },
  {
   "cell_type": "markdown",
   "id": "4d5d102e",
   "metadata": {},
   "source": [
    "## Check for Outliers in the `gre` data"
   ]
  },
  {
   "cell_type": "markdown",
   "id": "cf50f87b",
   "metadata": {},
   "source": [
    "Now lets check if there exists any outliers in the `gre` data. Lets plot a strip plot to observe if any outliers are present in `gre`.\n",
    "\n",
    "<html>\n",
    "\n",
    "<head>\n",
    "\t<meta charset=\"UTF-8\">\n",
    "</head>\n",
    "\n",
    "<body>\n",
    "\n",
    "<ul>\n",
    "  <li>Run the cell below and see the error message <span> 🛑 </span> </li>\n",
    "  <li>Correct the error(s) and run cell again</li>\n",
    "</ul>\n",
    "    \n",
    "</body>\n",
    "\n",
    "</html>"
   ]
  },
  {
   "cell_type": "code",
   "execution_count": null,
   "id": "ec3f515d",
   "metadata": {},
   "outputs": [],
   "source": [
    "import plotly.express as px\n",
    "\n",
    "fig= px.strip(, y='gre') \n",
    "\n",
    "fig.show()\n"
   ]
  },
  {
   "cell_type": "markdown",
   "id": "b49aadb3",
   "metadata": {},
   "source": [
    "#### What is the maximum value in this plot?\n",
    "(Type answer here)"
   ]
  },
  {
   "cell_type": "markdown",
   "id": "7c7f51da",
   "metadata": {},
   "source": [
    "We have observed that there are outliers in the `gre` data. Now lets observe the outliers in a boxplot.\n",
    "\n",
    "<html>\n",
    "\n",
    "<head>\n",
    "\t<meta charset=\"UTF-8\">\n",
    "</head>\n",
    "\n",
    "<body>\n",
    "\n",
    "<ul>\n",
    "  <li>Run the cell below and see the error message <span> 🛑 </span> </li>\n",
    "  <li>Correct the error(s) and run cell again</li>\n",
    "</ul>\n",
    "    \n",
    "</body>\n",
    "\n",
    "</html>\n",
    " "
   ]
  },
  {
   "cell_type": "code",
   "execution_count": null,
   "id": "18c13bd4",
   "metadata": {},
   "outputs": [],
   "source": [
    "box1= boxplot(column='gpa', figsize=(20,5), fontsize='20', vert=False) \n",
    "\n",
    "box1"
   ]
  },
  {
   "cell_type": "markdown",
   "id": "2e983fa7",
   "metadata": {},
   "source": [
    "From the boxplot we got, where do the outliers apprximately lie?\n",
    "\n",
    "(Type answer here)"
   ]
  },
  {
   "cell_type": "markdown",
   "id": "a78cb27c",
   "metadata": {},
   "source": [
    "## Look at the `gre` distribution by numbers:\n",
    "\n",
    "\n",
    "<html>\n",
    "<head>\n",
    "\t<meta charset=\"UTF-8\">\n",
    "</head>\n",
    "\n",
    "<body>\n",
    "\t<p>Lets see the numerical distribution of `gre` data.</p>\n",
    "    <ul>\n",
    "      <li>Run the cell below <span> ✅ </span> </li>     \n",
    "    </ul>\n",
    "    \n",
    "    \n",
    "</body>\n",
    "\n",
    "</html>\n",
    "\n"
   ]
  },
  {
   "cell_type": "code",
   "execution_count": null,
   "id": "25737451",
   "metadata": {},
   "outputs": [],
   "source": [
    "gredata['gre'].describe()"
   ]
  },
  {
   "cell_type": "markdown",
   "id": "9ff720ca",
   "metadata": {},
   "source": [
    "## Find the outlier points:"
   ]
  },
  {
   "cell_type": "markdown",
   "id": "4256bdc9",
   "metadata": {},
   "source": [
    "Now that we have confirmed outliers in the `gre` data, our next task is to find the outlier points using the interquartile range. For that, first, lets find the Q1 and Q3 points."
   ]
  },
  {
   "cell_type": "markdown",
   "id": "fdde091b",
   "metadata": {},
   "source": [
    "<html>\n",
    "\n",
    "<head>\n",
    "\t<meta charset=\"UTF-8\">\n",
    "</head>\n",
    "\n",
    "<body>\n",
    "\n",
    "<ul>\n",
    "    <li>Run the cell below (NOTE: it will give an incorrect output <span> ⚠️ </span>)</li>\n",
    "    <li>Find the mistake in the code</li>\n",
    "    <li>Correct it and run cell again</li>\n",
    "</ul>\n",
    "    \n",
    "</body>\n",
    "\n",
    "</html>\n",
    "\n",
    " "
   ]
  },
  {
   "cell_type": "code",
   "execution_count": null,
   "id": "768e6211",
   "metadata": {},
   "outputs": [],
   "source": [
    "q1= gredata['gre'].quantile()\n",
    "\n",
    "print(f\"q1: {q1}\")"
   ]
  },
  {
   "cell_type": "markdown",
   "id": "76fc8010",
   "metadata": {},
   "source": [
    "<html>\n",
    "\n",
    "<head>\n",
    "\t<meta charset=\"UTF-8\">\n",
    "</head>\n",
    "\n",
    "<body>\n",
    "\n",
    "<ul>\n",
    "    <li>Run the cell below (NOTE: it will give an incorrect output <span> ⚠️ </span>)</li>\n",
    "    <li>Find the mistake in the code</li>\n",
    "    <li>Correct it and run cell again</li>\n",
    "</ul>\n",
    "    \n",
    "</body>\n",
    "\n",
    "</html>"
   ]
  },
  {
   "cell_type": "code",
   "execution_count": null,
   "id": "b095e792",
   "metadata": {},
   "outputs": [],
   "source": [
    "q3= gredata['gre'].quantile(.60)\n",
    "\n",
    "print(f\"q3: {q3}\")"
   ]
  },
  {
   "cell_type": "markdown",
   "id": "6f447bda",
   "metadata": {},
   "source": [
    "From the `q1` and `q3` points , we find out the interquartile range. "
   ]
  },
  {
   "cell_type": "markdown",
   "id": "f5f87107",
   "metadata": {},
   "source": [
    "<html>\n",
    "\n",
    "<head>\n",
    "\t<meta charset=\"UTF-8\">\n",
    "</head>\n",
    "\n",
    "<body>\n",
    "\n",
    "<ul>\n",
    "  <li>Run the cell below and see the error message <span> 🛑 </span> </li>\n",
    "  <li>Correct the error(s) and run cell again</li>\n",
    "</ul>\n",
    "    \n",
    "</body>\n",
    "\n",
    "</html>\n",
    " \n",
    " \n",
    " "
   ]
  },
  {
   "cell_type": "code",
   "execution_count": null,
   "id": "795c1561",
   "metadata": {},
   "outputs": [],
   "source": [
    "iqr= q2 - q3 \n",
    "\n",
    "print(f\"iqr: {iqr}\")"
   ]
  },
  {
   "cell_type": "markdown",
   "id": "c79cff77",
   "metadata": {},
   "source": [
    "Now, we have our interquartile range. Using this, lets find out the bounds for our outlier points."
   ]
  },
  {
   "cell_type": "markdown",
   "id": "27f640b9",
   "metadata": {},
   "source": [
    "<html>\n",
    "\n",
    "<head>\n",
    "\t<meta charset=\"UTF-8\">\n",
    "</head>\n",
    "\n",
    "<body>\n",
    "\n",
    "<ul>\n",
    "    <li>Run the cell below (NOTE: it will give an incorrect output <span> ⚠️ </span>)</li>\n",
    "    <li>Find the mistake in the code</li>\n",
    "    <li>Correct it and run cell again</li>\n",
    "</ul>\n",
    "    \n",
    "</body>\n",
    "\n",
    "</html>"
   ]
  },
  {
   "cell_type": "code",
   "execution_count": null,
   "id": "ce272a8f",
   "metadata": {},
   "outputs": [],
   "source": [
    "upper_bound= q1 + 1.5*iqr\n",
    "\n",
    "lower_bound= q3 - 1.5*iqr\n",
    "\n",
    "print(\"upper bound\",upper_bound)\n",
    "print(\"lower bound\",lower_bound)"
   ]
  },
  {
   "cell_type": "markdown",
   "id": "92ab2fb1",
   "metadata": {},
   "source": [
    "From our bounds for outlier data, we find out the outlier points which will be our clipping points for `gre` data."
   ]
  },
  {
   "cell_type": "markdown",
   "id": "1abbeb63",
   "metadata": {},
   "source": [
    "<html>\n",
    "\n",
    "<head>\n",
    "\t<meta charset=\"UTF-8\">\n",
    "</head>\n",
    "\n",
    "<body>\n",
    "\n",
    "<ul>\n",
    "    <li>Run the cell below (NOTE: it will give an incorrect output <span> ⚠️ </span>)</li>\n",
    "    <li>Find the mistake in the code</li>\n",
    "    <li>Correct it and run cell again</li>\n",
    "</ul>\n",
    "    \n",
    "</body>\n",
    "\n",
    "</html>"
   ]
  },
  {
   "cell_type": "code",
   "execution_count": null,
   "id": "f1c72f03",
   "metadata": {},
   "outputs": [],
   "source": [
    "lower_point= max(upper_bound, gredata['gre'].max())\n",
    "\n",
    "print(\"lower_point\", lower_point)\n",
    "\n",
    "upper_point= min(upper_bound, gredata['gre'].min()) \n",
    "\n",
    "print(\"upper_point\", upper_point)"
   ]
  },
  {
   "cell_type": "markdown",
   "id": "8d24ac69",
   "metadata": {},
   "source": [
    "## Clip the Outliers:"
   ]
  },
  {
   "cell_type": "markdown",
   "id": "19fee88c",
   "metadata": {},
   "source": [
    "## add stuff"
   ]
  },
  {
   "cell_type": "markdown",
   "id": "abd589d4",
   "metadata": {},
   "source": [
    "\n",
    " \n",
    "<html>\n",
    "\n",
    "<head>\n",
    "\t<meta charset=\"UTF-8\">\n",
    "</head>\n",
    "\n",
    "<body>\n",
    "\n",
    "<ul>\n",
    "    <li>See the code cell below ( Dont run at first <span> 🚫 </span>)</li>\n",
    "    <li>Find the mistake in the code</li>\n",
    "    <li>Correct the error(s) and run the cell</li>\n",
    "</ul>\n",
    "    \n",
    "</body>\n",
    "\n",
    "</html> "
   ]
  },
  {
   "cell_type": "code",
   "execution_count": null,
   "id": "d895b9a1",
   "metadata": {},
   "outputs": [],
   "source": [
    "gredata['gre']= gredata['gre'].clip(upper_bound,lower_point)  "
   ]
  },
  {
   "cell_type": "markdown",
   "id": "a3ef6bd1",
   "metadata": {},
   "source": [
    "## Check `gre` values distribution after clipping\n",
    "\n",
    " \n",
    "<html>\n",
    "<head>\n",
    "\t<meta charset=\"UTF-8\">\n",
    "</head>\n",
    "\n",
    "<body>\n",
    "\t<p>Lets check the numerical distribution after clipping our `gre` data.</p>\n",
    "    <ul>\n",
    "      <li>Run the cell below <span> ✅ </span> </li>     \n",
    "    </ul>\n",
    "    \n",
    "    \n",
    "</body>\n",
    "\n",
    "</html>\n",
    "\n",
    "\n",
    " "
   ]
  },
  {
   "cell_type": "code",
   "execution_count": null,
   "id": "1c51426e",
   "metadata": {},
   "outputs": [],
   "source": [
    "gredata['gre'].describe()"
   ]
  },
  {
   "cell_type": "markdown",
   "id": "291f2431",
   "metadata": {},
   "source": [
    "## Distribution of `gre` after clipping data\n",
    "\n",
    "<html>\n",
    "\n",
    "<head>\n",
    "\t<meta charset=\"UTF-8\">\n",
    "</head>\n",
    "\n",
    "<body>\n",
    "\n",
    "<ul>\n",
    "  <li>Run the cell below and see the error message <span> 🛑 </span> </li>\n",
    "  <li>Correct the error(s) and run cell again</li>\n",
    "</ul>\n",
    "    \n",
    "</body>\n",
    "\n",
    "</html>"
   ]
  },
  {
   "cell_type": "code",
   "execution_count": null,
   "id": "4724a0d7",
   "metadata": {},
   "outputs": [],
   "source": [
    "fig= px.strip('gre') \n",
    "\n",
    "fig.show()"
   ]
  },
  {
   "cell_type": "markdown",
   "id": "13a34a3b",
   "metadata": {},
   "source": [
    "### What is the minimum value of this plot?\n",
    "\n",
    "(type answer here)"
   ]
  },
  {
   "cell_type": "markdown",
   "id": "650d46cf",
   "metadata": {},
   "source": [
    "\n",
    " <html>\n",
    "\n",
    "<head>\n",
    "\t<meta charset=\"UTF-8\">\n",
    "</head>\n",
    "\n",
    "<body>\n",
    "\n",
    "<ul>\n",
    "    <li>Run the cell below (NOTE: it will give an incorrect output <span> ⚠️ </span>)</li>\n",
    "    <li>Find the mistake in the code</li>\n",
    "    <li>Correct it and run cell again</li>\n",
    "</ul>\n",
    "    \n",
    "</body>\n",
    "\n",
    "</html>"
   ]
  },
  {
   "cell_type": "code",
   "execution_count": null,
   "id": "92c51d35",
   "metadata": {},
   "outputs": [],
   "source": [
    "box2= gredata.boxplot(column='rank', figsize=(10,5), fontsize='8', vert=False)\n",
    "box2"
   ]
  }
 ],
 "metadata": {
  "kernelspec": {
   "display_name": "Python 3 (ipykernel)",
   "language": "python",
   "name": "python3"
  },
  "language_info": {
   "codemirror_mode": {
    "name": "ipython",
    "version": 3
   },
   "file_extension": ".py",
   "mimetype": "text/x-python",
   "name": "python",
   "nbconvert_exporter": "python",
   "pygments_lexer": "ipython3",
   "version": "3.9.16"
  }
 },
 "nbformat": 4,
 "nbformat_minor": 5
}
