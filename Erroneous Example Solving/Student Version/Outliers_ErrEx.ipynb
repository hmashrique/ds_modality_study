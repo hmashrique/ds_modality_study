{
 "cells": [
  {
   "cell_type": "markdown",
   "id": "f29b1b46",
   "metadata": {},
   "source": [
    "## Problem Description\n",
    "\n",
    "In this problem, we have a dataset about students admisson  named `college_admissions.csv`. The dataset is a classification dataset which determines if a student can get admission based on their `gre,gpa and rank`. In the dataset, feature `gre` contains outlier data which we need to remove.\n",
    "\n",
    "In this problem, the solution steps are given but each step contains some errors in them(some steps may not have any error). We have to correct the errors in each step and move on to the next in order completely remove the outliers from `gre` feature.\n",
    "\n",
    "For each step given below, follow the instructions in them and move on to the next one to finally remove the outliers from `gre` column and see the results.\n",
    "Some steps might not show any error message but they will give an unexpected output which is also an error.\n",
    "\n",
    "\n"
   ]
  },
  {
   "cell_type": "markdown",
   "id": "5d63ad7f",
   "metadata": {},
   "source": [
    "#### Loading the dataset:\n",
    "\n",
    "Lets load the `college_admissions.csv` dataset first.\n",
    "\n",
    "<html>\n",
    "\n",
    "<head>\n",
    "\t<meta charset=\"UTF-8\">\n",
    "</head>\n",
    "\n",
    "<body>\n",
    "\n",
    "<ul>\n",
    "  <li>Run the cell below and see the error message <span> 🛑 </span> </li>\n",
    "  <li>Correct the error(s) and run cell again</li>\n",
    "</ul>\n",
    "    \n",
    "</body>\n",
    "\n",
    "</html>\n"
   ]
  },
  {
   "cell_type": "code",
   "execution_count": null,
   "id": "8ac9500a",
   "metadata": {},
   "outputs": [],
   "source": [
    "import pandas as pd\n",
    "\n",
    "gredata= read_csv(\"../datasets/college_admissions.csv\") "
   ]
  },
  {
   "cell_type": "markdown",
   "id": "5f25d749",
   "metadata": {},
   "source": [
    "\n",
    "<html>\n",
    "<head>\n",
    "\t<meta charset=\"UTF-8\">\n",
    "</head>\n",
    "\n",
    "<body>\n",
    "\t<p>Lets see whats inside the `gredata` variable. <span> 🧐 </span> </p>\n",
    "    <ul>\n",
    "      <li>Run the cell below <span> ✅ </span> </li>     \n",
    "    </ul>\n",
    "    \n",
    "    \n",
    "</body>\n",
    "\n",
    "</html>\n",
    "\n",
    "\n"
   ]
  },
  {
   "cell_type": "code",
   "execution_count": null,
   "id": "e07aa621",
   "metadata": {},
   "outputs": [],
   "source": [
    "gredata "
   ]
  },
  {
   "cell_type": "markdown",
   "id": "e516faf6",
   "metadata": {},
   "source": [
    "#### Where did we store our csv data in?\n",
    "(Type answer here)"
   ]
  },
  {
   "cell_type": "markdown",
   "id": "bb944db2",
   "metadata": {},
   "source": [
    "## Check for Outliers in the `gre` data"
   ]
  },
  {
   "cell_type": "markdown",
   "id": "f10da5de",
   "metadata": {},
   "source": [
    "### Plot a strip plot to check for outliers\n",
    "\n",
    "Now lets check if there exists any outliers in the `gre` data. Lets plot a strip plot to observe if any outliers are present in `gre`.\n",
    "\n",
    "<html>\n",
    "\n",
    "<head>\n",
    "\t<meta charset=\"UTF-8\">\n",
    "</head>\n",
    "\n",
    "<body>\n",
    "\n",
    "<ul>\n",
    "  <li>Run the cell below and see the error message <span> 🛑 </span> </li>\n",
    "  <li>Correct the error(s) and run cell again</li>\n",
    "</ul>\n",
    "    \n",
    "</body>\n",
    "\n",
    "</html>"
   ]
  },
  {
   "cell_type": "code",
   "execution_count": null,
   "id": "1108b0a1",
   "metadata": {},
   "outputs": [],
   "source": [
    "import plotly.express as px\n",
    "\n",
    "fig= px.strip(y='gre') \n",
    "\n",
    "fig.show()\n"
   ]
  },
  {
   "cell_type": "markdown",
   "id": "6f71af6e",
   "metadata": {},
   "source": [
    "#### What is the maximum value in this plot?\n",
    "(Type answer here)"
   ]
  },
  {
   "cell_type": "markdown",
   "id": "fa7d2797",
   "metadata": {},
   "source": [
    "### Plot a boxplot for `gre` outlier estimation\n",
    "\n",
    "We have observed that there are outliers in the `gre` data. Now lets observe the outliers in a boxplot.\n",
    "\n",
    "<html>\n",
    "\n",
    "<head>\n",
    "\t<meta charset=\"UTF-8\">\n",
    "</head>\n",
    "\n",
    "<body>\n",
    "\n",
    "<ul>\n",
    "  <li>Run the cell below and see the error message <span> 🛑 </span> </li>\n",
    "  <li>Correct the error(s) and run cell again</li>\n",
    "</ul>\n",
    "    \n",
    "</body>\n",
    "\n",
    "</html>\n",
    " "
   ]
  },
  {
   "cell_type": "code",
   "execution_count": null,
   "id": "5a4d4b81",
   "metadata": {},
   "outputs": [],
   "source": [
    "box1= boxplot(column='gpa', figsize=(20,5), fontsize='20', vert=False) \n",
    "\n",
    "box1"
   ]
  },
  {
   "cell_type": "markdown",
   "id": "1569afba",
   "metadata": {},
   "source": [
    "From the boxplot we got, where do the outliers apprximately lie?\n",
    "\n",
    "(Type answer here)"
   ]
  },
  {
   "cell_type": "markdown",
   "id": "69a8b09e",
   "metadata": {},
   "source": [
    "### Use `describe()` for `gre` distribution by numbers:\n",
    "\n",
    "\n",
    "<html>\n",
    "<head>\n",
    "\t<meta charset=\"UTF-8\">\n",
    "</head>\n",
    "\n",
    "<body>\n",
    "\t<p>Lets see the numerical distribution of `gre` data.</p>\n",
    "    <ul>\n",
    "      <li>Run the cell below <span> ✅ </span> </li>     \n",
    "    </ul>\n",
    "    \n",
    "    \n",
    "</body>\n",
    "\n",
    "</html>\n",
    "\n"
   ]
  },
  {
   "cell_type": "code",
   "execution_count": null,
   "id": "8bbb6395",
   "metadata": {},
   "outputs": [],
   "source": [
    "gredata['gre'].describe()"
   ]
  },
  {
   "cell_type": "markdown",
   "id": "b7c36308",
   "metadata": {},
   "source": [
    "## Find the outlier points:"
   ]
  },
  {
   "cell_type": "markdown",
   "id": "c63c9b47",
   "metadata": {},
   "source": [
    "### Find the upper and lower bounds:\n",
    "\n"
   ]
  },
  {
   "cell_type": "markdown",
   "id": "8392415d",
   "metadata": {},
   "source": [
    "### Calculating Q1:"
   ]
  },
  {
   "cell_type": "markdown",
   "id": "c2004124",
   "metadata": {},
   "source": [
    "<html>\n",
    "\n",
    "<head>\n",
    "\t<meta charset=\"UTF-8\">\n",
    "</head>\n",
    "\n",
    "<body>\n",
    "\n",
    "<ul>\n",
    "    <li>Run the cell below (NOTE: it will give an incorrect output <span> ⚠️ </span>)</li>\n",
    "    <li>Find the mistake in the code</li>\n",
    "    <li>Correct it and run cell again</li>\n",
    "</ul>\n",
    "    \n",
    "</body>\n",
    "\n",
    "</html>\n",
    "\n",
    " "
   ]
  },
  {
   "cell_type": "code",
   "execution_count": null,
   "id": "a6413354",
   "metadata": {},
   "outputs": [],
   "source": [
    "q1= gredata['gre'].quantile()\n",
    "\n",
    "print(f\"q1: {q1}\")"
   ]
  },
  {
   "cell_type": "markdown",
   "id": "482c5432",
   "metadata": {},
   "source": [
    "### Calculating Q3:"
   ]
  },
  {
   "cell_type": "markdown",
   "id": "390c4b49",
   "metadata": {},
   "source": [
    "<html>\n",
    "\n",
    "<head>\n",
    "\t<meta charset=\"UTF-8\">\n",
    "</head>\n",
    "\n",
    "<body>\n",
    "\n",
    "<ul>\n",
    "    <li>Run the cell below (NOTE: it will give an incorrect output <span> ⚠️ </span>)</li>\n",
    "    <li>Find the mistake in the code</li>\n",
    "    <li>Correct it and run cell again</li>\n",
    "</ul>\n",
    "    \n",
    "</body>\n",
    "\n",
    "</html>"
   ]
  },
  {
   "cell_type": "code",
   "execution_count": null,
   "id": "bdbcac4d",
   "metadata": {},
   "outputs": [],
   "source": [
    "q3= gredata['gre'].quantile(.60)\n",
    "\n",
    "print(f\"q3: {q3}\")"
   ]
  },
  {
   "cell_type": "markdown",
   "id": "ab5a806c",
   "metadata": {},
   "source": [
    "### Find the interquartile range:\n",
    "\n",
    "<html>\n",
    "\n",
    "<head>\n",
    "\t<meta charset=\"UTF-8\">\n",
    "</head>\n",
    "\n",
    "<body>\n",
    "\n",
    "<ul>\n",
    "  <li>Run the cell below and see the error message <span> 🛑 </span> </li>\n",
    "  <li>Correct the error(s) and run cell again</li>\n",
    "</ul>\n",
    "    \n",
    "</body>\n",
    "\n",
    "</html>\n",
    " \n",
    " \n",
    " "
   ]
  },
  {
   "cell_type": "code",
   "execution_count": null,
   "id": "06828cb0",
   "metadata": {},
   "outputs": [],
   "source": [
    "iqr= q2 - q3 \n",
    "\n",
    "print(f\"iqr: {iqr}\")"
   ]
  },
  {
   "cell_type": "markdown",
   "id": "6075a60e",
   "metadata": {},
   "source": [
    "### Calculate the upper and lower bound for outliers:\n",
    "\n"
   ]
  },
  {
   "cell_type": "markdown",
   "id": "bfa81b23",
   "metadata": {},
   "source": [
    "<html>\n",
    "\n",
    "<head>\n",
    "\t<meta charset=\"UTF-8\">\n",
    "</head>\n",
    "\n",
    "<body>\n",
    "\n",
    "<ul>\n",
    "    <li>Run the cell below (NOTE: it will give an incorrect output <span> ⚠️ </span>)</li>\n",
    "    <li>Find the mistake in the code</li>\n",
    "    <li>Correct it and run cell again</li>\n",
    "</ul>\n",
    "    \n",
    "</body>\n",
    "\n",
    "</html>"
   ]
  },
  {
   "cell_type": "code",
   "execution_count": null,
   "id": "6316e4ea",
   "metadata": {},
   "outputs": [],
   "source": [
    "upper_bound= q1 + 1.5*iqr\n",
    "\n",
    "lower_bound= q3 - 1.5*iqr\n",
    "\n",
    "print(\"upper bound\",upper_bound)\n",
    "print(\"lower bound\",lower_bound)"
   ]
  },
  {
   "cell_type": "markdown",
   "id": "388aa027",
   "metadata": {},
   "source": [
    "### Clipping points:\n"
   ]
  },
  {
   "cell_type": "markdown",
   "id": "f0fb7909",
   "metadata": {},
   "source": [
    "<html>\n",
    "\n",
    "<head>\n",
    "\t<meta charset=\"UTF-8\">\n",
    "</head>\n",
    "\n",
    "<body>\n",
    "\n",
    "<ul>\n",
    "    <li>Run the cell below (NOTE: it will give an incorrect output <span> ⚠️ </span>)</li>\n",
    "    <li>Find the mistake in the code</li>\n",
    "    <li>Correct it and run cell again</li>\n",
    "</ul>\n",
    "    \n",
    "</body>\n",
    "\n",
    "</html>"
   ]
  },
  {
   "cell_type": "code",
   "execution_count": null,
   "id": "9f027ea9",
   "metadata": {},
   "outputs": [],
   "source": [
    "lower_point= max(upper_bound, gredata['gre'].max())\n",
    "\n",
    "print(\"lower_point\", lower_point)\n",
    "\n",
    "upper_point= min(upper_bound, gredata['gre'].min()) \n",
    "\n",
    "print(\"upper_point\", upper_point)"
   ]
  },
  {
   "cell_type": "markdown",
   "id": "3a79b54f",
   "metadata": {},
   "source": [
    "## Clip the Outliers:"
   ]
  },
  {
   "cell_type": "markdown",
   "id": "2c9ec65f",
   "metadata": {},
   "source": [
    "### Clip `price` data with lower and upper limit:\n"
   ]
  },
  {
   "cell_type": "markdown",
   "id": "516a8b03",
   "metadata": {},
   "source": [
    "\n",
    " \n",
    "<html>\n",
    "\n",
    "<head>\n",
    "\t<meta charset=\"UTF-8\">\n",
    "</head>\n",
    "\n",
    "<body>\n",
    "\n",
    "<ul>\n",
    "    <li>See the code cell below ( Dont run at first <span> 🚫 </span>)</li>\n",
    "    <li>Find the mistake in the code</li>\n",
    "    <li>Correct the error(s) and run the cell</li>\n",
    "</ul>\n",
    "    \n",
    "</body>\n",
    "\n",
    "</html> "
   ]
  },
  {
   "cell_type": "code",
   "execution_count": null,
   "id": "72dde974",
   "metadata": {},
   "outputs": [],
   "source": [
    "gredata['gre']= gredata['gre'].clip(upper_bound,lower_point)  "
   ]
  },
  {
   "cell_type": "markdown",
   "id": "470b66de",
   "metadata": {},
   "source": [
    "### Check `gre` distribution after clipping\n",
    "\n",
    " \n",
    "<html>\n",
    "<head>\n",
    "\t<meta charset=\"UTF-8\">\n",
    "</head>\n",
    "\n",
    "<body>\n",
    "\t<p>Lets check the numerical distribution after clipping our `gre` data.</p>\n",
    "    <ul>\n",
    "      <li>Run the cell below <span> ✅ </span> </li>     \n",
    "    </ul>\n",
    "    \n",
    "    \n",
    "</body>\n",
    "\n",
    "</html>\n",
    "\n",
    "\n",
    " "
   ]
  },
  {
   "cell_type": "code",
   "execution_count": null,
   "id": "6246fa1e",
   "metadata": {},
   "outputs": [],
   "source": [
    "gredata['gre'].describe()"
   ]
  },
  {
   "cell_type": "markdown",
   "id": "e8934015",
   "metadata": {},
   "source": [
    "## Distribution of `gre` after clipping data\n",
    "\n",
    "<html>\n",
    "\n",
    "<head>\n",
    "\t<meta charset=\"UTF-8\">\n",
    "</head>\n",
    "\n",
    "<body>\n",
    "\n",
    "<ul>\n",
    "  <li>Run the cell below and see the error message <span> 🛑 </span> </li>\n",
    "  <li>Correct the error(s) and run cell again</li>\n",
    "</ul>\n",
    "    \n",
    "</body>\n",
    "\n",
    "</html>"
   ]
  },
  {
   "cell_type": "code",
   "execution_count": null,
   "id": "74232710",
   "metadata": {},
   "outputs": [],
   "source": [
    "fig= px.strip('gre') \n",
    "\n",
    "fig.show()"
   ]
  },
  {
   "cell_type": "markdown",
   "id": "6821f25b",
   "metadata": {},
   "source": [
    "### What is the minimum value of this plot?\n",
    "\n",
    "(type answer here)"
   ]
  },
  {
   "cell_type": "markdown",
   "id": "a68b03e4",
   "metadata": {},
   "source": [
    "\n",
    " <html>\n",
    "\n",
    "<head>\n",
    "\t<meta charset=\"UTF-8\">\n",
    "</head>\n",
    "\n",
    "<body>\n",
    "\n",
    "<ul>\n",
    "    <li>Run the cell below (NOTE: it will give an incorrect output <span> ⚠️ </span>)</li>\n",
    "    <li>Find the mistake in the code</li>\n",
    "    <li>Correct it and run cell again</li>\n",
    "</ul>\n",
    "    \n",
    "</body>\n",
    "\n",
    "</html>"
   ]
  },
  {
   "cell_type": "code",
   "execution_count": null,
   "id": "474dcccd",
   "metadata": {},
   "outputs": [],
   "source": [
    "box2= gredata.boxplot(column='rank', figsize=(10,5), fontsize='8', vert=False)\n",
    "box2"
   ]
  }
 ],
 "metadata": {
  "kernelspec": {
   "display_name": "Python 3",
   "language": "python",
   "name": "python3"
  },
  "language_info": {
   "codemirror_mode": {
    "name": "ipython",
    "version": 3
   },
   "file_extension": ".py",
   "mimetype": "text/x-python",
   "name": "python",
   "nbconvert_exporter": "python",
   "pygments_lexer": "ipython3",
   "version": "3.7.12"
  }
 },
 "nbformat": 4,
 "nbformat_minor": 5
}
