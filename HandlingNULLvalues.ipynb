{
 "cells": [
  {
   "cell_type": "markdown",
   "id": "8810f475",
   "metadata": {},
   "source": [
    "## Bangalore dataset exploration:"
   ]
  },
  {
   "cell_type": "markdown",
   "id": "a30a8c3f",
   "metadata": {},
   "source": [
    "## Handling NULL values :\n"
   ]
  },
  {
   "cell_type": "markdown",
   "id": "a339cf7b",
   "metadata": {},
   "source": [
    "#### Loading the dataset"
   ]
  },
  {
   "cell_type": "code",
   "execution_count": 1,
   "id": "44d6793a",
   "metadata": {},
   "outputs": [],
   "source": [
    "import pandas as pd"
   ]
  },
  {
   "cell_type": "code",
   "execution_count": 2,
   "id": "c3e7c0cd",
   "metadata": {},
   "outputs": [],
   "source": [
    "def display_all(df):\n",
    "  with pd.option_context('display.max_rows', None):\n",
    "    display(df)"
   ]
  },
  {
   "cell_type": "code",
   "execution_count": 3,
   "id": "246c2638",
   "metadata": {},
   "outputs": [
    {
     "ename": "FileNotFoundError",
     "evalue": "[Errno 2] No such file or directory: 'datasets/Bengaluru_House_Data.csv'",
     "output_type": "error",
     "traceback": [
      "\u001b[0;31m---------------------------------------------------------------------------\u001b[0m",
      "\u001b[0;31mFileNotFoundError\u001b[0m                         Traceback (most recent call last)",
      "\u001b[0;32m<ipython-input-3-bfd109983c50>\u001b[0m in \u001b[0;36m<module>\u001b[0;34m\u001b[0m\n\u001b[0;32m----> 1\u001b[0;31m \u001b[0mdf\u001b[0m\u001b[0;34m=\u001b[0m \u001b[0mpd\u001b[0m\u001b[0;34m.\u001b[0m\u001b[0mread_csv\u001b[0m\u001b[0;34m(\u001b[0m\u001b[0;34m\"datasets/Bengaluru_House_Data.csv\"\u001b[0m\u001b[0;34m)\u001b[0m\u001b[0;34m\u001b[0m\u001b[0;34m\u001b[0m\u001b[0m\n\u001b[0m\u001b[1;32m      2\u001b[0m \u001b[0mdf\u001b[0m\u001b[0;34m.\u001b[0m\u001b[0mhead\u001b[0m\u001b[0;34m(\u001b[0m\u001b[0;36m10\u001b[0m\u001b[0;34m)\u001b[0m\u001b[0;34m\u001b[0m\u001b[0;34m\u001b[0m\u001b[0m\n",
      "\u001b[0;32m/opt/tljh/user/lib/python3.7/site-packages/pandas/util/_decorators.py\u001b[0m in \u001b[0;36mwrapper\u001b[0;34m(*args, **kwargs)\u001b[0m\n\u001b[1;32m    309\u001b[0m                     \u001b[0mstacklevel\u001b[0m\u001b[0;34m=\u001b[0m\u001b[0mstacklevel\u001b[0m\u001b[0;34m,\u001b[0m\u001b[0;34m\u001b[0m\u001b[0;34m\u001b[0m\u001b[0m\n\u001b[1;32m    310\u001b[0m                 )\n\u001b[0;32m--> 311\u001b[0;31m             \u001b[0;32mreturn\u001b[0m \u001b[0mfunc\u001b[0m\u001b[0;34m(\u001b[0m\u001b[0;34m*\u001b[0m\u001b[0margs\u001b[0m\u001b[0;34m,\u001b[0m \u001b[0;34m**\u001b[0m\u001b[0mkwargs\u001b[0m\u001b[0;34m)\u001b[0m\u001b[0;34m\u001b[0m\u001b[0;34m\u001b[0m\u001b[0m\n\u001b[0m\u001b[1;32m    312\u001b[0m \u001b[0;34m\u001b[0m\u001b[0m\n\u001b[1;32m    313\u001b[0m         \u001b[0;32mreturn\u001b[0m \u001b[0mwrapper\u001b[0m\u001b[0;34m\u001b[0m\u001b[0;34m\u001b[0m\u001b[0m\n",
      "\u001b[0;32m/opt/tljh/user/lib/python3.7/site-packages/pandas/io/parsers/readers.py\u001b[0m in \u001b[0;36mread_csv\u001b[0;34m(filepath_or_buffer, sep, delimiter, header, names, index_col, usecols, squeeze, prefix, mangle_dupe_cols, dtype, engine, converters, true_values, false_values, skipinitialspace, skiprows, skipfooter, nrows, na_values, keep_default_na, na_filter, verbose, skip_blank_lines, parse_dates, infer_datetime_format, keep_date_col, date_parser, dayfirst, cache_dates, iterator, chunksize, compression, thousands, decimal, lineterminator, quotechar, quoting, doublequote, escapechar, comment, encoding, encoding_errors, dialect, error_bad_lines, warn_bad_lines, on_bad_lines, delim_whitespace, low_memory, memory_map, float_precision, storage_options)\u001b[0m\n\u001b[1;32m    584\u001b[0m     \u001b[0mkwds\u001b[0m\u001b[0;34m.\u001b[0m\u001b[0mupdate\u001b[0m\u001b[0;34m(\u001b[0m\u001b[0mkwds_defaults\u001b[0m\u001b[0;34m)\u001b[0m\u001b[0;34m\u001b[0m\u001b[0;34m\u001b[0m\u001b[0m\n\u001b[1;32m    585\u001b[0m \u001b[0;34m\u001b[0m\u001b[0m\n\u001b[0;32m--> 586\u001b[0;31m     \u001b[0;32mreturn\u001b[0m \u001b[0m_read\u001b[0m\u001b[0;34m(\u001b[0m\u001b[0mfilepath_or_buffer\u001b[0m\u001b[0;34m,\u001b[0m \u001b[0mkwds\u001b[0m\u001b[0;34m)\u001b[0m\u001b[0;34m\u001b[0m\u001b[0;34m\u001b[0m\u001b[0m\n\u001b[0m\u001b[1;32m    587\u001b[0m \u001b[0;34m\u001b[0m\u001b[0m\n\u001b[1;32m    588\u001b[0m \u001b[0;34m\u001b[0m\u001b[0m\n",
      "\u001b[0;32m/opt/tljh/user/lib/python3.7/site-packages/pandas/io/parsers/readers.py\u001b[0m in \u001b[0;36m_read\u001b[0;34m(filepath_or_buffer, kwds)\u001b[0m\n\u001b[1;32m    480\u001b[0m \u001b[0;34m\u001b[0m\u001b[0m\n\u001b[1;32m    481\u001b[0m     \u001b[0;31m# Create the parser.\u001b[0m\u001b[0;34m\u001b[0m\u001b[0;34m\u001b[0m\u001b[0;34m\u001b[0m\u001b[0m\n\u001b[0;32m--> 482\u001b[0;31m     \u001b[0mparser\u001b[0m \u001b[0;34m=\u001b[0m \u001b[0mTextFileReader\u001b[0m\u001b[0;34m(\u001b[0m\u001b[0mfilepath_or_buffer\u001b[0m\u001b[0;34m,\u001b[0m \u001b[0;34m**\u001b[0m\u001b[0mkwds\u001b[0m\u001b[0;34m)\u001b[0m\u001b[0;34m\u001b[0m\u001b[0;34m\u001b[0m\u001b[0m\n\u001b[0m\u001b[1;32m    483\u001b[0m \u001b[0;34m\u001b[0m\u001b[0m\n\u001b[1;32m    484\u001b[0m     \u001b[0;32mif\u001b[0m \u001b[0mchunksize\u001b[0m \u001b[0;32mor\u001b[0m \u001b[0miterator\u001b[0m\u001b[0;34m:\u001b[0m\u001b[0;34m\u001b[0m\u001b[0;34m\u001b[0m\u001b[0m\n",
      "\u001b[0;32m/opt/tljh/user/lib/python3.7/site-packages/pandas/io/parsers/readers.py\u001b[0m in \u001b[0;36m__init__\u001b[0;34m(self, f, engine, **kwds)\u001b[0m\n\u001b[1;32m    809\u001b[0m             \u001b[0mself\u001b[0m\u001b[0;34m.\u001b[0m\u001b[0moptions\u001b[0m\u001b[0;34m[\u001b[0m\u001b[0;34m\"has_index_names\"\u001b[0m\u001b[0;34m]\u001b[0m \u001b[0;34m=\u001b[0m \u001b[0mkwds\u001b[0m\u001b[0;34m[\u001b[0m\u001b[0;34m\"has_index_names\"\u001b[0m\u001b[0;34m]\u001b[0m\u001b[0;34m\u001b[0m\u001b[0;34m\u001b[0m\u001b[0m\n\u001b[1;32m    810\u001b[0m \u001b[0;34m\u001b[0m\u001b[0m\n\u001b[0;32m--> 811\u001b[0;31m         \u001b[0mself\u001b[0m\u001b[0;34m.\u001b[0m\u001b[0m_engine\u001b[0m \u001b[0;34m=\u001b[0m \u001b[0mself\u001b[0m\u001b[0;34m.\u001b[0m\u001b[0m_make_engine\u001b[0m\u001b[0;34m(\u001b[0m\u001b[0mself\u001b[0m\u001b[0;34m.\u001b[0m\u001b[0mengine\u001b[0m\u001b[0;34m)\u001b[0m\u001b[0;34m\u001b[0m\u001b[0;34m\u001b[0m\u001b[0m\n\u001b[0m\u001b[1;32m    812\u001b[0m \u001b[0;34m\u001b[0m\u001b[0m\n\u001b[1;32m    813\u001b[0m     \u001b[0;32mdef\u001b[0m \u001b[0mclose\u001b[0m\u001b[0;34m(\u001b[0m\u001b[0mself\u001b[0m\u001b[0;34m)\u001b[0m\u001b[0;34m:\u001b[0m\u001b[0;34m\u001b[0m\u001b[0;34m\u001b[0m\u001b[0m\n",
      "\u001b[0;32m/opt/tljh/user/lib/python3.7/site-packages/pandas/io/parsers/readers.py\u001b[0m in \u001b[0;36m_make_engine\u001b[0;34m(self, engine)\u001b[0m\n\u001b[1;32m   1038\u001b[0m             )\n\u001b[1;32m   1039\u001b[0m         \u001b[0;31m# error: Too many arguments for \"ParserBase\"\u001b[0m\u001b[0;34m\u001b[0m\u001b[0;34m\u001b[0m\u001b[0;34m\u001b[0m\u001b[0m\n\u001b[0;32m-> 1040\u001b[0;31m         \u001b[0;32mreturn\u001b[0m \u001b[0mmapping\u001b[0m\u001b[0;34m[\u001b[0m\u001b[0mengine\u001b[0m\u001b[0;34m]\u001b[0m\u001b[0;34m(\u001b[0m\u001b[0mself\u001b[0m\u001b[0;34m.\u001b[0m\u001b[0mf\u001b[0m\u001b[0;34m,\u001b[0m \u001b[0;34m**\u001b[0m\u001b[0mself\u001b[0m\u001b[0;34m.\u001b[0m\u001b[0moptions\u001b[0m\u001b[0;34m)\u001b[0m  \u001b[0;31m# type: ignore[call-arg]\u001b[0m\u001b[0;34m\u001b[0m\u001b[0;34m\u001b[0m\u001b[0m\n\u001b[0m\u001b[1;32m   1041\u001b[0m \u001b[0;34m\u001b[0m\u001b[0m\n\u001b[1;32m   1042\u001b[0m     \u001b[0;32mdef\u001b[0m \u001b[0m_failover_to_python\u001b[0m\u001b[0;34m(\u001b[0m\u001b[0mself\u001b[0m\u001b[0;34m)\u001b[0m\u001b[0;34m:\u001b[0m\u001b[0;34m\u001b[0m\u001b[0;34m\u001b[0m\u001b[0m\n",
      "\u001b[0;32m/opt/tljh/user/lib/python3.7/site-packages/pandas/io/parsers/c_parser_wrapper.py\u001b[0m in \u001b[0;36m__init__\u001b[0;34m(self, src, **kwds)\u001b[0m\n\u001b[1;32m     49\u001b[0m \u001b[0;34m\u001b[0m\u001b[0m\n\u001b[1;32m     50\u001b[0m         \u001b[0;31m# open handles\u001b[0m\u001b[0;34m\u001b[0m\u001b[0;34m\u001b[0m\u001b[0;34m\u001b[0m\u001b[0m\n\u001b[0;32m---> 51\u001b[0;31m         \u001b[0mself\u001b[0m\u001b[0;34m.\u001b[0m\u001b[0m_open_handles\u001b[0m\u001b[0;34m(\u001b[0m\u001b[0msrc\u001b[0m\u001b[0;34m,\u001b[0m \u001b[0mkwds\u001b[0m\u001b[0;34m)\u001b[0m\u001b[0;34m\u001b[0m\u001b[0;34m\u001b[0m\u001b[0m\n\u001b[0m\u001b[1;32m     52\u001b[0m         \u001b[0;32massert\u001b[0m \u001b[0mself\u001b[0m\u001b[0;34m.\u001b[0m\u001b[0mhandles\u001b[0m \u001b[0;32mis\u001b[0m \u001b[0;32mnot\u001b[0m \u001b[0;32mNone\u001b[0m\u001b[0;34m\u001b[0m\u001b[0;34m\u001b[0m\u001b[0m\n\u001b[1;32m     53\u001b[0m \u001b[0;34m\u001b[0m\u001b[0m\n",
      "\u001b[0;32m/opt/tljh/user/lib/python3.7/site-packages/pandas/io/parsers/base_parser.py\u001b[0m in \u001b[0;36m_open_handles\u001b[0;34m(self, src, kwds)\u001b[0m\n\u001b[1;32m    227\u001b[0m             \u001b[0mmemory_map\u001b[0m\u001b[0;34m=\u001b[0m\u001b[0mkwds\u001b[0m\u001b[0;34m.\u001b[0m\u001b[0mget\u001b[0m\u001b[0;34m(\u001b[0m\u001b[0;34m\"memory_map\"\u001b[0m\u001b[0;34m,\u001b[0m \u001b[0;32mFalse\u001b[0m\u001b[0;34m)\u001b[0m\u001b[0;34m,\u001b[0m\u001b[0;34m\u001b[0m\u001b[0;34m\u001b[0m\u001b[0m\n\u001b[1;32m    228\u001b[0m             \u001b[0mstorage_options\u001b[0m\u001b[0;34m=\u001b[0m\u001b[0mkwds\u001b[0m\u001b[0;34m.\u001b[0m\u001b[0mget\u001b[0m\u001b[0;34m(\u001b[0m\u001b[0;34m\"storage_options\"\u001b[0m\u001b[0;34m,\u001b[0m \u001b[0;32mNone\u001b[0m\u001b[0;34m)\u001b[0m\u001b[0;34m,\u001b[0m\u001b[0;34m\u001b[0m\u001b[0;34m\u001b[0m\u001b[0m\n\u001b[0;32m--> 229\u001b[0;31m             \u001b[0merrors\u001b[0m\u001b[0;34m=\u001b[0m\u001b[0mkwds\u001b[0m\u001b[0;34m.\u001b[0m\u001b[0mget\u001b[0m\u001b[0;34m(\u001b[0m\u001b[0;34m\"encoding_errors\"\u001b[0m\u001b[0;34m,\u001b[0m \u001b[0;34m\"strict\"\u001b[0m\u001b[0;34m)\u001b[0m\u001b[0;34m,\u001b[0m\u001b[0;34m\u001b[0m\u001b[0;34m\u001b[0m\u001b[0m\n\u001b[0m\u001b[1;32m    230\u001b[0m         )\n\u001b[1;32m    231\u001b[0m \u001b[0;34m\u001b[0m\u001b[0m\n",
      "\u001b[0;32m/opt/tljh/user/lib/python3.7/site-packages/pandas/io/common.py\u001b[0m in \u001b[0;36mget_handle\u001b[0;34m(path_or_buf, mode, encoding, compression, memory_map, is_text, errors, storage_options)\u001b[0m\n\u001b[1;32m    705\u001b[0m                 \u001b[0mencoding\u001b[0m\u001b[0;34m=\u001b[0m\u001b[0mioargs\u001b[0m\u001b[0;34m.\u001b[0m\u001b[0mencoding\u001b[0m\u001b[0;34m,\u001b[0m\u001b[0;34m\u001b[0m\u001b[0;34m\u001b[0m\u001b[0m\n\u001b[1;32m    706\u001b[0m                 \u001b[0merrors\u001b[0m\u001b[0;34m=\u001b[0m\u001b[0merrors\u001b[0m\u001b[0;34m,\u001b[0m\u001b[0;34m\u001b[0m\u001b[0;34m\u001b[0m\u001b[0m\n\u001b[0;32m--> 707\u001b[0;31m                 \u001b[0mnewline\u001b[0m\u001b[0;34m=\u001b[0m\u001b[0;34m\"\"\u001b[0m\u001b[0;34m,\u001b[0m\u001b[0;34m\u001b[0m\u001b[0;34m\u001b[0m\u001b[0m\n\u001b[0m\u001b[1;32m    708\u001b[0m             )\n\u001b[1;32m    709\u001b[0m         \u001b[0;32melse\u001b[0m\u001b[0;34m:\u001b[0m\u001b[0;34m\u001b[0m\u001b[0;34m\u001b[0m\u001b[0m\n",
      "\u001b[0;31mFileNotFoundError\u001b[0m: [Errno 2] No such file or directory: 'datasets/Bengaluru_House_Data.csv'"
     ]
    }
   ],
   "source": [
    "df= pd.read_csv(\"datasets/Bengaluru_House_Data.csv\")\n",
    "df.head(10)"
   ]
  },
  {
   "cell_type": "code",
   "execution_count": null,
   "id": "9784104a",
   "metadata": {},
   "outputs": [],
   "source": [
    "df.shape"
   ]
  },
  {
   "cell_type": "code",
   "execution_count": null,
   "id": "7d5dad4e",
   "metadata": {},
   "outputs": [],
   "source": [
    "df.isnull().sum()"
   ]
  },
  {
   "cell_type": "markdown",
   "id": "d9572179",
   "metadata": {},
   "source": [
    "### Purpose of cleaning data\n",
    "- Find the null values\n",
    "- Fill in the null values\n",
    "    - Delete the NULL values (if very few data points are NULL)\n",
    "    - Replace the NULL values with relevent values (lots of data points have NULL)\n",
    "    - Create new columns (if required)\n",
    "- Change/Replace some specific column values\n",
    "- Handling outliers"
   ]
  },
  {
   "cell_type": "code",
   "execution_count": null,
   "id": "824dbf73",
   "metadata": {},
   "outputs": [],
   "source": [
    "df[df['society'].isnull()]"
   ]
  },
  {
   "cell_type": "code",
   "execution_count": null,
   "id": "f673f968",
   "metadata": {},
   "outputs": [],
   "source": [
    "df['society'].value_counts()"
   ]
  },
  {
   "cell_type": "code",
   "execution_count": null,
   "id": "bab47242",
   "metadata": {},
   "outputs": [],
   "source": [
    "df['balcony']=df['balcony'].fillna(df['balcony'].median())"
   ]
  },
  {
   "cell_type": "code",
   "execution_count": null,
   "id": "bee5623e",
   "metadata": {},
   "outputs": [],
   "source": [
    "df.head(10)"
   ]
  },
  {
   "cell_type": "code",
   "execution_count": null,
   "id": "747e09b5",
   "metadata": {},
   "outputs": [],
   "source": [
    "df['society']=df['society'].fillna(\"Jaades\")\n",
    "df"
   ]
  },
  {
   "cell_type": "code",
   "execution_count": null,
   "id": "9d59f1be",
   "metadata": {},
   "outputs": [],
   "source": [
    "df['society'].replace('Jaades','test',inplace=True)"
   ]
  },
  {
   "cell_type": "code",
   "execution_count": null,
   "id": "dc191e58",
   "metadata": {},
   "outputs": [],
   "source": [
    "df"
   ]
  },
  {
   "cell_type": "markdown",
   "id": "e7ca85e4",
   "metadata": {},
   "source": [
    "## Salary datasheet Analysis"
   ]
  },
  {
   "cell_type": "markdown",
   "id": "c388de97",
   "metadata": {},
   "source": [
    "Learning Goals :\n",
    "\n",
    "    - Load the dataset~\n",
    "    - Get a view of the dataset~\n",
    "    - change the column names for readability~\n",
    "    - size/shape of the dataset~\n",
    "    \n",
    "- check the missing/null values in the dataset~\n",
    "- drop columns (if too many missing column values)~\n",
    "- replace the null values with relevant values~\n",
    "- drop the missing values all together\n",
    "- handle outliers"
   ]
  },
  {
   "cell_type": "markdown",
   "id": "d71c9baf",
   "metadata": {},
   "source": [
    "## Load the dataset and view it"
   ]
  },
  {
   "cell_type": "markdown",
   "id": "0361d314",
   "metadata": {},
   "source": [
    "##### First task is to read a dataset...In here , we are using the pima diabetes dataset. We read the dataset from the datasets folder and view the data."
   ]
  },
  {
   "cell_type": "code",
   "execution_count": null,
   "id": "df0dc6db",
   "metadata": {},
   "outputs": [],
   "source": [
    "import pandas as pd "
   ]
  },
  {
   "cell_type": "code",
   "execution_count": null,
   "id": "92c351d3",
   "metadata": {},
   "outputs": [],
   "source": [
    "pima=pd.read_csv(\"datasets/Ask A Manager Salary Survey.csv\")\n",
    "pima.head()"
   ]
  },
  {
   "cell_type": "markdown",
   "id": "21411c00",
   "metadata": {},
   "source": [
    "## Change column names for readability"
   ]
  },
  {
   "cell_type": "markdown",
   "id": "42c1320c",
   "metadata": {},
   "source": [
    "##### Before going into analysis, here we see that the columns names are too large . In this case , we change the column names for ease of reading."
   ]
  },
  {
   "cell_type": "code",
   "execution_count": null,
   "id": "1cc962c7",
   "metadata": {},
   "outputs": [],
   "source": [
    "pima.columns = ['Timestamp', 'Age','Current Industry', 'Job Title', 'Job Additional Context','Salary Per Anum','Monetary compensation','Salary Currency','Other Currency','income context','country office','US state','US City','Work Exp overall','Work Exp in current field','Education','Gender','Race']\n",
    "pima.head()"
   ]
  },
  {
   "cell_type": "markdown",
   "id": "041f185f",
   "metadata": {},
   "source": [
    "## Look at the data shape (row * columns)"
   ]
  },
  {
   "cell_type": "markdown",
   "id": "eb3d5ca5",
   "metadata": {},
   "source": [
    "##### For analysis, we first  look at the shape of the dataset in terms of row and columns(row * column)"
   ]
  },
  {
   "cell_type": "code",
   "execution_count": null,
   "id": "1aeae1c7",
   "metadata": {},
   "outputs": [],
   "source": [
    "pima.shape"
   ]
  },
  {
   "cell_type": "markdown",
   "id": "a8e3c31e",
   "metadata": {},
   "source": [
    "## Check data types"
   ]
  },
  {
   "cell_type": "markdown",
   "id": "e2d6f1e0",
   "metadata": {},
   "source": [
    "##### Another thing to check before going into analysis, checking the data types sometimes important. "
   ]
  },
  {
   "cell_type": "code",
   "execution_count": null,
   "id": "e7f132cb",
   "metadata": {},
   "outputs": [],
   "source": [
    "pima.dtypes"
   ]
  },
  {
   "cell_type": "markdown",
   "id": "16187a27",
   "metadata": {},
   "source": [
    "## Find out the Null Values"
   ]
  },
  {
   "cell_type": "markdown",
   "id": "e2a11665",
   "metadata": {},
   "source": [
    "##### To clean the dataset or handle missing values, we need to find the missing values first. To achieve that task, we use the following command."
   ]
  },
  {
   "cell_type": "code",
   "execution_count": null,
   "id": "703097ee",
   "metadata": {},
   "outputs": [],
   "source": [
    "pima.isnull().sum()"
   ]
  },
  {
   "cell_type": "markdown",
   "id": "6afe91eb",
   "metadata": {},
   "source": [
    "## Drop irrelvant Column(s)"
   ]
  },
  {
   "cell_type": "markdown",
   "id": "b7d4a86b",
   "metadata": {},
   "source": [
    "##### From the above results, we can see that most of the values in the 'Other Currency' column is NULL. So it wont be helpful for analysis. We can drop the column overall."
   ]
  },
  {
   "cell_type": "code",
   "execution_count": null,
   "id": "0fe7b7ae",
   "metadata": {},
   "outputs": [],
   "source": [
    "pima = pima.drop('Other Currency', axis=1)\n",
    "pima"
   ]
  },
  {
   "cell_type": "markdown",
   "id": "dabb13c6",
   "metadata": {},
   "source": [
    "## Replace column values with relevant value\n"
   ]
  },
  {
   "cell_type": "markdown",
   "id": "0c5e90ef",
   "metadata": {},
   "source": [
    "##### For the 'US state' column, The values that are NULL are mostly because those data are not applicable for them and was kept unfilled. So we can replace those NULL values with 'Not Applicable'.  "
   ]
  },
  {
   "cell_type": "code",
   "execution_count": null,
   "id": "f218645f",
   "metadata": {},
   "outputs": [],
   "source": [
    "pima['US state']= pima['US state'].fillna(\"Not Applicable\")"
   ]
  },
  {
   "cell_type": "code",
   "execution_count": null,
   "id": "04897a86",
   "metadata": {},
   "outputs": [],
   "source": [
    "pima['US state'].value_counts()"
   ]
  },
  {
   "cell_type": "markdown",
   "id": "7529b6c8",
   "metadata": {},
   "source": [
    "## Replacing column values with most common value"
   ]
  },
  {
   "cell_type": "markdown",
   "id": "93b9f63c",
   "metadata": {},
   "source": [
    "##### In the 'Race' column, we see the values are categorical. Also only a few data are missing for this column. So , a common convention is we fill up those NULL with the most common value in the column. So , we check the most common value and fill the the NULL with that value."
   ]
  },
  {
   "cell_type": "code",
   "execution_count": null,
   "id": "62e9f59e",
   "metadata": {},
   "outputs": [],
   "source": [
    "#pima['Race'].value_counts()\n",
    "pima['Race']= pima['Race'].fillna(\"White\")"
   ]
  },
  {
   "cell_type": "code",
   "execution_count": null,
   "id": "730624c3",
   "metadata": {},
   "outputs": [],
   "source": [
    "pima['Race'].value_counts()"
   ]
  },
  {
   "cell_type": "markdown",
   "id": "629ea991",
   "metadata": {},
   "source": [
    "## Scratch"
   ]
  },
  {
   "cell_type": "markdown",
   "id": "93f7b1fc",
   "metadata": {},
   "source": [
    "### when do we fill the N/A with median values?"
   ]
  },
  {
   "cell_type": "code",
   "execution_count": null,
   "id": "0c624be7",
   "metadata": {},
   "outputs": [],
   "source": [
    "pima['Monetary compensation'].isna().sum()"
   ]
  },
  {
   "cell_type": "code",
   "execution_count": null,
   "id": "d065d6de",
   "metadata": {},
   "outputs": [],
   "source": [
    "temp=pima['Monetary compensation']==0\n",
    "temp.sum()"
   ]
  },
  {
   "cell_type": "code",
   "execution_count": null,
   "id": "59fa324b",
   "metadata": {},
   "outputs": [],
   "source": [
    "pima['Monetary compensation'].isna().sum()"
   ]
  },
  {
   "cell_type": "markdown",
   "id": "9852935c",
   "metadata": {},
   "source": [
    "### how to fill the categorical values for NA's?"
   ]
  },
  {
   "cell_type": "code",
   "execution_count": null,
   "id": "236b14c0",
   "metadata": {},
   "outputs": [],
   "source": [
    "pima['Education'].value_counts()"
   ]
  },
  {
   "cell_type": "code",
   "execution_count": null,
   "id": "6ff8e119",
   "metadata": {},
   "outputs": [],
   "source": [
    "pima['Job Additional Context'].value_counts().sum"
   ]
  },
  {
   "cell_type": "code",
   "execution_count": null,
   "id": "a6e1cb46",
   "metadata": {},
   "outputs": [],
   "source": [
    "pima['Job Additional Context'].value_counts().sum()"
   ]
  },
  {
   "cell_type": "code",
   "execution_count": null,
   "id": "1eff83e7",
   "metadata": {},
   "outputs": [],
   "source": [
    "pima['Job Additional Context'].isna().sum()"
   ]
  },
  {
   "cell_type": "code",
   "execution_count": null,
   "id": "a0913a6d",
   "metadata": {},
   "outputs": [],
   "source": [
    "pima['Current Industry'].value_counts().sum()"
   ]
  },
  {
   "cell_type": "code",
   "execution_count": null,
   "id": "894dbbfc",
   "metadata": {},
   "outputs": [],
   "source": [
    "pima['Current Industry'].isna().sum()"
   ]
  },
  {
   "cell_type": "code",
   "execution_count": null,
   "id": "d1ec943c",
   "metadata": {},
   "outputs": [],
   "source": [
    "pima['US City'].value_counts()"
   ]
  },
  {
   "cell_type": "code",
   "execution_count": null,
   "id": "d46dd009",
   "metadata": {},
   "outputs": [],
   "source": [
    "import numpy as np\n",
    "import matplotlib.pyplot as plt"
   ]
  },
  {
   "cell_type": "code",
   "execution_count": null,
   "id": "8e635049",
   "metadata": {},
   "outputs": [],
   "source": [
    "pima['Salary Per Anum'] = pima['Salary Per Anum'].astype(float)\n"
   ]
  },
  {
   "cell_type": "code",
   "execution_count": null,
   "id": "4842ef09",
   "metadata": {},
   "outputs": [],
   "source": [
    "pima['Salary Per Anum'].max()"
   ]
  },
  {
   "cell_type": "code",
   "execution_count": null,
   "id": "dbfcf576",
   "metadata": {},
   "outputs": [],
   "source": [
    "pima.hist(column='Salary Per Anum')"
   ]
  },
  {
   "cell_type": "code",
   "execution_count": null,
   "id": "36d2a126",
   "metadata": {},
   "outputs": [],
   "source": [
    "df = pd.DataFrame({\n",
    "            'length': [150, 500, 120, 90, 300],\n",
    "            'width': [0.7, 0.2, 0.15, 0.2, 1.1]\n",
    "                })\n",
    "#hist = df.hist(bins=3)\n",
    "df"
   ]
  },
  {
   "cell_type": "code",
   "execution_count": null,
   "id": "ac5e3150",
   "metadata": {},
   "outputs": [],
   "source": [
    "df.dtypes"
   ]
  },
  {
   "cell_type": "code",
   "execution_count": null,
   "id": "35f2f359",
   "metadata": {},
   "outputs": [],
   "source": [
    "df.hist(column='length')"
   ]
  },
  {
   "cell_type": "markdown",
   "id": "40925149",
   "metadata": {},
   "source": [
    "outlier handling:"
   ]
  },
  {
   "cell_type": "code",
   "execution_count": null,
   "id": "0b206308",
   "metadata": {},
   "outputs": [],
   "source": [
    "df = pd.DataFrame({\n",
    "            'name': ['maria', 'sakib', 'tao', 'virat', 'mohan'],\n",
    "            'width': [5.2, 5.1, 5.5, 4.9, 5.9]\n",
    "                })\n",
    "\n",
    "'''\n",
    "mohan     5.9\\n\",\n",
    "       \"1  maria     5.2\\n\",\n",
    "       \"2  sakib     5.1\\n\",\n",
    "       \"3    tao     5.5\\n\",\n",
    "       \"4  virat     4.9\"\n",
    "'''\n",
    "\n",
    "df"
   ]
  },
  {
   "cell_type": "code",
   "execution_count": null,
   "id": "653a140f",
   "metadata": {},
   "outputs": [],
   "source": [
    "df.dtypes"
   ]
  },
  {
   "cell_type": "code",
   "execution_count": null,
   "id": "eb8d61d6",
   "metadata": {},
   "outputs": [],
   "source": [
    "df.hist(column='width')"
   ]
  },
  {
   "cell_type": "markdown",
   "id": "516dd2de",
   "metadata": {},
   "source": [
    "## Handling Outliers:"
   ]
  },
  {
   "cell_type": "markdown",
   "id": "8335edad",
   "metadata": {},
   "source": [
    "In some scenarios, in our dataset, we might need to remove some data that are called outliers. Outliers can exert undue influence on some models, like linear regression, when the models try to minimize mean squared error. These outliers can sometimes mislead the set of data and influence model performance. \n",
    "\n",
    "In such cases, removing(for few datapoints) or modifying the outliers would be more appropriate. There are a few ways to remove the outliers from a dataset. The method of clipping is shown below. "
   ]
  },
  {
   "cell_type": "markdown",
   "id": "833b3867",
   "metadata": {},
   "source": [
    "First , we have our dataset \"New York Housing\". Our task is to find the price of a house given its features. We load the dataset and and view the data."
   ]
  },
  {
   "cell_type": "markdown",
   "id": "cda6d6c1",
   "metadata": {},
   "source": [
    "## Load the Dataset and View data"
   ]
  },
  {
   "cell_type": "code",
   "execution_count": null,
   "id": "ef9436bb",
   "metadata": {},
   "outputs": [],
   "source": [
    "nyc=pd.read_csv(\"datasets/AB_NYC_2019.csv\")\n",
    "nyc.head()"
   ]
  },
  {
   "cell_type": "markdown",
   "id": "aab001d8",
   "metadata": {},
   "source": [
    "Then, we look at the shape of the dataset."
   ]
  },
  {
   "cell_type": "code",
   "execution_count": null,
   "id": "ce592fdc",
   "metadata": {},
   "outputs": [],
   "source": [
    "nyc.shape"
   ]
  },
  {
   "cell_type": "markdown",
   "id": "a5e79162",
   "metadata": {},
   "source": [
    "Since we want to determine the price of a house in the NYC neighbourhood, its important to look for outliers in prices in the dataset. For that ,we look at the distribution of the 'price' data using a histogram."
   ]
  },
  {
   "cell_type": "code",
   "execution_count": null,
   "id": "63d3b341",
   "metadata": {},
   "outputs": [],
   "source": [
    "bin_count=400\n",
    "nyc.hist(column='price',bins=bin_count,figsize=(10,7))\n"
   ]
  },
  {
   "cell_type": "markdown",
   "id": "f6bfb543",
   "metadata": {},
   "source": [
    "## Spread of price data in terms of numbers:\n",
    "### TODO"
   ]
  },
  {
   "cell_type": "code",
   "execution_count": null,
   "id": "59a3e4b1",
   "metadata": {},
   "outputs": [],
   "source": [
    "nyc.describe()"
   ]
  },
  {
   "cell_type": "markdown",
   "id": "35e3fed7",
   "metadata": {},
   "source": [
    "## Removing the outliers:"
   ]
  },
  {
   "cell_type": "markdown",
   "id": "d2bf2ed4",
   "metadata": {},
   "source": [
    "### Setting the lower limit"
   ]
  },
  {
   "cell_type": "code",
   "execution_count": null,
   "id": "b4f284d4",
   "metadata": {},
   "outputs": [],
   "source": [
    "minlim=nyc['price'].quantile(0.01)"
   ]
  },
  {
   "cell_type": "code",
   "execution_count": null,
   "id": "334360b3",
   "metadata": {},
   "outputs": [],
   "source": [
    "nyc[nyc['price']<minlim]"
   ]
  },
  {
   "cell_type": "markdown",
   "id": "afb20e52",
   "metadata": {},
   "source": [
    "### Setting the Upper limit"
   ]
  },
  {
   "cell_type": "code",
   "execution_count": null,
   "id": "eceaba9c",
   "metadata": {},
   "outputs": [],
   "source": [
    "maxlim=nyc['price'].quantile(0.95)\n",
    "maxlim"
   ]
  },
  {
   "cell_type": "code",
   "execution_count": null,
   "id": "445146c8",
   "metadata": {},
   "outputs": [],
   "source": [
    "nyc[nyc['price']>maxlim]"
   ]
  },
  {
   "cell_type": "markdown",
   "id": "6b5f691e",
   "metadata": {},
   "source": [
    "## Clipping the data within lower and upper range "
   ]
  },
  {
   "cell_type": "markdown",
   "id": "8ef334dd",
   "metadata": {},
   "source": [
    "## TODO"
   ]
  },
  {
   "cell_type": "code",
   "execution_count": null,
   "id": "5341da0c",
   "metadata": {},
   "outputs": [],
   "source": [
    "from sklearn.datasets import fetch_california_housing\n",
    "\n",
    "cali_housing = pd.read_csv('datasets/cali_housing.csv')\n",
    "cali_housing\n"
   ]
  },
  {
   "cell_type": "code",
   "execution_count": null,
   "id": "4153a122",
   "metadata": {},
   "outputs": [],
   "source": [
    "cali_housing[cali_housing['total_bedrooms'].isna()]"
   ]
  },
  {
   "cell_type": "markdown",
   "id": "04ddc88d",
   "metadata": {},
   "source": [
    "## pima dataset clean"
   ]
  },
  {
   "cell_type": "code",
   "execution_count": 40,
   "id": "371f463f",
   "metadata": {},
   "outputs": [],
   "source": [
    "import pandas as pd\n",
    "import numpy as np"
   ]
  },
  {
   "cell_type": "code",
   "execution_count": 41,
   "id": "5b88c742",
   "metadata": {},
   "outputs": [
    {
     "data": {
      "text/html": [
       "<div>\n",
       "<style scoped>\n",
       "    .dataframe tbody tr th:only-of-type {\n",
       "        vertical-align: middle;\n",
       "    }\n",
       "\n",
       "    .dataframe tbody tr th {\n",
       "        vertical-align: top;\n",
       "    }\n",
       "\n",
       "    .dataframe thead th {\n",
       "        text-align: right;\n",
       "    }\n",
       "</style>\n",
       "<table border=\"1\" class=\"dataframe\">\n",
       "  <thead>\n",
       "    <tr style=\"text-align: right;\">\n",
       "      <th></th>\n",
       "      <th>6</th>\n",
       "      <th>148</th>\n",
       "      <th>72</th>\n",
       "      <th>35</th>\n",
       "      <th>0</th>\n",
       "      <th>33.6</th>\n",
       "      <th>0.627</th>\n",
       "      <th>50</th>\n",
       "      <th>1</th>\n",
       "    </tr>\n",
       "  </thead>\n",
       "  <tbody>\n",
       "    <tr>\n",
       "      <th>0</th>\n",
       "      <td>1</td>\n",
       "      <td>85</td>\n",
       "      <td>66</td>\n",
       "      <td>29</td>\n",
       "      <td>0</td>\n",
       "      <td>26.6</td>\n",
       "      <td>0.351</td>\n",
       "      <td>31</td>\n",
       "      <td>0</td>\n",
       "    </tr>\n",
       "    <tr>\n",
       "      <th>1</th>\n",
       "      <td>8</td>\n",
       "      <td>183</td>\n",
       "      <td>64</td>\n",
       "      <td>0</td>\n",
       "      <td>0</td>\n",
       "      <td>23.3</td>\n",
       "      <td>0.672</td>\n",
       "      <td>32</td>\n",
       "      <td>1</td>\n",
       "    </tr>\n",
       "    <tr>\n",
       "      <th>2</th>\n",
       "      <td>1</td>\n",
       "      <td>89</td>\n",
       "      <td>66</td>\n",
       "      <td>23</td>\n",
       "      <td>94</td>\n",
       "      <td>28.1</td>\n",
       "      <td>0.167</td>\n",
       "      <td>21</td>\n",
       "      <td>0</td>\n",
       "    </tr>\n",
       "    <tr>\n",
       "      <th>3</th>\n",
       "      <td>0</td>\n",
       "      <td>137</td>\n",
       "      <td>40</td>\n",
       "      <td>35</td>\n",
       "      <td>168</td>\n",
       "      <td>43.1</td>\n",
       "      <td>2.288</td>\n",
       "      <td>33</td>\n",
       "      <td>1</td>\n",
       "    </tr>\n",
       "    <tr>\n",
       "      <th>4</th>\n",
       "      <td>5</td>\n",
       "      <td>116</td>\n",
       "      <td>74</td>\n",
       "      <td>0</td>\n",
       "      <td>0</td>\n",
       "      <td>25.6</td>\n",
       "      <td>0.201</td>\n",
       "      <td>30</td>\n",
       "      <td>0</td>\n",
       "    </tr>\n",
       "  </tbody>\n",
       "</table>\n",
       "</div>"
      ],
      "text/plain": [
       "   6  148  72  35    0  33.6  0.627  50  1\n",
       "0  1   85  66  29    0  26.6  0.351  31  0\n",
       "1  8  183  64   0    0  23.3  0.672  32  1\n",
       "2  1   89  66  23   94  28.1  0.167  21  0\n",
       "3  0  137  40  35  168  43.1  2.288  33  1\n",
       "4  5  116  74   0    0  25.6  0.201  30  0"
      ]
     },
     "execution_count": 41,
     "metadata": {},
     "output_type": "execute_result"
    }
   ],
   "source": [
    "pima= pd.read_csv(\"../datasets/pima-indians-diabetes.csv\", skiprows=9)\n",
    " \n",
    "#pandas.read_csv(fileName, sep='you_delimiter', header=None)\n",
    "#pd.read_csv('myFile.csv', skiprows=1)\n",
    "pima.head()"
   ]
  },
  {
   "cell_type": "code",
   "execution_count": 42,
   "id": "b5f876b7",
   "metadata": {},
   "outputs": [],
   "source": [
    "pima.columns =['pregnancies', 'Glucose', 'Blood_Pressure', 'Skin_Thickness','Insulin','BMI','Diabetic_function','Age','Class']"
   ]
  },
  {
   "cell_type": "code",
   "execution_count": 43,
   "id": "3c508cb1",
   "metadata": {},
   "outputs": [
    {
     "data": {
      "text/html": [
       "<div>\n",
       "<style scoped>\n",
       "    .dataframe tbody tr th:only-of-type {\n",
       "        vertical-align: middle;\n",
       "    }\n",
       "\n",
       "    .dataframe tbody tr th {\n",
       "        vertical-align: top;\n",
       "    }\n",
       "\n",
       "    .dataframe thead th {\n",
       "        text-align: right;\n",
       "    }\n",
       "</style>\n",
       "<table border=\"1\" class=\"dataframe\">\n",
       "  <thead>\n",
       "    <tr style=\"text-align: right;\">\n",
       "      <th></th>\n",
       "      <th>pregnancies</th>\n",
       "      <th>Glucose</th>\n",
       "      <th>Blood_Pressure</th>\n",
       "      <th>Skin_Thickness</th>\n",
       "      <th>Insulin</th>\n",
       "      <th>BMI</th>\n",
       "      <th>Diabetic_function</th>\n",
       "      <th>Age</th>\n",
       "      <th>Class</th>\n",
       "    </tr>\n",
       "  </thead>\n",
       "  <tbody>\n",
       "    <tr>\n",
       "      <th>0</th>\n",
       "      <td>1</td>\n",
       "      <td>85</td>\n",
       "      <td>66</td>\n",
       "      <td>29</td>\n",
       "      <td>0</td>\n",
       "      <td>26.6</td>\n",
       "      <td>0.351</td>\n",
       "      <td>31</td>\n",
       "      <td>0</td>\n",
       "    </tr>\n",
       "    <tr>\n",
       "      <th>1</th>\n",
       "      <td>8</td>\n",
       "      <td>183</td>\n",
       "      <td>64</td>\n",
       "      <td>0</td>\n",
       "      <td>0</td>\n",
       "      <td>23.3</td>\n",
       "      <td>0.672</td>\n",
       "      <td>32</td>\n",
       "      <td>1</td>\n",
       "    </tr>\n",
       "    <tr>\n",
       "      <th>2</th>\n",
       "      <td>1</td>\n",
       "      <td>89</td>\n",
       "      <td>66</td>\n",
       "      <td>23</td>\n",
       "      <td>94</td>\n",
       "      <td>28.1</td>\n",
       "      <td>0.167</td>\n",
       "      <td>21</td>\n",
       "      <td>0</td>\n",
       "    </tr>\n",
       "    <tr>\n",
       "      <th>3</th>\n",
       "      <td>0</td>\n",
       "      <td>137</td>\n",
       "      <td>40</td>\n",
       "      <td>35</td>\n",
       "      <td>168</td>\n",
       "      <td>43.1</td>\n",
       "      <td>2.288</td>\n",
       "      <td>33</td>\n",
       "      <td>1</td>\n",
       "    </tr>\n",
       "    <tr>\n",
       "      <th>4</th>\n",
       "      <td>5</td>\n",
       "      <td>116</td>\n",
       "      <td>74</td>\n",
       "      <td>0</td>\n",
       "      <td>0</td>\n",
       "      <td>25.6</td>\n",
       "      <td>0.201</td>\n",
       "      <td>30</td>\n",
       "      <td>0</td>\n",
       "    </tr>\n",
       "    <tr>\n",
       "      <th>...</th>\n",
       "      <td>...</td>\n",
       "      <td>...</td>\n",
       "      <td>...</td>\n",
       "      <td>...</td>\n",
       "      <td>...</td>\n",
       "      <td>...</td>\n",
       "      <td>...</td>\n",
       "      <td>...</td>\n",
       "      <td>...</td>\n",
       "    </tr>\n",
       "    <tr>\n",
       "      <th>762</th>\n",
       "      <td>10</td>\n",
       "      <td>101</td>\n",
       "      <td>76</td>\n",
       "      <td>48</td>\n",
       "      <td>180</td>\n",
       "      <td>32.9</td>\n",
       "      <td>0.171</td>\n",
       "      <td>63</td>\n",
       "      <td>0</td>\n",
       "    </tr>\n",
       "    <tr>\n",
       "      <th>763</th>\n",
       "      <td>2</td>\n",
       "      <td>122</td>\n",
       "      <td>70</td>\n",
       "      <td>27</td>\n",
       "      <td>0</td>\n",
       "      <td>36.8</td>\n",
       "      <td>0.340</td>\n",
       "      <td>27</td>\n",
       "      <td>0</td>\n",
       "    </tr>\n",
       "    <tr>\n",
       "      <th>764</th>\n",
       "      <td>5</td>\n",
       "      <td>121</td>\n",
       "      <td>72</td>\n",
       "      <td>23</td>\n",
       "      <td>112</td>\n",
       "      <td>26.2</td>\n",
       "      <td>0.245</td>\n",
       "      <td>30</td>\n",
       "      <td>0</td>\n",
       "    </tr>\n",
       "    <tr>\n",
       "      <th>765</th>\n",
       "      <td>1</td>\n",
       "      <td>126</td>\n",
       "      <td>60</td>\n",
       "      <td>0</td>\n",
       "      <td>0</td>\n",
       "      <td>30.1</td>\n",
       "      <td>0.349</td>\n",
       "      <td>47</td>\n",
       "      <td>1</td>\n",
       "    </tr>\n",
       "    <tr>\n",
       "      <th>766</th>\n",
       "      <td>1</td>\n",
       "      <td>93</td>\n",
       "      <td>70</td>\n",
       "      <td>31</td>\n",
       "      <td>0</td>\n",
       "      <td>30.4</td>\n",
       "      <td>0.315</td>\n",
       "      <td>23</td>\n",
       "      <td>0</td>\n",
       "    </tr>\n",
       "  </tbody>\n",
       "</table>\n",
       "<p>767 rows × 9 columns</p>\n",
       "</div>"
      ],
      "text/plain": [
       "     pregnancies  Glucose  Blood_Pressure  Skin_Thickness  Insulin   BMI  \\\n",
       "0              1       85              66              29        0  26.6   \n",
       "1              8      183              64               0        0  23.3   \n",
       "2              1       89              66              23       94  28.1   \n",
       "3              0      137              40              35      168  43.1   \n",
       "4              5      116              74               0        0  25.6   \n",
       "..           ...      ...             ...             ...      ...   ...   \n",
       "762           10      101              76              48      180  32.9   \n",
       "763            2      122              70              27        0  36.8   \n",
       "764            5      121              72              23      112  26.2   \n",
       "765            1      126              60               0        0  30.1   \n",
       "766            1       93              70              31        0  30.4   \n",
       "\n",
       "     Diabetic_function  Age  Class  \n",
       "0                0.351   31      0  \n",
       "1                0.672   32      1  \n",
       "2                0.167   21      0  \n",
       "3                2.288   33      1  \n",
       "4                0.201   30      0  \n",
       "..                 ...  ...    ...  \n",
       "762              0.171   63      0  \n",
       "763              0.340   27      0  \n",
       "764              0.245   30      0  \n",
       "765              0.349   47      1  \n",
       "766              0.315   23      0  \n",
       "\n",
       "[767 rows x 9 columns]"
      ]
     },
     "execution_count": 43,
     "metadata": {},
     "output_type": "execute_result"
    }
   ],
   "source": [
    "pima\n"
   ]
  },
  {
   "cell_type": "code",
   "execution_count": 44,
   "id": "ca73da14",
   "metadata": {},
   "outputs": [
    {
     "data": {
      "text/plain": [
       "Index(['pregnancies', 'Glucose', 'Blood_Pressure', 'Skin_Thickness', 'Insulin',\n",
       "       'BMI', 'Diabetic_function', 'Age', 'Class'],\n",
       "      dtype='object')"
      ]
     },
     "execution_count": 44,
     "metadata": {},
     "output_type": "execute_result"
    }
   ],
   "source": [
    "pima.columns"
   ]
  },
  {
   "cell_type": "code",
   "execution_count": 45,
   "id": "f502cb81",
   "metadata": {},
   "outputs": [
    {
     "data": {
      "text/plain": [
       "pregnancies          0\n",
       "Glucose              0\n",
       "Blood_Pressure       0\n",
       "Skin_Thickness       0\n",
       "Insulin              0\n",
       "BMI                  0\n",
       "Diabetic_function    0\n",
       "Age                  0\n",
       "Class                0\n",
       "dtype: int64"
      ]
     },
     "execution_count": 45,
     "metadata": {},
     "output_type": "execute_result"
    }
   ],
   "source": [
    "pima.isnull().sum()"
   ]
  },
  {
   "cell_type": "code",
   "execution_count": 46,
   "id": "d6a6cfcd",
   "metadata": {},
   "outputs": [
    {
     "data": {
      "text/html": [
       "<div>\n",
       "<style scoped>\n",
       "    .dataframe tbody tr th:only-of-type {\n",
       "        vertical-align: middle;\n",
       "    }\n",
       "\n",
       "    .dataframe tbody tr th {\n",
       "        vertical-align: top;\n",
       "    }\n",
       "\n",
       "    .dataframe thead th {\n",
       "        text-align: right;\n",
       "    }\n",
       "</style>\n",
       "<table border=\"1\" class=\"dataframe\">\n",
       "  <thead>\n",
       "    <tr style=\"text-align: right;\">\n",
       "      <th></th>\n",
       "      <th>pregnancies</th>\n",
       "      <th>Glucose</th>\n",
       "      <th>Blood_Pressure</th>\n",
       "      <th>Skin_Thickness</th>\n",
       "      <th>Insulin</th>\n",
       "      <th>BMI</th>\n",
       "      <th>Diabetic_function</th>\n",
       "      <th>Age</th>\n",
       "    </tr>\n",
       "  </thead>\n",
       "  <tbody>\n",
       "    <tr>\n",
       "      <th>0</th>\n",
       "      <td>1</td>\n",
       "      <td>85</td>\n",
       "      <td>66</td>\n",
       "      <td>29</td>\n",
       "      <td>0</td>\n",
       "      <td>26.6</td>\n",
       "      <td>0.351</td>\n",
       "      <td>31</td>\n",
       "    </tr>\n",
       "    <tr>\n",
       "      <th>1</th>\n",
       "      <td>8</td>\n",
       "      <td>183</td>\n",
       "      <td>64</td>\n",
       "      <td>0</td>\n",
       "      <td>0</td>\n",
       "      <td>23.3</td>\n",
       "      <td>0.672</td>\n",
       "      <td>32</td>\n",
       "    </tr>\n",
       "    <tr>\n",
       "      <th>2</th>\n",
       "      <td>1</td>\n",
       "      <td>89</td>\n",
       "      <td>66</td>\n",
       "      <td>23</td>\n",
       "      <td>94</td>\n",
       "      <td>28.1</td>\n",
       "      <td>0.167</td>\n",
       "      <td>21</td>\n",
       "    </tr>\n",
       "    <tr>\n",
       "      <th>3</th>\n",
       "      <td>0</td>\n",
       "      <td>137</td>\n",
       "      <td>40</td>\n",
       "      <td>35</td>\n",
       "      <td>168</td>\n",
       "      <td>43.1</td>\n",
       "      <td>2.288</td>\n",
       "      <td>33</td>\n",
       "    </tr>\n",
       "    <tr>\n",
       "      <th>4</th>\n",
       "      <td>5</td>\n",
       "      <td>116</td>\n",
       "      <td>74</td>\n",
       "      <td>0</td>\n",
       "      <td>0</td>\n",
       "      <td>25.6</td>\n",
       "      <td>0.201</td>\n",
       "      <td>30</td>\n",
       "    </tr>\n",
       "  </tbody>\n",
       "</table>\n",
       "</div>"
      ],
      "text/plain": [
       "   pregnancies  Glucose  Blood_Pressure  Skin_Thickness  Insulin   BMI  \\\n",
       "0            1       85              66              29        0  26.6   \n",
       "1            8      183              64               0        0  23.3   \n",
       "2            1       89              66              23       94  28.1   \n",
       "3            0      137              40              35      168  43.1   \n",
       "4            5      116              74               0        0  25.6   \n",
       "\n",
       "   Diabetic_function  Age  \n",
       "0              0.351   31  \n",
       "1              0.672   32  \n",
       "2              0.167   21  \n",
       "3              2.288   33  \n",
       "4              0.201   30  "
      ]
     },
     "execution_count": 46,
     "metadata": {},
     "output_type": "execute_result"
    }
   ],
   "source": [
    "X= pima[['pregnancies', 'Glucose', 'Blood_Pressure', 'Skin_Thickness','Insulin','BMI','Diabetic_function','Age']]\n",
    "X.head()"
   ]
  },
  {
   "cell_type": "markdown",
   "id": "2c3f2809",
   "metadata": {},
   "source": [
    "The 0 zero values here are counted as NAN since these values cant be zero. So we define these 0 values as NULL."
   ]
  },
  {
   "cell_type": "code",
   "execution_count": 47,
   "id": "134a80c3",
   "metadata": {},
   "outputs": [
    {
     "name": "stdout",
     "output_type": "stream",
     "text": [
      "pregnancies          111\n",
      "Glucose                5\n",
      "Blood_Pressure        35\n",
      "Skin_Thickness       227\n",
      "Insulin              373\n",
      "BMI                   11\n",
      "Diabetic_function      0\n",
      "Age                    0\n",
      "dtype: int64\n"
     ]
    }
   ],
   "source": [
    "#X.loc[:,X.columns]\n",
    "\n",
    "num_missing = (X[X.columns] == 0).sum()\n",
    "print(num_missing)"
   ]
  },
  {
   "cell_type": "markdown",
   "id": "1fa96bc9",
   "metadata": {},
   "source": [
    "From this list, we see the 0 values for each column in the dataset. The columns `Diabetic_function` and `Age` have no null values. For the other columns, if we evaluate them carefully, the columns `Glucose`,`Blood_Pressure`,`Skin_Thickness` `Insulin` and `BMI` values cant be zero.                    "
   ]
  },
  {
   "cell_type": "markdown",
   "id": "450e35a2",
   "metadata": {},
   "source": [
    "Columns glucose, BP and BMI have few columns as null. But columns Skin_Thickness and Insulin have lots of missing values. "
   ]
  },
  {
   "cell_type": "markdown",
   "id": "8c583fb1",
   "metadata": {},
   "source": [
    "In order to process the missing values , we have to define them as NULL values. Since we are concerned only about the 5(Glucose,Blood_Pressure,Skin_Thickness Insulin and BMI) columns to process, we define the zeros in those columns as NULL."
   ]
  },
  {
   "cell_type": "markdown",
   "id": "ca636b84",
   "metadata": {},
   "source": [
    "## Define 0's as NULL values"
   ]
  },
  {
   "cell_type": "code",
   "execution_count": 49,
   "id": "456388b1",
   "metadata": {},
   "outputs": [
    {
     "name": "stderr",
     "output_type": "stream",
     "text": [
      "/opt/tljh/user/lib/python3.7/site-packages/pandas/core/frame.py:3641: SettingWithCopyWarning: \n",
      "A value is trying to be set on a copy of a slice from a DataFrame.\n",
      "Try using .loc[row_indexer,col_indexer] = value instead\n",
      "\n",
      "See the caveats in the documentation: https://pandas.pydata.org/pandas-docs/stable/user_guide/indexing.html#returning-a-view-versus-a-copy\n",
      "  self[k1] = value[k2]\n"
     ]
    }
   ],
   "source": [
    "X[['Glucose','Blood_Pressure','Skin_Thickness','Insulin','BMI']] = X[['Glucose','Blood_Pressure','Skin_Thickness','Insulin','BMI']].replace(0, np.nan)"
   ]
  },
  {
   "cell_type": "code",
   "execution_count": 50,
   "id": "32ad45a9",
   "metadata": {},
   "outputs": [
    {
     "data": {
      "text/plain": [
       "pregnancies            0\n",
       "Glucose                5\n",
       "Blood_Pressure        35\n",
       "Skin_Thickness       227\n",
       "Insulin              373\n",
       "BMI                   11\n",
       "Diabetic_function      0\n",
       "Age                    0\n",
       "dtype: int64"
      ]
     },
     "execution_count": 50,
     "metadata": {},
     "output_type": "execute_result"
    }
   ],
   "source": [
    "X.isnull().sum()"
   ]
  },
  {
   "cell_type": "markdown",
   "id": "c28505a6",
   "metadata": {},
   "source": [
    "So, in this step, we have marked the `0`'s as `NULL` value. Now we can do further processing of handling these NULL values. We view the dataframe to confirm the process."
   ]
  },
  {
   "cell_type": "code",
   "execution_count": 52,
   "id": "7ad0172d",
   "metadata": {},
   "outputs": [
    {
     "data": {
      "text/html": [
       "<div>\n",
       "<style scoped>\n",
       "    .dataframe tbody tr th:only-of-type {\n",
       "        vertical-align: middle;\n",
       "    }\n",
       "\n",
       "    .dataframe tbody tr th {\n",
       "        vertical-align: top;\n",
       "    }\n",
       "\n",
       "    .dataframe thead th {\n",
       "        text-align: right;\n",
       "    }\n",
       "</style>\n",
       "<table border=\"1\" class=\"dataframe\">\n",
       "  <thead>\n",
       "    <tr style=\"text-align: right;\">\n",
       "      <th></th>\n",
       "      <th>pregnancies</th>\n",
       "      <th>Glucose</th>\n",
       "      <th>Blood_Pressure</th>\n",
       "      <th>Skin_Thickness</th>\n",
       "      <th>Insulin</th>\n",
       "      <th>BMI</th>\n",
       "      <th>Diabetic_function</th>\n",
       "      <th>Age</th>\n",
       "    </tr>\n",
       "  </thead>\n",
       "  <tbody>\n",
       "    <tr>\n",
       "      <th>0</th>\n",
       "      <td>1</td>\n",
       "      <td>85.0</td>\n",
       "      <td>66.0</td>\n",
       "      <td>29.0</td>\n",
       "      <td>NaN</td>\n",
       "      <td>26.6</td>\n",
       "      <td>0.351</td>\n",
       "      <td>31</td>\n",
       "    </tr>\n",
       "    <tr>\n",
       "      <th>1</th>\n",
       "      <td>8</td>\n",
       "      <td>183.0</td>\n",
       "      <td>64.0</td>\n",
       "      <td>NaN</td>\n",
       "      <td>NaN</td>\n",
       "      <td>23.3</td>\n",
       "      <td>0.672</td>\n",
       "      <td>32</td>\n",
       "    </tr>\n",
       "    <tr>\n",
       "      <th>2</th>\n",
       "      <td>1</td>\n",
       "      <td>89.0</td>\n",
       "      <td>66.0</td>\n",
       "      <td>23.0</td>\n",
       "      <td>94.0</td>\n",
       "      <td>28.1</td>\n",
       "      <td>0.167</td>\n",
       "      <td>21</td>\n",
       "    </tr>\n",
       "    <tr>\n",
       "      <th>3</th>\n",
       "      <td>0</td>\n",
       "      <td>137.0</td>\n",
       "      <td>40.0</td>\n",
       "      <td>35.0</td>\n",
       "      <td>168.0</td>\n",
       "      <td>43.1</td>\n",
       "      <td>2.288</td>\n",
       "      <td>33</td>\n",
       "    </tr>\n",
       "    <tr>\n",
       "      <th>4</th>\n",
       "      <td>5</td>\n",
       "      <td>116.0</td>\n",
       "      <td>74.0</td>\n",
       "      <td>NaN</td>\n",
       "      <td>NaN</td>\n",
       "      <td>25.6</td>\n",
       "      <td>0.201</td>\n",
       "      <td>30</td>\n",
       "    </tr>\n",
       "    <tr>\n",
       "      <th>5</th>\n",
       "      <td>3</td>\n",
       "      <td>78.0</td>\n",
       "      <td>50.0</td>\n",
       "      <td>32.0</td>\n",
       "      <td>88.0</td>\n",
       "      <td>31.0</td>\n",
       "      <td>0.248</td>\n",
       "      <td>26</td>\n",
       "    </tr>\n",
       "    <tr>\n",
       "      <th>6</th>\n",
       "      <td>10</td>\n",
       "      <td>115.0</td>\n",
       "      <td>NaN</td>\n",
       "      <td>NaN</td>\n",
       "      <td>NaN</td>\n",
       "      <td>35.3</td>\n",
       "      <td>0.134</td>\n",
       "      <td>29</td>\n",
       "    </tr>\n",
       "    <tr>\n",
       "      <th>7</th>\n",
       "      <td>2</td>\n",
       "      <td>197.0</td>\n",
       "      <td>70.0</td>\n",
       "      <td>45.0</td>\n",
       "      <td>543.0</td>\n",
       "      <td>30.5</td>\n",
       "      <td>0.158</td>\n",
       "      <td>53</td>\n",
       "    </tr>\n",
       "    <tr>\n",
       "      <th>8</th>\n",
       "      <td>8</td>\n",
       "      <td>125.0</td>\n",
       "      <td>96.0</td>\n",
       "      <td>NaN</td>\n",
       "      <td>NaN</td>\n",
       "      <td>NaN</td>\n",
       "      <td>0.232</td>\n",
       "      <td>54</td>\n",
       "    </tr>\n",
       "    <tr>\n",
       "      <th>9</th>\n",
       "      <td>4</td>\n",
       "      <td>110.0</td>\n",
       "      <td>92.0</td>\n",
       "      <td>NaN</td>\n",
       "      <td>NaN</td>\n",
       "      <td>37.6</td>\n",
       "      <td>0.191</td>\n",
       "      <td>30</td>\n",
       "    </tr>\n",
       "    <tr>\n",
       "      <th>10</th>\n",
       "      <td>10</td>\n",
       "      <td>168.0</td>\n",
       "      <td>74.0</td>\n",
       "      <td>NaN</td>\n",
       "      <td>NaN</td>\n",
       "      <td>38.0</td>\n",
       "      <td>0.537</td>\n",
       "      <td>34</td>\n",
       "    </tr>\n",
       "    <tr>\n",
       "      <th>11</th>\n",
       "      <td>10</td>\n",
       "      <td>139.0</td>\n",
       "      <td>80.0</td>\n",
       "      <td>NaN</td>\n",
       "      <td>NaN</td>\n",
       "      <td>27.1</td>\n",
       "      <td>1.441</td>\n",
       "      <td>57</td>\n",
       "    </tr>\n",
       "    <tr>\n",
       "      <th>12</th>\n",
       "      <td>1</td>\n",
       "      <td>189.0</td>\n",
       "      <td>60.0</td>\n",
       "      <td>23.0</td>\n",
       "      <td>846.0</td>\n",
       "      <td>30.1</td>\n",
       "      <td>0.398</td>\n",
       "      <td>59</td>\n",
       "    </tr>\n",
       "    <tr>\n",
       "      <th>13</th>\n",
       "      <td>5</td>\n",
       "      <td>166.0</td>\n",
       "      <td>72.0</td>\n",
       "      <td>19.0</td>\n",
       "      <td>175.0</td>\n",
       "      <td>25.8</td>\n",
       "      <td>0.587</td>\n",
       "      <td>51</td>\n",
       "    </tr>\n",
       "    <tr>\n",
       "      <th>14</th>\n",
       "      <td>7</td>\n",
       "      <td>100.0</td>\n",
       "      <td>NaN</td>\n",
       "      <td>NaN</td>\n",
       "      <td>NaN</td>\n",
       "      <td>30.0</td>\n",
       "      <td>0.484</td>\n",
       "      <td>32</td>\n",
       "    </tr>\n",
       "    <tr>\n",
       "      <th>15</th>\n",
       "      <td>0</td>\n",
       "      <td>118.0</td>\n",
       "      <td>84.0</td>\n",
       "      <td>47.0</td>\n",
       "      <td>230.0</td>\n",
       "      <td>45.8</td>\n",
       "      <td>0.551</td>\n",
       "      <td>31</td>\n",
       "    </tr>\n",
       "    <tr>\n",
       "      <th>16</th>\n",
       "      <td>7</td>\n",
       "      <td>107.0</td>\n",
       "      <td>74.0</td>\n",
       "      <td>NaN</td>\n",
       "      <td>NaN</td>\n",
       "      <td>29.6</td>\n",
       "      <td>0.254</td>\n",
       "      <td>31</td>\n",
       "    </tr>\n",
       "    <tr>\n",
       "      <th>17</th>\n",
       "      <td>1</td>\n",
       "      <td>103.0</td>\n",
       "      <td>30.0</td>\n",
       "      <td>38.0</td>\n",
       "      <td>83.0</td>\n",
       "      <td>43.3</td>\n",
       "      <td>0.183</td>\n",
       "      <td>33</td>\n",
       "    </tr>\n",
       "    <tr>\n",
       "      <th>18</th>\n",
       "      <td>1</td>\n",
       "      <td>115.0</td>\n",
       "      <td>70.0</td>\n",
       "      <td>30.0</td>\n",
       "      <td>96.0</td>\n",
       "      <td>34.6</td>\n",
       "      <td>0.529</td>\n",
       "      <td>32</td>\n",
       "    </tr>\n",
       "    <tr>\n",
       "      <th>19</th>\n",
       "      <td>3</td>\n",
       "      <td>126.0</td>\n",
       "      <td>88.0</td>\n",
       "      <td>41.0</td>\n",
       "      <td>235.0</td>\n",
       "      <td>39.3</td>\n",
       "      <td>0.704</td>\n",
       "      <td>27</td>\n",
       "    </tr>\n",
       "  </tbody>\n",
       "</table>\n",
       "</div>"
      ],
      "text/plain": [
       "    pregnancies  Glucose  Blood_Pressure  Skin_Thickness  Insulin   BMI  \\\n",
       "0             1     85.0            66.0            29.0      NaN  26.6   \n",
       "1             8    183.0            64.0             NaN      NaN  23.3   \n",
       "2             1     89.0            66.0            23.0     94.0  28.1   \n",
       "3             0    137.0            40.0            35.0    168.0  43.1   \n",
       "4             5    116.0            74.0             NaN      NaN  25.6   \n",
       "5             3     78.0            50.0            32.0     88.0  31.0   \n",
       "6            10    115.0             NaN             NaN      NaN  35.3   \n",
       "7             2    197.0            70.0            45.0    543.0  30.5   \n",
       "8             8    125.0            96.0             NaN      NaN   NaN   \n",
       "9             4    110.0            92.0             NaN      NaN  37.6   \n",
       "10           10    168.0            74.0             NaN      NaN  38.0   \n",
       "11           10    139.0            80.0             NaN      NaN  27.1   \n",
       "12            1    189.0            60.0            23.0    846.0  30.1   \n",
       "13            5    166.0            72.0            19.0    175.0  25.8   \n",
       "14            7    100.0             NaN             NaN      NaN  30.0   \n",
       "15            0    118.0            84.0            47.0    230.0  45.8   \n",
       "16            7    107.0            74.0             NaN      NaN  29.6   \n",
       "17            1    103.0            30.0            38.0     83.0  43.3   \n",
       "18            1    115.0            70.0            30.0     96.0  34.6   \n",
       "19            3    126.0            88.0            41.0    235.0  39.3   \n",
       "\n",
       "    Diabetic_function  Age  \n",
       "0               0.351   31  \n",
       "1               0.672   32  \n",
       "2               0.167   21  \n",
       "3               2.288   33  \n",
       "4               0.201   30  \n",
       "5               0.248   26  \n",
       "6               0.134   29  \n",
       "7               0.158   53  \n",
       "8               0.232   54  \n",
       "9               0.191   30  \n",
       "10              0.537   34  \n",
       "11              1.441   57  \n",
       "12              0.398   59  \n",
       "13              0.587   51  \n",
       "14              0.484   32  \n",
       "15              0.551   31  \n",
       "16              0.254   31  \n",
       "17              0.183   33  \n",
       "18              0.529   32  \n",
       "19              0.704   27  "
      ]
     },
     "execution_count": 52,
     "metadata": {},
     "output_type": "execute_result"
    }
   ],
   "source": [
    "X.head(20)"
   ]
  },
  {
   "cell_type": "markdown",
   "id": "b73f8958",
   "metadata": {},
   "source": [
    "## Impute columns with values"
   ]
  },
  {
   "cell_type": "markdown",
   "id": "c08aa074",
   "metadata": {},
   "source": [
    "### impute with mean value"
   ]
  },
  {
   "cell_type": "code",
   "execution_count": 54,
   "id": "5dbbead1",
   "metadata": {},
   "outputs": [
    {
     "data": {
      "text/plain": [
       "array([[<AxesSubplot:title={'center':'BMI'}>]], dtype=object)"
      ]
     },
     "execution_count": 54,
     "metadata": {},
     "output_type": "execute_result"
    },
    {
     "data": {
      "image/png": "[encoded data removed]",
      "text/plain": [
       "<Figure size 720x504 with 1 Axes>"
      ]
     },
     "metadata": {
      "needs_background": "light"
     },
     "output_type": "display_data"
    }
   ],
   "source": [
    "X.hist(column='BMI',bins=50,figsize=(10,7))"
   ]
  },
  {
   "cell_type": "code",
   "execution_count": 55,
   "id": "891ef40f",
   "metadata": {},
   "outputs": [
    {
     "data": {
      "text/plain": [
       "32.455952380952375"
      ]
     },
     "execution_count": 55,
     "metadata": {},
     "output_type": "execute_result"
    }
   ],
   "source": [
    "X['BMI'].mean()"
   ]
  },
  {
   "cell_type": "code",
   "execution_count": 56,
   "id": "49241eed",
   "metadata": {},
   "outputs": [
    {
     "data": {
      "text/plain": [
       "array([[<AxesSubplot:title={'center':'Insulin'}>]], dtype=object)"
      ]
     },
     "execution_count": 56,
     "metadata": {},
     "output_type": "execute_result"
    },
    {
     "data": {
      "image/png": "[encoded data removed]",
      "text/plain": [
       "<Figure size 720x504 with 1 Axes>"
      ]
     },
     "metadata": {
      "needs_background": "light"
     },
     "output_type": "display_data"
    }
   ],
   "source": [
    "X.hist(column='Insulin',bins=50,figsize=(10,7))"
   ]
  },
  {
   "cell_type": "markdown",
   "id": "b4feb42e",
   "metadata": {},
   "source": [
    "### impute with median values"
   ]
  },
  {
   "cell_type": "code",
   "execution_count": 57,
   "id": "ce494823",
   "metadata": {},
   "outputs": [
    {
     "data": {
      "text/plain": [
       "125.0"
      ]
     },
     "execution_count": 57,
     "metadata": {},
     "output_type": "execute_result"
    }
   ],
   "source": [
    "X['Insulin'].median()"
   ]
  },
  {
   "cell_type": "code",
   "execution_count": 58,
   "id": "808cb16c",
   "metadata": {},
   "outputs": [
    {
     "data": {
      "text/plain": [
       "846.0"
      ]
     },
     "execution_count": 58,
     "metadata": {},
     "output_type": "execute_result"
    }
   ],
   "source": [
    "X['Insulin'].max()"
   ]
  },
  {
   "cell_type": "code",
   "execution_count": null,
   "id": "67329521",
   "metadata": {},
   "outputs": [],
   "source": []
  }
 ],
 "metadata": {
  "kernelspec": {
   "display_name": "Python 3",
   "language": "python",
   "name": "python3"
  },
  "language_info": {
   "codemirror_mode": {
    "name": "ipython",
    "version": 3
   },
   "file_extension": ".py",
   "mimetype": "text/x-python",
   "name": "python",
   "nbconvert_exporter": "python",
   "pygments_lexer": "ipython3",
   "version": "3.7.12"
  }
 },
 "nbformat": 4,
 "nbformat_minor": 5
}
