{
 "cells": [
  {
   "cell_type": "markdown",
   "id": "1ad09c84",
   "metadata": {},
   "source": [
    "## Data Cleaning (Worked Example)"
   ]
  },
  {
   "cell_type": "markdown",
   "id": "5332ac14",
   "metadata": {},
   "source": [
    "Working with datasets, in real life, can be quite difficult. A common scenario being is our dataset is not error-free. There is a high possibility the datasets will have \"bad values/empty values\" that needs correction. In this worked example, we discuss some of the techniques that are used in data cleaning.   "
   ]
  },
  {
   "cell_type": "markdown",
   "id": "1253d871",
   "metadata": {},
   "source": [
    "### Purpose of Data Cleaning\n",
    "- Find the null values\n",
    "- Fill in the null values\n",
    "    - Delete the NULL values (if very few data points are NULL)\n",
    "    - Replace the NULL values with relevent values (lots of data points have NULL)\n",
    "    \n",
    "    \n",
    "- Create new columns (if required)\n",
    "- Change/Replace some specific column values\n",
    "- Handling outliers"
   ]
  },
  {
   "cell_type": "markdown",
   "id": "15dc073a",
   "metadata": {},
   "source": [
    "### Learning Goals :\n",
    "\n",
    "    - Load the dataset\n",
    "    - Get a view of the dataset\n",
    "    - change the column names for readability\n",
    "    - size/shape of the dataset\n",
    "    \n",
    "- check the missing/null values in the dataset\n",
    "- drop columns (if too many missing column values)\n",
    "- replace the null values with relevant values\n",
    "- drop the missing values all together\n",
    "- handle outliers"
   ]
  },
  {
   "cell_type": "markdown",
   "id": "2a8fea6e",
   "metadata": {},
   "source": [
    "## Salary datasheet Analysis"
   ]
  },
  {
   "cell_type": "markdown",
   "id": "ba352c28",
   "metadata": {},
   "source": [
    "We have a dataset named **salary survey**. This dataset contains lots of missing data points meaning the dataset is not clean to do analysis(running a model) of any sort. In order to do analysis with this data, we need to find the missing datapoints and fix those based on different criteria, nature of missing datas. In this following notebook, we will learn how to handle/fix those missing data in a dataset."
   ]
  },
  {
   "cell_type": "markdown",
   "id": "a4ccb0e7",
   "metadata": {},
   "source": [
    "## describe a high level goal and what are the steps we want to do to acheive that task...."
   ]
  },
  {
   "cell_type": "markdown",
   "id": "cb38d72e",
   "metadata": {},
   "source": [
    "### Set goal for dataset..target from the dataset we want to achieve"
   ]
  },
  {
   "cell_type": "markdown",
   "id": "56370d68",
   "metadata": {},
   "source": [
    "### Make smaller notebooks targeting data cleaning problems to solve (like handling outliers) "
   ]
  },
  {
   "cell_type": "markdown",
   "id": "8b9e315b",
   "metadata": {},
   "source": [
    "# Dataset Exploration"
   ]
  },
  {
   "cell_type": "markdown",
   "id": "9f470087",
   "metadata": {},
   "source": [
    "### Load the dataset and view it"
   ]
  },
  {
   "cell_type": "markdown",
   "id": "790b94ca",
   "metadata": {},
   "source": [
    "### Import the pandas library and load dataset"
   ]
  },
  {
   "cell_type": "code",
   "execution_count": 6,
   "id": "7cf5f5a0",
   "metadata": {},
   "outputs": [],
   "source": [
    "import pandas as pd "
   ]
  },
  {
   "cell_type": "code",
   "execution_count": 7,
   "id": "da34c3d1",
   "metadata": {},
   "outputs": [
    {
     "data": {
      "text/html": [
       "<div>\n",
       "<style scoped>\n",
       "    .dataframe tbody tr th:only-of-type {\n",
       "        vertical-align: middle;\n",
       "    }\n",
       "\n",
       "    .dataframe tbody tr th {\n",
       "        vertical-align: top;\n",
       "    }\n",
       "\n",
       "    .dataframe thead th {\n",
       "        text-align: right;\n",
       "    }\n",
       "</style>\n",
       "<table border=\"1\" class=\"dataframe\">\n",
       "  <thead>\n",
       "    <tr style=\"text-align: right;\">\n",
       "      <th></th>\n",
       "      <th>Timestamp</th>\n",
       "      <th>How old are you?</th>\n",
       "      <th>What industry do you work in?</th>\n",
       "      <th>Job title</th>\n",
       "      <th>If your job title needs additional context, please clarify here:</th>\n",
       "      <th>What is your annual salary? (You'll indicate the currency in a later question. If you are part-time or hourly, please enter an annualized equivalent -- what you would earn if you worked the job 40 hours a week, 52 weeks a year.)</th>\n",
       "      <th>How much additional monetary compensation do you get, if any (for example, bonuses or overtime in an average year)? Please only include monetary compensation here, not the value of benefits.</th>\n",
       "      <th>Please indicate the currency</th>\n",
       "      <th>If \"Other,\" please indicate the currency here:</th>\n",
       "      <th>If your income needs additional context, please provide it here:</th>\n",
       "      <th>What country do you work in?</th>\n",
       "      <th>If you're in the U.S., what state do you work in?</th>\n",
       "      <th>What city do you work in?</th>\n",
       "      <th>How many years of professional work experience do you have overall?</th>\n",
       "      <th>How many years of professional work experience do you have in your field?</th>\n",
       "      <th>What is your highest level of education completed?</th>\n",
       "      <th>What is your gender?</th>\n",
       "      <th>What is your race? (Choose all that apply.)</th>\n",
       "    </tr>\n",
       "  </thead>\n",
       "  <tbody>\n",
       "    <tr>\n",
       "      <th>0</th>\n",
       "      <td>4/27/21 11:02</td>\n",
       "      <td>25-34</td>\n",
       "      <td>Education (Higher Education)</td>\n",
       "      <td>Research and Instruction Librarian</td>\n",
       "      <td>NaN</td>\n",
       "      <td>55000</td>\n",
       "      <td>0.0</td>\n",
       "      <td>USD</td>\n",
       "      <td>NaN</td>\n",
       "      <td>NaN</td>\n",
       "      <td>United States</td>\n",
       "      <td>Massachusetts</td>\n",
       "      <td>Boston</td>\n",
       "      <td>5-7 years</td>\n",
       "      <td>5-7 years</td>\n",
       "      <td>Master's degree</td>\n",
       "      <td>Woman</td>\n",
       "      <td>White</td>\n",
       "    </tr>\n",
       "    <tr>\n",
       "      <th>1</th>\n",
       "      <td>4/27/21 11:02</td>\n",
       "      <td>25-34</td>\n",
       "      <td>Computing or Tech</td>\n",
       "      <td>Change &amp; Internal Communications Manager</td>\n",
       "      <td>NaN</td>\n",
       "      <td>54600</td>\n",
       "      <td>4000.0</td>\n",
       "      <td>GBP</td>\n",
       "      <td>NaN</td>\n",
       "      <td>NaN</td>\n",
       "      <td>United Kingdom</td>\n",
       "      <td>NaN</td>\n",
       "      <td>Cambridge</td>\n",
       "      <td>8 - 10 years</td>\n",
       "      <td>5-7 years</td>\n",
       "      <td>College degree</td>\n",
       "      <td>Non-binary</td>\n",
       "      <td>White</td>\n",
       "    </tr>\n",
       "    <tr>\n",
       "      <th>2</th>\n",
       "      <td>4/27/21 11:02</td>\n",
       "      <td>25-34</td>\n",
       "      <td>Accounting, Banking &amp; Finance</td>\n",
       "      <td>Marketing Specialist</td>\n",
       "      <td>NaN</td>\n",
       "      <td>34000</td>\n",
       "      <td>NaN</td>\n",
       "      <td>USD</td>\n",
       "      <td>NaN</td>\n",
       "      <td>NaN</td>\n",
       "      <td>US</td>\n",
       "      <td>Tennessee</td>\n",
       "      <td>Chattanooga</td>\n",
       "      <td>2 - 4 years</td>\n",
       "      <td>2 - 4 years</td>\n",
       "      <td>College degree</td>\n",
       "      <td>Woman</td>\n",
       "      <td>White</td>\n",
       "    </tr>\n",
       "    <tr>\n",
       "      <th>3</th>\n",
       "      <td>4/27/21 11:02</td>\n",
       "      <td>25-34</td>\n",
       "      <td>Nonprofits</td>\n",
       "      <td>Program Manager</td>\n",
       "      <td>NaN</td>\n",
       "      <td>62000</td>\n",
       "      <td>3000.0</td>\n",
       "      <td>USD</td>\n",
       "      <td>NaN</td>\n",
       "      <td>NaN</td>\n",
       "      <td>USA</td>\n",
       "      <td>Wisconsin</td>\n",
       "      <td>Milwaukee</td>\n",
       "      <td>8 - 10 years</td>\n",
       "      <td>5-7 years</td>\n",
       "      <td>College degree</td>\n",
       "      <td>Woman</td>\n",
       "      <td>White</td>\n",
       "    </tr>\n",
       "    <tr>\n",
       "      <th>4</th>\n",
       "      <td>4/27/21 11:02</td>\n",
       "      <td>25-34</td>\n",
       "      <td>Accounting, Banking &amp; Finance</td>\n",
       "      <td>Accounting Manager</td>\n",
       "      <td>NaN</td>\n",
       "      <td>60000</td>\n",
       "      <td>7000.0</td>\n",
       "      <td>USD</td>\n",
       "      <td>NaN</td>\n",
       "      <td>NaN</td>\n",
       "      <td>US</td>\n",
       "      <td>South Carolina</td>\n",
       "      <td>Greenville</td>\n",
       "      <td>8 - 10 years</td>\n",
       "      <td>5-7 years</td>\n",
       "      <td>College degree</td>\n",
       "      <td>Woman</td>\n",
       "      <td>White</td>\n",
       "    </tr>\n",
       "  </tbody>\n",
       "</table>\n",
       "</div>"
      ],
      "text/plain": [
       "       Timestamp How old are you?  What industry do you work in?  \\\n",
       "0  4/27/21 11:02            25-34   Education (Higher Education)   \n",
       "1  4/27/21 11:02            25-34              Computing or Tech   \n",
       "2  4/27/21 11:02            25-34  Accounting, Banking & Finance   \n",
       "3  4/27/21 11:02            25-34                     Nonprofits   \n",
       "4  4/27/21 11:02            25-34  Accounting, Banking & Finance   \n",
       "\n",
       "                                  Job title  \\\n",
       "0        Research and Instruction Librarian   \n",
       "1  Change & Internal Communications Manager   \n",
       "2                      Marketing Specialist   \n",
       "3                           Program Manager   \n",
       "4                        Accounting Manager   \n",
       "\n",
       "  If your job title needs additional context, please clarify here:  \\\n",
       "0                                                NaN                 \n",
       "1                                                NaN                 \n",
       "2                                                NaN                 \n",
       "3                                                NaN                 \n",
       "4                                                NaN                 \n",
       "\n",
       "   What is your annual salary? (You'll indicate the currency in a later question. If you are part-time or hourly, please enter an annualized equivalent -- what you would earn if you worked the job 40 hours a week, 52 weeks a year.)  \\\n",
       "0                                              55000                                                                                                                                                                                      \n",
       "1                                              54600                                                                                                                                                                                      \n",
       "2                                              34000                                                                                                                                                                                      \n",
       "3                                              62000                                                                                                                                                                                      \n",
       "4                                              60000                                                                                                                                                                                      \n",
       "\n",
       "   How much additional monetary compensation do you get, if any (for example, bonuses or overtime in an average year)? Please only include monetary compensation here, not the value of benefits.  \\\n",
       "0                                                0.0                                                                                                                                                \n",
       "1                                             4000.0                                                                                                                                                \n",
       "2                                                NaN                                                                                                                                                \n",
       "3                                             3000.0                                                                                                                                                \n",
       "4                                             7000.0                                                                                                                                                \n",
       "\n",
       "  Please indicate the currency  \\\n",
       "0                          USD   \n",
       "1                          GBP   \n",
       "2                          USD   \n",
       "3                          USD   \n",
       "4                          USD   \n",
       "\n",
       "  If \"Other,\" please indicate the currency here:   \\\n",
       "0                                             NaN   \n",
       "1                                             NaN   \n",
       "2                                             NaN   \n",
       "3                                             NaN   \n",
       "4                                             NaN   \n",
       "\n",
       "  If your income needs additional context, please provide it here:  \\\n",
       "0                                                NaN                 \n",
       "1                                                NaN                 \n",
       "2                                                NaN                 \n",
       "3                                                NaN                 \n",
       "4                                                NaN                 \n",
       "\n",
       "  What country do you work in?  \\\n",
       "0                United States   \n",
       "1               United Kingdom   \n",
       "2                           US   \n",
       "3                          USA   \n",
       "4                           US   \n",
       "\n",
       "  If you're in the U.S., what state do you work in? What city do you work in?  \\\n",
       "0                                     Massachusetts                    Boston   \n",
       "1                                               NaN                 Cambridge   \n",
       "2                                         Tennessee               Chattanooga   \n",
       "3                                         Wisconsin                 Milwaukee   \n",
       "4                                    South Carolina                Greenville   \n",
       "\n",
       "  How many years of professional work experience do you have overall?  \\\n",
       "0                                          5-7 years                    \n",
       "1                                       8 - 10 years                    \n",
       "2                                        2 - 4 years                    \n",
       "3                                       8 - 10 years                    \n",
       "4                                       8 - 10 years                    \n",
       "\n",
       "  How many years of professional work experience do you have in your field?  \\\n",
       "0                                          5-7 years                          \n",
       "1                                          5-7 years                          \n",
       "2                                        2 - 4 years                          \n",
       "3                                          5-7 years                          \n",
       "4                                          5-7 years                          \n",
       "\n",
       "  What is your highest level of education completed? What is your gender?  \\\n",
       "0                                    Master's degree                Woman   \n",
       "1                                     College degree           Non-binary   \n",
       "2                                     College degree                Woman   \n",
       "3                                     College degree                Woman   \n",
       "4                                     College degree                Woman   \n",
       "\n",
       "  What is your race? (Choose all that apply.)  \n",
       "0                                       White  \n",
       "1                                       White  \n",
       "2                                       White  \n",
       "3                                       White  \n",
       "4                                       White  "
      ]
     },
     "execution_count": 7,
     "metadata": {},
     "output_type": "execute_result"
    }
   ],
   "source": [
    "pima=pd.read_csv(\"../datasets/Ask A Manager Salary Survey.csv\")\n",
    "pima.head()"
   ]
  },
  {
   "cell_type": "markdown",
   "id": "c62f552f",
   "metadata": {},
   "source": [
    "## Change column names for readability"
   ]
  },
  {
   "cell_type": "code",
   "execution_count": 8,
   "id": "e085b4a8",
   "metadata": {},
   "outputs": [
    {
     "data": {
      "text/html": [
       "<div>\n",
       "<style scoped>\n",
       "    .dataframe tbody tr th:only-of-type {\n",
       "        vertical-align: middle;\n",
       "    }\n",
       "\n",
       "    .dataframe tbody tr th {\n",
       "        vertical-align: top;\n",
       "    }\n",
       "\n",
       "    .dataframe thead th {\n",
       "        text-align: right;\n",
       "    }\n",
       "</style>\n",
       "<table border=\"1\" class=\"dataframe\">\n",
       "  <thead>\n",
       "    <tr style=\"text-align: right;\">\n",
       "      <th></th>\n",
       "      <th>Timestamp</th>\n",
       "      <th>Age</th>\n",
       "      <th>Current Industry</th>\n",
       "      <th>Job Title</th>\n",
       "      <th>Job Additional Context</th>\n",
       "      <th>Salary Per Anum</th>\n",
       "      <th>Monetary compensation</th>\n",
       "      <th>Salary Currency</th>\n",
       "      <th>Other Currency</th>\n",
       "      <th>income context</th>\n",
       "      <th>country office</th>\n",
       "      <th>US state</th>\n",
       "      <th>US City</th>\n",
       "      <th>Work Exp overall</th>\n",
       "      <th>Work Exp in current field</th>\n",
       "      <th>Education</th>\n",
       "      <th>Gender</th>\n",
       "      <th>Race</th>\n",
       "    </tr>\n",
       "  </thead>\n",
       "  <tbody>\n",
       "    <tr>\n",
       "      <th>0</th>\n",
       "      <td>4/27/21 11:02</td>\n",
       "      <td>25-34</td>\n",
       "      <td>Education (Higher Education)</td>\n",
       "      <td>Research and Instruction Librarian</td>\n",
       "      <td>NaN</td>\n",
       "      <td>55000</td>\n",
       "      <td>0.0</td>\n",
       "      <td>USD</td>\n",
       "      <td>NaN</td>\n",
       "      <td>NaN</td>\n",
       "      <td>United States</td>\n",
       "      <td>Massachusetts</td>\n",
       "      <td>Boston</td>\n",
       "      <td>5-7 years</td>\n",
       "      <td>5-7 years</td>\n",
       "      <td>Master's degree</td>\n",
       "      <td>Woman</td>\n",
       "      <td>White</td>\n",
       "    </tr>\n",
       "    <tr>\n",
       "      <th>1</th>\n",
       "      <td>4/27/21 11:02</td>\n",
       "      <td>25-34</td>\n",
       "      <td>Computing or Tech</td>\n",
       "      <td>Change &amp; Internal Communications Manager</td>\n",
       "      <td>NaN</td>\n",
       "      <td>54600</td>\n",
       "      <td>4000.0</td>\n",
       "      <td>GBP</td>\n",
       "      <td>NaN</td>\n",
       "      <td>NaN</td>\n",
       "      <td>United Kingdom</td>\n",
       "      <td>NaN</td>\n",
       "      <td>Cambridge</td>\n",
       "      <td>8 - 10 years</td>\n",
       "      <td>5-7 years</td>\n",
       "      <td>College degree</td>\n",
       "      <td>Non-binary</td>\n",
       "      <td>White</td>\n",
       "    </tr>\n",
       "    <tr>\n",
       "      <th>2</th>\n",
       "      <td>4/27/21 11:02</td>\n",
       "      <td>25-34</td>\n",
       "      <td>Accounting, Banking &amp; Finance</td>\n",
       "      <td>Marketing Specialist</td>\n",
       "      <td>NaN</td>\n",
       "      <td>34000</td>\n",
       "      <td>NaN</td>\n",
       "      <td>USD</td>\n",
       "      <td>NaN</td>\n",
       "      <td>NaN</td>\n",
       "      <td>US</td>\n",
       "      <td>Tennessee</td>\n",
       "      <td>Chattanooga</td>\n",
       "      <td>2 - 4 years</td>\n",
       "      <td>2 - 4 years</td>\n",
       "      <td>College degree</td>\n",
       "      <td>Woman</td>\n",
       "      <td>White</td>\n",
       "    </tr>\n",
       "    <tr>\n",
       "      <th>3</th>\n",
       "      <td>4/27/21 11:02</td>\n",
       "      <td>25-34</td>\n",
       "      <td>Nonprofits</td>\n",
       "      <td>Program Manager</td>\n",
       "      <td>NaN</td>\n",
       "      <td>62000</td>\n",
       "      <td>3000.0</td>\n",
       "      <td>USD</td>\n",
       "      <td>NaN</td>\n",
       "      <td>NaN</td>\n",
       "      <td>USA</td>\n",
       "      <td>Wisconsin</td>\n",
       "      <td>Milwaukee</td>\n",
       "      <td>8 - 10 years</td>\n",
       "      <td>5-7 years</td>\n",
       "      <td>College degree</td>\n",
       "      <td>Woman</td>\n",
       "      <td>White</td>\n",
       "    </tr>\n",
       "    <tr>\n",
       "      <th>4</th>\n",
       "      <td>4/27/21 11:02</td>\n",
       "      <td>25-34</td>\n",
       "      <td>Accounting, Banking &amp; Finance</td>\n",
       "      <td>Accounting Manager</td>\n",
       "      <td>NaN</td>\n",
       "      <td>60000</td>\n",
       "      <td>7000.0</td>\n",
       "      <td>USD</td>\n",
       "      <td>NaN</td>\n",
       "      <td>NaN</td>\n",
       "      <td>US</td>\n",
       "      <td>South Carolina</td>\n",
       "      <td>Greenville</td>\n",
       "      <td>8 - 10 years</td>\n",
       "      <td>5-7 years</td>\n",
       "      <td>College degree</td>\n",
       "      <td>Woman</td>\n",
       "      <td>White</td>\n",
       "    </tr>\n",
       "  </tbody>\n",
       "</table>\n",
       "</div>"
      ],
      "text/plain": [
       "       Timestamp    Age               Current Industry  \\\n",
       "0  4/27/21 11:02  25-34   Education (Higher Education)   \n",
       "1  4/27/21 11:02  25-34              Computing or Tech   \n",
       "2  4/27/21 11:02  25-34  Accounting, Banking & Finance   \n",
       "3  4/27/21 11:02  25-34                     Nonprofits   \n",
       "4  4/27/21 11:02  25-34  Accounting, Banking & Finance   \n",
       "\n",
       "                                  Job Title Job Additional Context  \\\n",
       "0        Research and Instruction Librarian                    NaN   \n",
       "1  Change & Internal Communications Manager                    NaN   \n",
       "2                      Marketing Specialist                    NaN   \n",
       "3                           Program Manager                    NaN   \n",
       "4                        Accounting Manager                    NaN   \n",
       "\n",
       "   Salary Per Anum  Monetary compensation Salary Currency Other Currency  \\\n",
       "0            55000                    0.0             USD            NaN   \n",
       "1            54600                 4000.0             GBP            NaN   \n",
       "2            34000                    NaN             USD            NaN   \n",
       "3            62000                 3000.0             USD            NaN   \n",
       "4            60000                 7000.0             USD            NaN   \n",
       "\n",
       "  income context  country office        US state      US City  \\\n",
       "0            NaN   United States   Massachusetts       Boston   \n",
       "1            NaN  United Kingdom             NaN    Cambridge   \n",
       "2            NaN              US       Tennessee  Chattanooga   \n",
       "3            NaN             USA       Wisconsin    Milwaukee   \n",
       "4            NaN              US  South Carolina   Greenville   \n",
       "\n",
       "  Work Exp overall Work Exp in current field        Education      Gender  \\\n",
       "0        5-7 years                 5-7 years  Master's degree       Woman   \n",
       "1     8 - 10 years                 5-7 years   College degree  Non-binary   \n",
       "2      2 - 4 years               2 - 4 years   College degree       Woman   \n",
       "3     8 - 10 years                 5-7 years   College degree       Woman   \n",
       "4     8 - 10 years                 5-7 years   College degree       Woman   \n",
       "\n",
       "    Race  \n",
       "0  White  \n",
       "1  White  \n",
       "2  White  \n",
       "3  White  \n",
       "4  White  "
      ]
     },
     "execution_count": 8,
     "metadata": {},
     "output_type": "execute_result"
    }
   ],
   "source": [
    "pima.columns = ['Timestamp', 'Age','Current Industry', 'Job Title', 'Job Additional Context','Salary Per Anum','Monetary compensation','Salary Currency','Other Currency','income context','country office','US state','US City','Work Exp overall','Work Exp in current field','Education','Gender','Race']\n",
    "pima.head()"
   ]
  },
  {
   "cell_type": "code",
   "execution_count": 10,
   "id": "ff8f4fd6",
   "metadata": {},
   "outputs": [
    {
     "data": {
      "text/plain": [
       "USD        23237\n",
       "CAD         1660\n",
       "GBP         1579\n",
       "EUR          633\n",
       "AUD/NZD      500\n",
       "Other        152\n",
       "CHF           37\n",
       "SEK           37\n",
       "JPY           23\n",
       "ZAR           14\n",
       "HKD            4\n",
       "Name: Salary Currency, dtype: int64"
      ]
     },
     "execution_count": 10,
     "metadata": {},
     "output_type": "execute_result"
    }
   ],
   "source": [
    "pima['Salary Currency'].value_counts()"
   ]
  },
  {
   "cell_type": "code",
   "execution_count": null,
   "id": "c3959731",
   "metadata": {},
   "outputs": [],
   "source": [
    "pima.dtypes #skip"
   ]
  },
  {
   "cell_type": "markdown",
   "id": "569ea0f5",
   "metadata": {},
   "source": [
    "## Find out the Null Values"
   ]
  },
  {
   "cell_type": "code",
   "execution_count": 11,
   "id": "b0d87632",
   "metadata": {},
   "outputs": [
    {
     "data": {
      "text/plain": [
       "Timestamp                        0\n",
       "Age                              0\n",
       "Current Industry                71\n",
       "Job Title                        0\n",
       "Job Additional Context       20665\n",
       "Salary Per Anum                  0\n",
       "Monetary compensation         7227\n",
       "Salary Currency                  0\n",
       "Other Currency               27683\n",
       "income context               24848\n",
       "country office                   0\n",
       "US state                      4959\n",
       "US City                         75\n",
       "Work Exp overall                 0\n",
       "Work Exp in current field        0\n",
       "Education                      211\n",
       "Gender                         165\n",
       "Race                           165\n",
       "dtype: int64"
      ]
     },
     "execution_count": 11,
     "metadata": {},
     "output_type": "execute_result"
    }
   ],
   "source": [
    "pima.isnull().sum()"
   ]
  },
  {
   "cell_type": "markdown",
   "id": "693f93d8",
   "metadata": {},
   "source": [
    "# Clean data based on data condition:"
   ]
  },
  {
   "cell_type": "markdown",
   "id": "34c3bfdb",
   "metadata": {},
   "source": [
    "## Drop irrelevant Column(s)"
   ]
  },
  {
   "cell_type": "code",
   "execution_count": null,
   "id": "23d4ffdf",
   "metadata": {},
   "outputs": [],
   "source": [
    "pima = pima.drop('Other Currency', axis=1)\n",
    "pima.head()"
   ]
  },
  {
   "cell_type": "code",
   "execution_count": null,
   "id": "f6e13e3c",
   "metadata": {},
   "outputs": [],
   "source": [
    "pima = pima.drop('income context', axis=1)\n",
    "pima.head()"
   ]
  },
  {
   "cell_type": "code",
   "execution_count": null,
   "id": "1ca35659",
   "metadata": {},
   "outputs": [],
   "source": [
    "pima.shape"
   ]
  },
  {
   "cell_type": "markdown",
   "id": "f4b9a250",
   "metadata": {},
   "source": [
    "### Find and Replace the NUll values with most common value"
   ]
  },
  {
   "cell_type": "code",
   "execution_count": null,
   "id": "6cd69069",
   "metadata": {},
   "outputs": [],
   "source": [
    "#pima['Race'].value_counts()\n",
    "pima['Race']= pima['Race'].fillna(\"White\")"
   ]
  },
  {
   "cell_type": "code",
   "execution_count": null,
   "id": "b016b7b2",
   "metadata": {},
   "outputs": [],
   "source": [
    "pima['Race'].value_counts().head()"
   ]
  },
  {
   "cell_type": "markdown",
   "id": "c98610e9",
   "metadata": {},
   "source": []
  },
  {
   "cell_type": "markdown",
   "id": "5d679054",
   "metadata": {},
   "source": [
    "## Adding new columns to the Dataset:"
   ]
  },
  {
   "cell_type": "code",
   "execution_count": null,
   "id": "aff28ad6",
   "metadata": {},
   "outputs": [],
   "source": [
    "pima['Monetary compensation']= pima['Monetary compensation'].fillna(0)\n",
    "pima.head()"
   ]
  },
  {
   "cell_type": "code",
   "execution_count": null,
   "id": "e6c963aa",
   "metadata": {},
   "outputs": [],
   "source": [
    "pima['Total Compensation']= pima['Salary Per Anum']+ pima['Monetary compensation']\n",
    "pima.head()"
   ]
  },
  {
   "cell_type": "code",
   "execution_count": null,
   "id": "8601dd4b",
   "metadata": {},
   "outputs": [],
   "source": [
    "pima['Total Compensation'].isna().sum()"
   ]
  },
  {
   "cell_type": "markdown",
   "id": "eba3314b",
   "metadata": {},
   "source": [
    "# Handling Outliers:\n",
    "\n",
    "### explanation \n",
    "\n"
   ]
  },
  {
   "cell_type": "markdown",
   "id": "6e662b90",
   "metadata": {},
   "source": [
    "### Load the Dataset and View data"
   ]
  },
  {
   "cell_type": "code",
   "execution_count": null,
   "id": "5136a559",
   "metadata": {},
   "outputs": [],
   "source": [
    "nyc=pd.read_csv(\"datasets/AB_NYC_2019.csv\")\n",
    "nyc.head()"
   ]
  },
  {
   "cell_type": "code",
   "execution_count": null,
   "id": "b308b31f",
   "metadata": {},
   "outputs": [],
   "source": [
    "nyc.shape"
   ]
  },
  {
   "cell_type": "code",
   "execution_count": null,
   "id": "4512a750",
   "metadata": {},
   "outputs": [],
   "source": [
    "bin_count=400\n",
    "nyc.hist(column='price',bins=bin_count,figsize=(10,7))\n"
   ]
  },
  {
   "cell_type": "markdown",
   "id": "2a8fb44e",
   "metadata": {},
   "source": [
    "### Spread of 'price' data in terms of numbers:\n"
   ]
  },
  {
   "cell_type": "code",
   "execution_count": null,
   "id": "71a9bfea",
   "metadata": {},
   "outputs": [],
   "source": [
    "nyc.describe()"
   ]
  },
  {
   "cell_type": "code",
   "execution_count": null,
   "id": "60e5718f",
   "metadata": {},
   "outputs": [],
   "source": [
    "nyc['price'].quantile(0.98)"
   ]
  },
  {
   "cell_type": "markdown",
   "id": "f1934702",
   "metadata": {},
   "source": [
    "### Removing the Outliers:"
   ]
  },
  {
   "cell_type": "markdown",
   "id": "c32b30d4",
   "metadata": {},
   "source": [
    "### Clipping the data within lower and upper range "
   ]
  },
  {
   "cell_type": "code",
   "execution_count": null,
   "id": "44abfd14",
   "metadata": {},
   "outputs": [],
   "source": [
    "nyc['price']= nyc['price'].clip(nyc['price'].quantile(0.01), nyc['price'].quantile(0.98))"
   ]
  },
  {
   "cell_type": "code",
   "execution_count": null,
   "id": "133d75a0",
   "metadata": {},
   "outputs": [],
   "source": [
    "nyc['price'].max()"
   ]
  },
  {
   "cell_type": "code",
   "execution_count": null,
   "id": "04e94cdc",
   "metadata": {},
   "outputs": [],
   "source": [
    "nyc['price'].min()"
   ]
  },
  {
   "cell_type": "code",
   "execution_count": null,
   "id": "c6a680fb",
   "metadata": {},
   "outputs": [],
   "source": [
    "nyc.describe()"
   ]
  },
  {
   "cell_type": "code",
   "execution_count": null,
   "id": "d65a0bcb",
   "metadata": {},
   "outputs": [],
   "source": []
  }
 ],
 "metadata": {
  "kernelspec": {
   "display_name": "Python 3",
   "language": "python",
   "name": "python3"
  },
  "language_info": {
   "codemirror_mode": {
    "name": "ipython",
    "version": 3
   },
   "file_extension": ".py",
   "mimetype": "text/x-python",
   "name": "python",
   "nbconvert_exporter": "python",
   "pygments_lexer": "ipython3",
   "version": "3.7.12"
  },
  "toc-showcode": false,
  "toc-showmarkdowntxt": false,
  "toc-showtags": false
 },
 "nbformat": 4,
 "nbformat_minor": 5
}
