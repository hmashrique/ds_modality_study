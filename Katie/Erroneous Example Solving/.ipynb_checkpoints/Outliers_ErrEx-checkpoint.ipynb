{
 "cells": [
  {
   "cell_type": "markdown",
   "id": "77d48945",
   "metadata": {},
   "source": [
    "## Problem Description\n",
    "\n",
    "In this problem, we have a dataset about students admisson  named `binary_outliers.csv`. The dataset is a classification dataset which determines if a student can get admission based on their `gre,gpa and rank`. In the dataset, feature `gre` contains outlier data which we need to remove.\n",
    "\n",
    "In this problem, the solution steps are given but each step contains some errors in them(some steps may not have any error). We have to correct the errors in each step and move on to the next in order completely remove the outliers from `gre` feature.\n",
    "\n",
    "For each step given below, follow the instructions in them and move on to the next one to finally remove the outliers from `gre` column and see the results.\n",
    "Some steps might not show any error message but they will give an unexpected output which is also an error.\n",
    "\n",
    "\n"
   ]
  },
  {
   "cell_type": "markdown",
   "id": "a7b422a3",
   "metadata": {},
   "source": [
    "#### Load the dataset:\n",
    "\n",
    " - Run the cell below and see the error message\n",
    " - Correct the error(s) and run cell again"
   ]
  },
  {
   "cell_type": "code",
   "execution_count": null,
   "id": "a320f36a",
   "metadata": {},
   "outputs": [],
   "source": [
    "import pandas as pd\n",
    "\n",
    "gredata= read_csv(\"../datasets/binary_outliers.csv\") "
   ]
  },
  {
   "cell_type": "markdown",
   "id": "4dfcc49f",
   "metadata": {},
   "source": [
    "- Run the cell below:\n",
    "    "
   ]
  },
  {
   "cell_type": "code",
   "execution_count": null,
   "id": "e24fc8f0",
   "metadata": {},
   "outputs": [],
   "source": [
    "gredata"
   ]
  },
  {
   "cell_type": "markdown",
   "id": "0226282f",
   "metadata": {},
   "source": [
    "#### Where did we store the data in?\n",
    "(Type answer here)"
   ]
  },
  {
   "cell_type": "markdown",
   "id": "77e4946f",
   "metadata": {},
   "source": [
    "## Check for Outliers in the `gre` data"
   ]
  },
  {
   "cell_type": "markdown",
   "id": "a0b89a67",
   "metadata": {},
   "source": [
    "### Plot a strip plot to check for outliers\n",
    "\n",
    " - Run the cell below and see the error message\n",
    " - Correct the error(s) and run cell again"
   ]
  },
  {
   "cell_type": "code",
   "execution_count": null,
   "id": "91724dc2",
   "metadata": {},
   "outputs": [],
   "source": [
    "import plotly.express as px\n",
    "\n",
    "fig= px.strip(y='gre') \n",
    "\n",
    "fig.show()\n"
   ]
  },
  {
   "cell_type": "markdown",
   "id": "d774dbd1",
   "metadata": {},
   "source": [
    "#### What is the maximum value in this plot?\n",
    "(Type answer here)"
   ]
  },
  {
   "cell_type": "markdown",
   "id": "22e80b01",
   "metadata": {},
   "source": [
    "### Plot a boxplot for outlier estimation\n",
    "\n",
    " - Run the cell below and see the error message\n",
    " - Correct the error(s) and run cell again"
   ]
  },
  {
   "cell_type": "code",
   "execution_count": null,
   "id": "46d9ad26",
   "metadata": {},
   "outputs": [],
   "source": [
    "box1= boxplot(column='gpa', figsize=(20,5), fontsize='20', vert=False) \n",
    "\n",
    "box1"
   ]
  },
  {
   "cell_type": "markdown",
   "id": "4faa22fb",
   "metadata": {},
   "source": [
    "From the boxplot we got, where do the outliers apprximately lie?\n",
    "\n",
    "(Type answer here)"
   ]
  },
  {
   "cell_type": "markdown",
   "id": "3b65fe63",
   "metadata": {},
   "source": [
    "### Use `describe()` for `gre` distribution by numbers:\n",
    "\n",
    " - Run the cell below and see the error message\n",
    " - Correct the error(s) and run cell again"
   ]
  },
  {
   "cell_type": "code",
   "execution_count": null,
   "id": "49e3f9a3",
   "metadata": {},
   "outputs": [],
   "source": [
    "gredata.describe()"
   ]
  },
  {
   "cell_type": "markdown",
   "id": "ce5f381d",
   "metadata": {},
   "source": [
    "## Find the outlier points:"
   ]
  },
  {
   "cell_type": "markdown",
   "id": "62db2c7d",
   "metadata": {},
   "source": [
    "### Find the upper and lower bounds:\n",
    "\n",
    " - Run the cell below and see the error message \n",
    " - Correct the error(s) and run cell again"
   ]
  },
  {
   "cell_type": "markdown",
   "id": "a14c926e",
   "metadata": {},
   "source": [
    "### Calculate Q1:"
   ]
  },
  {
   "cell_type": "code",
   "execution_count": null,
   "id": "94395efd",
   "metadata": {},
   "outputs": [],
   "source": [
    "q1= gredata['gre'].quantile()\n",
    "\n",
    "print(f\"q1: {q1}\")"
   ]
  },
  {
   "cell_type": "markdown",
   "id": "3d2f9db7",
   "metadata": {},
   "source": [
    "- Run the cell below and see the error message \n",
    "- Correct the error(s) and run cell again"
   ]
  },
  {
   "cell_type": "markdown",
   "id": "71ff82b2",
   "metadata": {},
   "source": [
    "### Calculate Q3:"
   ]
  },
  {
   "cell_type": "code",
   "execution_count": null,
   "id": "56699f60",
   "metadata": {},
   "outputs": [],
   "source": [
    "q3= gredata['gre'].quantile(.60)\n",
    "\n",
    "print(f\"q3: {q3}\")"
   ]
  },
  {
   "cell_type": "markdown",
   "id": "79c408c1",
   "metadata": {},
   "source": [
    "### Find the interquartile range:\n",
    "\n",
    " - Run the cell below and see the error message\n",
    " - Correct the error(s) and run cell again"
   ]
  },
  {
   "cell_type": "code",
   "execution_count": null,
   "id": "cfb73817",
   "metadata": {},
   "outputs": [],
   "source": [
    "iqr= q3 - q2 \n",
    "\n",
    "print(f\"iqr: {iqr}\")"
   ]
  },
  {
   "cell_type": "markdown",
   "id": "26c3a3ee",
   "metadata": {},
   "source": [
    "### Calculate the upper and lower bound for outliers:\n",
    "\n",
    " - Run the cell below and see the error message\n",
    " - Correct the error(s) and run cell again"
   ]
  },
  {
   "cell_type": "code",
   "execution_count": null,
   "id": "3e624502",
   "metadata": {},
   "outputs": [],
   "source": [
    "upper_bound= q1 + 1.5*iqr\n",
    "\n",
    "lower_bound= q2 - 1.5*iqr\n",
    "\n",
    "print(\"upper bound\",upper_bound)\n",
    "print(\"lower bound\",lower_bound)"
   ]
  },
  {
   "cell_type": "markdown",
   "id": "b34fbfc2",
   "metadata": {},
   "source": [
    "### Clipping points:\n",
    "\n",
    " - Run the cell below and see the error message\n",
    " - Correct the error(s) and run cell again"
   ]
  },
  {
   "cell_type": "code",
   "execution_count": null,
   "id": "c3d6e13a",
   "metadata": {},
   "outputs": [],
   "source": [
    "lower_point= max(upper_bound, gredata['gre'].max())\n",
    "\n",
    "print(\"lower_point\", lower_point)\n",
    "\n",
    "upper_point= min(upper_bound, gredata['gre'].min()) \n",
    "\n",
    "print(\"upper_point\", upper_point)"
   ]
  },
  {
   "cell_type": "markdown",
   "id": "e03290fd",
   "metadata": {},
   "source": [
    "## Clip the Outliers:"
   ]
  },
  {
   "cell_type": "markdown",
   "id": "281588f5",
   "metadata": {},
   "source": [
    "### Clip `price` data with lower and upper limit:\n",
    "\n",
    " - Check the code cell below\n",
    " - Find the error in it\n",
    " - Correct the error(s) and run the cell"
   ]
  },
  {
   "cell_type": "code",
   "execution_count": null,
   "id": "6209e92e",
   "metadata": {},
   "outputs": [],
   "source": [
    "gredata['gre']= gredata['gre'].clip(upper_bound,lower_point)  "
   ]
  },
  {
   "cell_type": "markdown",
   "id": "8660b4d4",
   "metadata": {},
   "source": [
    "### Check `gre` distribution after clipping\n",
    "\n",
    " - Run the cell below "
   ]
  },
  {
   "cell_type": "code",
   "execution_count": null,
   "id": "9bbefd7d",
   "metadata": {},
   "outputs": [],
   "source": [
    "gredata['gre'].describe()"
   ]
  },
  {
   "cell_type": "markdown",
   "id": "7be3b06e",
   "metadata": {},
   "source": [
    "## Distribution after clipping data\n",
    "\n",
    " - Run the cell below and see the error message\n",
    " - Correct the error(s) and run cell again"
   ]
  },
  {
   "cell_type": "code",
   "execution_count": null,
   "id": "fa5daa30",
   "metadata": {},
   "outputs": [],
   "source": [
    "fig= px.strip('gre') \n",
    "\n",
    "fig.show()"
   ]
  },
  {
   "cell_type": "markdown",
   "id": "4809bf81",
   "metadata": {},
   "source": [
    "### What is the minimum value of this plot?\n",
    "\n",
    "(type answer here)"
   ]
  },
  {
   "cell_type": "markdown",
   "id": "ac949850",
   "metadata": {},
   "source": [
    " - Run the cell below and see the error message\n",
    " - Correct the error(s) and run cell again"
   ]
  },
  {
   "cell_type": "code",
   "execution_count": null,
   "id": "fcf59c49",
   "metadata": {},
   "outputs": [],
   "source": [
    "box2= gredata.boxplot(column='rank', figsize=(10,5), fontsize='8', vert=False)\n",
    "box2"
   ]
  }
 ],
 "metadata": {
  "kernelspec": {
   "display_name": "Python 3",
   "language": "python",
   "name": "python3"
  },
  "language_info": {
   "codemirror_mode": {
    "name": "ipython",
    "version": 3
   },
   "file_extension": ".py",
   "mimetype": "text/x-python",
   "name": "python",
   "nbconvert_exporter": "python",
   "pygments_lexer": "ipython3",
   "version": "3.7.12"
  }
 },
 "nbformat": 4,
 "nbformat_minor": 5
}
