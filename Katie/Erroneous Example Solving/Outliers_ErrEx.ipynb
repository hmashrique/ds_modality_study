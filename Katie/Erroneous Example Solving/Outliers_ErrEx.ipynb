{
 "cells": [
  {
   "cell_type": "markdown",
   "id": "880e96c2",
   "metadata": {},
   "source": [
    "## Problem Description\n",
    "\n",
    "In this problem, we have a dataset about students admisson  named `college_admissions.csv`. The dataset is a classification dataset which determines if a student can get admission based on their `gre,gpa and rank`. In the dataset, feature `gre` contains outlier data which we need to remove.\n",
    "\n",
    "In this problem, the solution steps are given but each step contains some errors in them(some steps may not have any error). We have to correct the errors in each step and move on to the next in order completely remove the outliers from `gre` feature.\n",
    "\n",
    "For each step given below, follow the instructions in them and move on to the next one to finally remove the outliers from `gre` column and see the results.\n",
    "Some steps might not show any error message but they will give an unexpected output which is also an error.\n",
    "\n",
    "\n"
   ]
  },
  {
   "cell_type": "markdown",
   "id": "d5de2b04",
   "metadata": {},
   "source": [
    "#### Load the dataset:\n",
    "\n",
    " - Run the cell below and see the error message\n",
    " - Correct the error(s) and run cell again"
   ]
  },
  {
   "cell_type": "code",
   "execution_count": null,
   "id": "09f359eb",
   "metadata": {},
   "outputs": [],
   "source": [
    "import pandas as pd\n",
    "\n",
    "gredata= read_csv(\"../datasets/college_admissions.csv\") "
   ]
  },
  {
   "cell_type": "markdown",
   "id": "d4a39fc7",
   "metadata": {},
   "source": [
    "- Run the cell below:\n",
    "    "
   ]
  },
  {
   "cell_type": "code",
   "execution_count": null,
   "id": "aa6896ed",
   "metadata": {},
   "outputs": [],
   "source": [
    "gredata"
   ]
  },
  {
   "cell_type": "markdown",
   "id": "710f62e3",
   "metadata": {},
   "source": [
    "#### Where did we store the data in?\n",
    "(Type answer here)"
   ]
  },
  {
   "cell_type": "markdown",
   "id": "28a9f221",
   "metadata": {},
   "source": [
    "## Check for Outliers in the `gre` data"
   ]
  },
  {
   "cell_type": "markdown",
   "id": "651335bb",
   "metadata": {},
   "source": [
    "### Plot a strip plot to check for outliers\n",
    "\n",
    " - Run the cell below and see the error message\n",
    " - Correct the error(s) and run cell again"
   ]
  },
  {
   "cell_type": "code",
   "execution_count": null,
   "id": "b39550dc",
   "metadata": {},
   "outputs": [],
   "source": [
    "import plotly.express as px\n",
    "\n",
    "fig= px.strip(y='gre') \n",
    "\n",
    "fig.show()\n"
   ]
  },
  {
   "cell_type": "markdown",
   "id": "ddf14930",
   "metadata": {},
   "source": [
    "#### What is the maximum value in this plot?\n",
    "(Type answer here)"
   ]
  },
  {
   "cell_type": "markdown",
   "id": "6dff143c",
   "metadata": {},
   "source": [
    "### Plot a boxplot for outlier estimation\n",
    "\n",
    " - Run the cell below and see the error message\n",
    " - Correct the error(s) and run cell again"
   ]
  },
  {
   "cell_type": "code",
   "execution_count": null,
   "id": "c4e72417",
   "metadata": {},
   "outputs": [],
   "source": [
    "box1= boxplot(column='gpa', figsize=(20,5), fontsize='20', vert=False) \n",
    "\n",
    "box1"
   ]
  },
  {
   "cell_type": "markdown",
   "id": "28582847",
   "metadata": {},
   "source": [
    "From the boxplot we got, where do the outliers apprximately lie?\n",
    "\n",
    "(Type answer here)"
   ]
  },
  {
   "cell_type": "markdown",
   "id": "a8d15c26",
   "metadata": {},
   "source": [
    "### Use `describe()` for `gre` distribution by numbers:\n",
    "\n",
    " - Run the cell below and see the error message\n",
    " - Correct the error(s) and run cell again"
   ]
  },
  {
   "cell_type": "code",
   "execution_count": null,
   "id": "63ab6729",
   "metadata": {},
   "outputs": [],
   "source": [
    "gredata.describe()"
   ]
  },
  {
   "cell_type": "markdown",
   "id": "c21a6b56",
   "metadata": {},
   "source": [
    "## Find the outlier points:"
   ]
  },
  {
   "cell_type": "markdown",
   "id": "2324756d",
   "metadata": {},
   "source": [
    "### Find the upper and lower bounds:\n",
    "\n",
    " - Run the cell below and see the error message \n",
    " - Correct the error(s) and run cell again"
   ]
  },
  {
   "cell_type": "markdown",
   "id": "93868d9d",
   "metadata": {},
   "source": [
    "### Calculate Q1:"
   ]
  },
  {
   "cell_type": "code",
   "execution_count": null,
   "id": "8872643a",
   "metadata": {},
   "outputs": [],
   "source": [
    "q1= gredata['gre'].quantile()\n",
    "\n",
    "print(f\"q1: {q1}\")"
   ]
  },
  {
   "cell_type": "markdown",
   "id": "0bd718d4",
   "metadata": {},
   "source": [
    "- Run the cell below and see the error message \n",
    "- Correct the error(s) and run cell again"
   ]
  },
  {
   "cell_type": "markdown",
   "id": "eb2fe56b",
   "metadata": {},
   "source": [
    "### Calculate Q3:"
   ]
  },
  {
   "cell_type": "code",
   "execution_count": null,
   "id": "4bdb8c55",
   "metadata": {},
   "outputs": [],
   "source": [
    "q3= gredata['gre'].quantile(.60)\n",
    "\n",
    "print(f\"q3: {q3}\")"
   ]
  },
  {
   "cell_type": "markdown",
   "id": "96264818",
   "metadata": {},
   "source": [
    "### Find the interquartile range:\n",
    "\n",
    " - Run the cell below and see the error message\n",
    " - Correct the error(s) and run cell again"
   ]
  },
  {
   "cell_type": "code",
   "execution_count": null,
   "id": "8c682947",
   "metadata": {},
   "outputs": [],
   "source": [
    "iqr= q3 - q2 \n",
    "\n",
    "print(f\"iqr: {iqr}\")"
   ]
  },
  {
   "cell_type": "markdown",
   "id": "b315d16c",
   "metadata": {},
   "source": [
    "### Calculate the upper and lower bound for outliers:\n",
    "\n",
    " - Run the cell below and see the error message\n",
    " - Correct the error(s) and run cell again"
   ]
  },
  {
   "cell_type": "code",
   "execution_count": null,
   "id": "b2fb3b41",
   "metadata": {},
   "outputs": [],
   "source": [
    "upper_bound= q1 + 1.5*iqr\n",
    "\n",
    "lower_bound= q2 - 1.5*iqr\n",
    "\n",
    "print(\"upper bound\",upper_bound)\n",
    "print(\"lower bound\",lower_bound)"
   ]
  },
  {
   "cell_type": "markdown",
   "id": "7c348011",
   "metadata": {},
   "source": [
    "### Clipping points:\n",
    "\n",
    " - Run the cell below and see the error message\n",
    " - Correct the error(s) and run cell again"
   ]
  },
  {
   "cell_type": "code",
   "execution_count": null,
   "id": "c6b8bece",
   "metadata": {},
   "outputs": [],
   "source": [
    "lower_point= max(upper_bound, gredata['gre'].max())\n",
    "\n",
    "print(\"lower_point\", lower_point)\n",
    "\n",
    "upper_point= min(upper_bound, gredata['gre'].min()) \n",
    "\n",
    "print(\"upper_point\", upper_point)"
   ]
  },
  {
   "cell_type": "markdown",
   "id": "bb24aae2",
   "metadata": {},
   "source": [
    "## Clip the Outliers:"
   ]
  },
  {
   "cell_type": "markdown",
   "id": "4484ac3a",
   "metadata": {},
   "source": [
    "### Clip `price` data with lower and upper limit:\n",
    "\n",
    " - Check the code cell below\n",
    " - Find the error in it\n",
    " - Correct the error(s) and run the cell"
   ]
  },
  {
   "cell_type": "code",
   "execution_count": null,
   "id": "f1e1da1f",
   "metadata": {},
   "outputs": [],
   "source": [
    "gredata['gre']= gredata['gre'].clip(upper_bound,lower_point)  "
   ]
  },
  {
   "cell_type": "markdown",
   "id": "de91b1d8",
   "metadata": {},
   "source": [
    "### Check `gre` distribution after clipping\n",
    "\n",
    " - Run the cell below "
   ]
  },
  {
   "cell_type": "code",
   "execution_count": null,
   "id": "13d9d1c4",
   "metadata": {},
   "outputs": [],
   "source": [
    "gredata['gre'].describe()"
   ]
  },
  {
   "cell_type": "markdown",
   "id": "d5b868ff",
   "metadata": {},
   "source": [
    "## Distribution after clipping data\n",
    "\n",
    " - Run the cell below and see the error message\n",
    " - Correct the error(s) and run cell again"
   ]
  },
  {
   "cell_type": "code",
   "execution_count": null,
   "id": "7474cf00",
   "metadata": {},
   "outputs": [],
   "source": [
    "fig= px.strip('gre') \n",
    "\n",
    "fig.show()"
   ]
  },
  {
   "cell_type": "markdown",
   "id": "0b6af6f6",
   "metadata": {},
   "source": [
    "### What is the minimum value of this plot?\n",
    "\n",
    "(type answer here)"
   ]
  },
  {
   "cell_type": "markdown",
   "id": "bdfe2b45",
   "metadata": {},
   "source": [
    " - Run the cell below and see the error message\n",
    " - Correct the error(s) and run cell again"
   ]
  },
  {
   "cell_type": "code",
   "execution_count": null,
   "id": "4a8e958c",
   "metadata": {},
   "outputs": [],
   "source": [
    "box2= gredata.boxplot(column='rank', figsize=(10,5), fontsize='8', vert=False)\n",
    "box2"
   ]
  }
 ],
 "metadata": {
  "kernelspec": {
   "display_name": "Python 3",
   "language": "python",
   "name": "python3"
  },
  "language_info": {
   "codemirror_mode": {
    "name": "ipython",
    "version": 3
   },
   "file_extension": ".py",
   "mimetype": "text/x-python",
   "name": "python",
   "nbconvert_exporter": "python",
   "pygments_lexer": "ipython3",
   "version": "3.7.12"
  }
 },
 "nbformat": 4,
 "nbformat_minor": 5
}
