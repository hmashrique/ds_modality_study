{
 "cells": [
  {
   "cell_type": "markdown",
   "id": "f5fa4aef",
   "metadata": {},
   "source": [
    "## Outliers: Problem Solving"
   ]
  },
  {
   "cell_type": "markdown",
   "id": "75603a51",
   "metadata": {},
   "source": [
    "### Idea:\n",
    "- give no structure(sub-goals), just the problem description."
   ]
  },
  {
   "cell_type": "markdown",
   "id": "9afc4f23",
   "metadata": {},
   "source": [
    "## Problem description"
   ]
  },
  {
   "cell_type": "markdown",
   "id": "6d250ee3",
   "metadata": {},
   "source": [
    "For our problem at hand, we have a dataset named boston apartments which has information about houses in the boston area. Our actual goal is to predict the price of an apartment given its features.\n",
    "\n",
    "Bt as an initial step to building a ML model, we need to check if there are outliers in the price column.\n",
    "\n",
    "So, using different methods we try to find out the outliers in price data if any.\n",
    "\n",
    "[only give the problem statement and let the students ccpme up with the solution]"
   ]
  },
  {
   "cell_type": "markdown",
   "id": "fbc38afc",
   "metadata": {},
   "source": [
    "### Step 1: Read the data from source "
   ]
  },
  {
   "cell_type": "markdown",
   "id": "4d42ab14",
   "metadata": {},
   "source": [
    "As a first step , read the source data from the **boston_apartments.csv** file."
   ]
  },
  {
   "cell_type": "code",
   "execution_count": 6,
   "id": "9afb4582",
   "metadata": {},
   "outputs": [
    {
     "data": {
      "text/html": [
       "<div>\n",
       "<style scoped>\n",
       "    .dataframe tbody tr th:only-of-type {\n",
       "        vertical-align: middle;\n",
       "    }\n",
       "\n",
       "    .dataframe tbody tr th {\n",
       "        vertical-align: top;\n",
       "    }\n",
       "\n",
       "    .dataframe thead th {\n",
       "        text-align: right;\n",
       "    }\n",
       "</style>\n",
       "<table border=\"1\" class=\"dataframe\">\n",
       "  <thead>\n",
       "    <tr style=\"text-align: right;\">\n",
       "      <th></th>\n",
       "      <th>id</th>\n",
       "      <th>name</th>\n",
       "      <th>host_id</th>\n",
       "      <th>host_since</th>\n",
       "      <th>host_location</th>\n",
       "      <th>host_acceptance_rate</th>\n",
       "      <th>host_is_superhost</th>\n",
       "      <th>host_neighbourhood</th>\n",
       "      <th>host_total_listings_count</th>\n",
       "      <th>host_verifications</th>\n",
       "      <th>...</th>\n",
       "      <th>availability_365</th>\n",
       "      <th>number_of_reviews</th>\n",
       "      <th>review_scores_rating</th>\n",
       "      <th>review_scores_accuracy</th>\n",
       "      <th>review_scores_cleanliness</th>\n",
       "      <th>review_scores_checkin</th>\n",
       "      <th>review_scores_communication</th>\n",
       "      <th>review_scores_location</th>\n",
       "      <th>review_scores_value</th>\n",
       "      <th>reviews_per_month</th>\n",
       "    </tr>\n",
       "  </thead>\n",
       "  <tbody>\n",
       "    <tr>\n",
       "      <th>0</th>\n",
       "      <td>3781</td>\n",
       "      <td>HARBORSIDE-Walk to subway</td>\n",
       "      <td>4804</td>\n",
       "      <td>12/3/08</td>\n",
       "      <td>Massachusetts</td>\n",
       "      <td>44%</td>\n",
       "      <td>t</td>\n",
       "      <td>East Boston</td>\n",
       "      <td>5</td>\n",
       "      <td>['email', 'phone', 'reviews']</td>\n",
       "      <td>...</td>\n",
       "      <td>97</td>\n",
       "      <td>16</td>\n",
       "      <td>99.0</td>\n",
       "      <td>10.0</td>\n",
       "      <td>10.0</td>\n",
       "      <td>10.0</td>\n",
       "      <td>10.0</td>\n",
       "      <td>10.0</td>\n",
       "      <td>10.0</td>\n",
       "      <td>0.28</td>\n",
       "    </tr>\n",
       "    <tr>\n",
       "      <th>1</th>\n",
       "      <td>8789</td>\n",
       "      <td>Curved Glass Studio/1bd facing Park</td>\n",
       "      <td>26988</td>\n",
       "      <td>7/22/09</td>\n",
       "      <td>Boston, Massachusetts, United States</td>\n",
       "      <td>83%</td>\n",
       "      <td>t</td>\n",
       "      <td>Beacon Hill</td>\n",
       "      <td>10</td>\n",
       "      <td>['email', 'phone', 'reviews', 'jumio', 'offlin...</td>\n",
       "      <td>...</td>\n",
       "      <td>290</td>\n",
       "      <td>24</td>\n",
       "      <td>93.0</td>\n",
       "      <td>9.0</td>\n",
       "      <td>9.0</td>\n",
       "      <td>10.0</td>\n",
       "      <td>10.0</td>\n",
       "      <td>10.0</td>\n",
       "      <td>9.0</td>\n",
       "      <td>0.35</td>\n",
       "    </tr>\n",
       "    <tr>\n",
       "      <th>2</th>\n",
       "      <td>10730</td>\n",
       "      <td>Bright 1bed facing Golden Dome</td>\n",
       "      <td>26988</td>\n",
       "      <td>7/22/09</td>\n",
       "      <td>Boston, Massachusetts, United States</td>\n",
       "      <td>83%</td>\n",
       "      <td>t</td>\n",
       "      <td>Beacon Hill</td>\n",
       "      <td>10</td>\n",
       "      <td>['email', 'phone', 'reviews', 'jumio', 'offlin...</td>\n",
       "      <td>...</td>\n",
       "      <td>42</td>\n",
       "      <td>31</td>\n",
       "      <td>95.0</td>\n",
       "      <td>10.0</td>\n",
       "      <td>9.0</td>\n",
       "      <td>10.0</td>\n",
       "      <td>10.0</td>\n",
       "      <td>10.0</td>\n",
       "      <td>9.0</td>\n",
       "      <td>0.24</td>\n",
       "    </tr>\n",
       "    <tr>\n",
       "      <th>3</th>\n",
       "      <td>10813</td>\n",
       "      <td>Back Bay Apt-blocks to subway, Newbury St, The...</td>\n",
       "      <td>38997</td>\n",
       "      <td>9/16/09</td>\n",
       "      <td>US</td>\n",
       "      <td>15%</td>\n",
       "      <td>f</td>\n",
       "      <td>Back Bay</td>\n",
       "      <td>13</td>\n",
       "      <td>['email', 'phone', 'reviews', 'jumio', 'offlin...</td>\n",
       "      <td>...</td>\n",
       "      <td>0</td>\n",
       "      <td>80</td>\n",
       "      <td>98.0</td>\n",
       "      <td>10.0</td>\n",
       "      <td>10.0</td>\n",
       "      <td>10.0</td>\n",
       "      <td>10.0</td>\n",
       "      <td>10.0</td>\n",
       "      <td>10.0</td>\n",
       "      <td>2.74</td>\n",
       "    </tr>\n",
       "    <tr>\n",
       "      <th>4</th>\n",
       "      <td>16384</td>\n",
       "      <td>Small Room in Cambridge Kendall MIT</td>\n",
       "      <td>23078</td>\n",
       "      <td>6/24/09</td>\n",
       "      <td>Cambridge, Massachusetts, United States</td>\n",
       "      <td>0%</td>\n",
       "      <td>f</td>\n",
       "      <td>Beacon Hill</td>\n",
       "      <td>3</td>\n",
       "      <td>['email', 'phone', 'facebook', 'reviews', 'jum...</td>\n",
       "      <td>...</td>\n",
       "      <td>365</td>\n",
       "      <td>0</td>\n",
       "      <td>NaN</td>\n",
       "      <td>NaN</td>\n",
       "      <td>NaN</td>\n",
       "      <td>NaN</td>\n",
       "      <td>NaN</td>\n",
       "      <td>NaN</td>\n",
       "      <td>NaN</td>\n",
       "      <td>NaN</td>\n",
       "    </tr>\n",
       "    <tr>\n",
       "      <th>...</th>\n",
       "      <td>...</td>\n",
       "      <td>...</td>\n",
       "      <td>...</td>\n",
       "      <td>...</td>\n",
       "      <td>...</td>\n",
       "      <td>...</td>\n",
       "      <td>...</td>\n",
       "      <td>...</td>\n",
       "      <td>...</td>\n",
       "      <td>...</td>\n",
       "      <td>...</td>\n",
       "      <td>...</td>\n",
       "      <td>...</td>\n",
       "      <td>...</td>\n",
       "      <td>...</td>\n",
       "      <td>...</td>\n",
       "      <td>...</td>\n",
       "      <td>...</td>\n",
       "      <td>...</td>\n",
       "      <td>...</td>\n",
       "      <td>...</td>\n",
       "    </tr>\n",
       "    <tr>\n",
       "      <th>2408</th>\n",
       "      <td>43148398</td>\n",
       "      <td>Spacious Queen Room in North End</td>\n",
       "      <td>297860058</td>\n",
       "      <td>9/25/19</td>\n",
       "      <td>US</td>\n",
       "      <td>44%</td>\n",
       "      <td>t</td>\n",
       "      <td>Allston-Brighton</td>\n",
       "      <td>1</td>\n",
       "      <td>['email', 'phone', 'jumio', 'offline_governmen...</td>\n",
       "      <td>...</td>\n",
       "      <td>348</td>\n",
       "      <td>0</td>\n",
       "      <td>NaN</td>\n",
       "      <td>NaN</td>\n",
       "      <td>NaN</td>\n",
       "      <td>NaN</td>\n",
       "      <td>NaN</td>\n",
       "      <td>NaN</td>\n",
       "      <td>NaN</td>\n",
       "      <td>NaN</td>\n",
       "    </tr>\n",
       "    <tr>\n",
       "      <th>2409</th>\n",
       "      <td>43154697</td>\n",
       "      <td>2BD by Waterfront, 10 mins to Downtown</td>\n",
       "      <td>2356643</td>\n",
       "      <td>5/12/12</td>\n",
       "      <td>Boston, Massachusetts, United States</td>\n",
       "      <td>100%</td>\n",
       "      <td>f</td>\n",
       "      <td>Theater District</td>\n",
       "      <td>10</td>\n",
       "      <td>['email', 'phone', 'reviews', 'jumio', 'offlin...</td>\n",
       "      <td>...</td>\n",
       "      <td>365</td>\n",
       "      <td>0</td>\n",
       "      <td>NaN</td>\n",
       "      <td>NaN</td>\n",
       "      <td>NaN</td>\n",
       "      <td>NaN</td>\n",
       "      <td>NaN</td>\n",
       "      <td>NaN</td>\n",
       "      <td>NaN</td>\n",
       "      <td>NaN</td>\n",
       "    </tr>\n",
       "    <tr>\n",
       "      <th>2410</th>\n",
       "      <td>43162952</td>\n",
       "      <td>波士顿长木医疗区豪华2室公寓3月起租</td>\n",
       "      <td>47921934</td>\n",
       "      <td>11/1/15</td>\n",
       "      <td>Lexington, Massachusetts, United States</td>\n",
       "      <td>NaN</td>\n",
       "      <td>f</td>\n",
       "      <td>Mission Hill</td>\n",
       "      <td>0</td>\n",
       "      <td>['email', 'phone', 'reviews', 'jumio', 'selfie...</td>\n",
       "      <td>...</td>\n",
       "      <td>365</td>\n",
       "      <td>0</td>\n",
       "      <td>NaN</td>\n",
       "      <td>NaN</td>\n",
       "      <td>NaN</td>\n",
       "      <td>NaN</td>\n",
       "      <td>NaN</td>\n",
       "      <td>NaN</td>\n",
       "      <td>NaN</td>\n",
       "      <td>NaN</td>\n",
       "    </tr>\n",
       "    <tr>\n",
       "      <th>2411</th>\n",
       "      <td>43163112</td>\n",
       "      <td>BRIGHT SPACIOUS BOSTON APARTMENT</td>\n",
       "      <td>136709790</td>\n",
       "      <td>6/24/17</td>\n",
       "      <td>US</td>\n",
       "      <td>NaN</td>\n",
       "      <td>f</td>\n",
       "      <td>Fenway–Kenmore</td>\n",
       "      <td>0</td>\n",
       "      <td>['email', 'phone', 'jumio', 'offline_governmen...</td>\n",
       "      <td>...</td>\n",
       "      <td>76</td>\n",
       "      <td>0</td>\n",
       "      <td>NaN</td>\n",
       "      <td>NaN</td>\n",
       "      <td>NaN</td>\n",
       "      <td>NaN</td>\n",
       "      <td>NaN</td>\n",
       "      <td>NaN</td>\n",
       "      <td>NaN</td>\n",
       "      <td>NaN</td>\n",
       "    </tr>\n",
       "    <tr>\n",
       "      <th>2412</th>\n",
       "      <td>43176358</td>\n",
       "      <td>Spacious Full Room in North End</td>\n",
       "      <td>297860058</td>\n",
       "      <td>9/25/19</td>\n",
       "      <td>US</td>\n",
       "      <td>44%</td>\n",
       "      <td>t</td>\n",
       "      <td>Allston-Brighton</td>\n",
       "      <td>1</td>\n",
       "      <td>['email', 'phone', 'jumio', 'offline_governmen...</td>\n",
       "      <td>...</td>\n",
       "      <td>337</td>\n",
       "      <td>0</td>\n",
       "      <td>NaN</td>\n",
       "      <td>NaN</td>\n",
       "      <td>NaN</td>\n",
       "      <td>NaN</td>\n",
       "      <td>NaN</td>\n",
       "      <td>NaN</td>\n",
       "      <td>NaN</td>\n",
       "      <td>NaN</td>\n",
       "    </tr>\n",
       "  </tbody>\n",
       "</table>\n",
       "<p>2413 rows × 34 columns</p>\n",
       "</div>"
      ],
      "text/plain": [
       "            id                                               name    host_id  \\\n",
       "0         3781                          HARBORSIDE-Walk to subway       4804   \n",
       "1         8789                Curved Glass Studio/1bd facing Park      26988   \n",
       "2        10730                     Bright 1bed facing Golden Dome      26988   \n",
       "3        10813  Back Bay Apt-blocks to subway, Newbury St, The...      38997   \n",
       "4        16384                Small Room in Cambridge Kendall MIT      23078   \n",
       "...        ...                                                ...        ...   \n",
       "2408  43148398                   Spacious Queen Room in North End  297860058   \n",
       "2409  43154697             2BD by Waterfront, 10 mins to Downtown    2356643   \n",
       "2410  43162952                                 波士顿长木医疗区豪华2室公寓3月起租   47921934   \n",
       "2411  43163112                   BRIGHT SPACIOUS BOSTON APARTMENT  136709790   \n",
       "2412  43176358                    Spacious Full Room in North End  297860058   \n",
       "\n",
       "     host_since                            host_location host_acceptance_rate  \\\n",
       "0       12/3/08                            Massachusetts                  44%   \n",
       "1       7/22/09     Boston, Massachusetts, United States                  83%   \n",
       "2       7/22/09     Boston, Massachusetts, United States                  83%   \n",
       "3       9/16/09                                       US                  15%   \n",
       "4       6/24/09  Cambridge, Massachusetts, United States                   0%   \n",
       "...         ...                                      ...                  ...   \n",
       "2408    9/25/19                                       US                  44%   \n",
       "2409    5/12/12     Boston, Massachusetts, United States                 100%   \n",
       "2410    11/1/15  Lexington, Massachusetts, United States                  NaN   \n",
       "2411    6/24/17                                       US                  NaN   \n",
       "2412    9/25/19                                       US                  44%   \n",
       "\n",
       "     host_is_superhost host_neighbourhood  host_total_listings_count  \\\n",
       "0                    t        East Boston                          5   \n",
       "1                    t        Beacon Hill                         10   \n",
       "2                    t        Beacon Hill                         10   \n",
       "3                    f           Back Bay                         13   \n",
       "4                    f        Beacon Hill                          3   \n",
       "...                ...                ...                        ...   \n",
       "2408                 t   Allston-Brighton                          1   \n",
       "2409                 f   Theater District                         10   \n",
       "2410                 f       Mission Hill                          0   \n",
       "2411                 f     Fenway–Kenmore                          0   \n",
       "2412                 t   Allston-Brighton                          1   \n",
       "\n",
       "                                     host_verifications  ... availability_365  \\\n",
       "0                         ['email', 'phone', 'reviews']  ...               97   \n",
       "1     ['email', 'phone', 'reviews', 'jumio', 'offlin...  ...              290   \n",
       "2     ['email', 'phone', 'reviews', 'jumio', 'offlin...  ...               42   \n",
       "3     ['email', 'phone', 'reviews', 'jumio', 'offlin...  ...                0   \n",
       "4     ['email', 'phone', 'facebook', 'reviews', 'jum...  ...              365   \n",
       "...                                                 ...  ...              ...   \n",
       "2408  ['email', 'phone', 'jumio', 'offline_governmen...  ...              348   \n",
       "2409  ['email', 'phone', 'reviews', 'jumio', 'offlin...  ...              365   \n",
       "2410  ['email', 'phone', 'reviews', 'jumio', 'selfie...  ...              365   \n",
       "2411  ['email', 'phone', 'jumio', 'offline_governmen...  ...               76   \n",
       "2412  ['email', 'phone', 'jumio', 'offline_governmen...  ...              337   \n",
       "\n",
       "      number_of_reviews  review_scores_rating review_scores_accuracy  \\\n",
       "0                    16                  99.0                   10.0   \n",
       "1                    24                  93.0                    9.0   \n",
       "2                    31                  95.0                   10.0   \n",
       "3                    80                  98.0                   10.0   \n",
       "4                     0                   NaN                    NaN   \n",
       "...                 ...                   ...                    ...   \n",
       "2408                  0                   NaN                    NaN   \n",
       "2409                  0                   NaN                    NaN   \n",
       "2410                  0                   NaN                    NaN   \n",
       "2411                  0                   NaN                    NaN   \n",
       "2412                  0                   NaN                    NaN   \n",
       "\n",
       "      review_scores_cleanliness  review_scores_checkin  \\\n",
       "0                          10.0                   10.0   \n",
       "1                           9.0                   10.0   \n",
       "2                           9.0                   10.0   \n",
       "3                          10.0                   10.0   \n",
       "4                           NaN                    NaN   \n",
       "...                         ...                    ...   \n",
       "2408                        NaN                    NaN   \n",
       "2409                        NaN                    NaN   \n",
       "2410                        NaN                    NaN   \n",
       "2411                        NaN                    NaN   \n",
       "2412                        NaN                    NaN   \n",
       "\n",
       "      review_scores_communication  review_scores_location review_scores_value  \\\n",
       "0                            10.0                    10.0                10.0   \n",
       "1                            10.0                    10.0                 9.0   \n",
       "2                            10.0                    10.0                 9.0   \n",
       "3                            10.0                    10.0                10.0   \n",
       "4                             NaN                     NaN                 NaN   \n",
       "...                           ...                     ...                 ...   \n",
       "2408                          NaN                     NaN                 NaN   \n",
       "2409                          NaN                     NaN                 NaN   \n",
       "2410                          NaN                     NaN                 NaN   \n",
       "2411                          NaN                     NaN                 NaN   \n",
       "2412                          NaN                     NaN                 NaN   \n",
       "\n",
       "     reviews_per_month  \n",
       "0                 0.28  \n",
       "1                 0.35  \n",
       "2                 0.24  \n",
       "3                 2.74  \n",
       "4                  NaN  \n",
       "...                ...  \n",
       "2408               NaN  \n",
       "2409               NaN  \n",
       "2410               NaN  \n",
       "2411               NaN  \n",
       "2412               NaN  \n",
       "\n",
       "[2413 rows x 34 columns]"
      ]
     },
     "execution_count": 6,
     "metadata": {},
     "output_type": "execute_result"
    }
   ],
   "source": [
    "import pandas as pd\n",
    "\n",
    "house=pd.read_csv(\"../datasets/boston_apartments.csv\")\n",
    "house"
   ]
  },
  {
   "cell_type": "markdown",
   "id": "e8523fb3",
   "metadata": {},
   "source": [
    "## Step 2: Estimate the outliers in price data."
   ]
  },
  {
   "cell_type": "markdown",
   "id": "0b79f5a0",
   "metadata": {},
   "source": [
    "### What is the outlier estimation in terms of box plot?"
   ]
  },
  {
   "cell_type": "markdown",
   "id": "449b7627",
   "metadata": {},
   "source": [
    "- Plot a boxplot to look at the outliers if any."
   ]
  },
  {
   "cell_type": "markdown",
   "id": "4df6706e",
   "metadata": {},
   "source": [
    "\n",
    "<details>\n",
    "  <summary></summary>\n",
    " \n",
    "  house.boxplot(figsize = (10,10), column=['price'], fontsize= '8', grid =True)\n",
    "  \n",
    "</details>\n",
    "\n",
    "\n",
    "\n"
   ]
  },
  {
   "cell_type": "code",
   "execution_count": null,
   "id": "78878a26",
   "metadata": {},
   "outputs": [],
   "source": []
  },
  {
   "cell_type": "markdown",
   "id": "3106bac3",
   "metadata": {},
   "source": [
    "### What is the outlier estimation in terms of scatter plot? "
   ]
  },
  {
   "cell_type": "markdown",
   "id": "60c1569e",
   "metadata": {},
   "source": [
    "- Q: what is distribution of the `price` in terms of scatterplot?\n"
   ]
  },
  {
   "cell_type": "code",
   "execution_count": 7,
   "id": "3dc4c234",
   "metadata": {},
   "outputs": [
    {
     "data": {
      "image/png": "[encoded data removed]",
      "text/plain": [
       "<Figure size 432x288 with 1 Axes>"
      ]
     },
     "metadata": {
      "needs_background": "light"
     },
     "output_type": "display_data"
    }
   ],
   "source": [
    "import matplotlib.pyplot as plt\n",
    "\n",
    "plt.scatter(y= house['price'], x= house.index)\n",
    "#plt.hist(nyc['price'],20)\n",
    "plt.show()"
   ]
  },
  {
   "cell_type": "markdown",
   "id": "a898acb0",
   "metadata": {},
   "source": [
    "- Q: what would be the dependant and independant variables in the plot? [keep separate for last]"
   ]
  },
  {
   "cell_type": "markdown",
   "id": "814abecd",
   "metadata": {},
   "source": [
    "Q: from the scatterplot , which data could be roughly the outliers?"
   ]
  },
  {
   "cell_type": "markdown",
   "id": "5afe8e78",
   "metadata": {},
   "source": [
    "### Distribution of the price by numbers?\n"
   ]
  },
  {
   "cell_type": "markdown",
   "id": "1fb3e234",
   "metadata": {},
   "source": [
    "What is the distribution of price by numbers?"
   ]
  },
  {
   "cell_type": "code",
   "execution_count": 8,
   "id": "c3eb7999",
   "metadata": {},
   "outputs": [
    {
     "data": {
      "text/plain": [
       "count    2413.000000\n",
       "mean      169.232076\n",
       "std       166.794578\n",
       "min         0.000000\n",
       "25%        90.000000\n",
       "50%       149.000000\n",
       "75%       200.000000\n",
       "max      5555.000000\n",
       "Name: price, dtype: float64"
      ]
     },
     "execution_count": 8,
     "metadata": {},
     "output_type": "execute_result"
    }
   ],
   "source": [
    "\n",
    "house['price'].describe()"
   ]
  },
  {
   "cell_type": "markdown",
   "id": "a4422ec6",
   "metadata": {},
   "source": [
    "## Step 4: Figure out the outliers (using inter quartile range) "
   ]
  },
  {
   "cell_type": "markdown",
   "id": "abcc3524",
   "metadata": {},
   "source": [
    "Find out the outliers in the data.\n",
    "Q. what is the q3 val in `price` data?\n",
    "Q. what is the iqr for `price`?\n",
    "Q. which values are actually the outliers?"
   ]
  },
  {
   "cell_type": "markdown",
   "id": "8526bed4",
   "metadata": {},
   "source": [
    "### Find the first quartile(25%) data range for price "
   ]
  },
  {
   "cell_type": "markdown",
   "id": "80de1d01",
   "metadata": {},
   "source": [
    "\n",
    "### Find the third quartile(75%) data range for price "
   ]
  },
  {
   "cell_type": "markdown",
   "id": "0424151e",
   "metadata": {},
   "source": [
    "\n",
    "### What is the  inter quartile range for price ?"
   ]
  },
  {
   "cell_type": "markdown",
   "id": "26b93911",
   "metadata": {},
   "source": [
    "\n",
    "### What is the upper and lower bound for outliers in price ?"
   ]
  },
  {
   "cell_type": "code",
   "execution_count": 9,
   "id": "033ce43f",
   "metadata": {},
   "outputs": [
    {
     "name": "stdout",
     "output_type": "stream",
     "text": [
      "q1: 90.0\n",
      "q3: 200.0\n",
      "iqr: 110.0\n",
      "upper bound 365.0\n",
      "lower bound -75.0\n"
     ]
    }
   ],
   "source": [
    "## Find the first quartile(25%) data range for price \n",
    "q1= house['price'].quantile(.25)\n",
    "print(f\"q1: {q1}\")\n",
    "\n",
    "## Find the third quartile(25%) data range for price \n",
    "q3= house['price'].quantile(.75)\n",
    "print(f\"q3: {q3}\")\n",
    "\n",
    "## Find the inter quartile range for price data\n",
    "iqr= q3 - q1\n",
    "print(f\"iqr: {iqr}\")\n",
    "\n",
    "## find the upper and lower bound\n",
    "upper_bound= q3 + 1.5*iqr\n",
    "lower_bound= q1 - 1.5*iqr\n",
    "\n",
    "print(\"upper bound\",upper_bound)\n",
    "print(\"lower bound\",lower_bound)"
   ]
  },
  {
   "cell_type": "markdown",
   "id": "cafc8f13",
   "metadata": {},
   "source": [
    "### Find the percentile closest to the upper bound value?"
   ]
  },
  {
   "cell_type": "code",
   "execution_count": 10,
   "id": "e2187c6c",
   "metadata": {},
   "outputs": [
    {
     "name": "stdout",
     "output_type": "stream",
     "text": [
      "95th: 375.0 94th: 330.0 93th: 319.0\n"
     ]
    }
   ],
   "source": [
    "try1=house['price'].quantile(0.95)\n",
    "try2=house['price'].quantile(0.94)\n",
    "try3=house['price'].quantile(0.93)\n",
    "\n",
    "print(\"95th:\",try1,\"94th:\",try2,\"93th:\",try3)"
   ]
  },
  {
   "cell_type": "markdown",
   "id": "620a84b7",
   "metadata": {},
   "source": [
    "## Step 5: Remove the outliers of price"
   ]
  },
  {
   "cell_type": "markdown",
   "id": "be3a8fd2",
   "metadata": {},
   "source": [
    "Use clip method to remove the outlier values"
   ]
  },
  {
   "cell_type": "code",
   "execution_count": 11,
   "id": "1d1e3627",
   "metadata": {},
   "outputs": [],
   "source": [
    "house['price']= house['price'].clip(house['price'].quantile(0.00), house['price'].quantile(0.95))"
   ]
  },
  {
   "cell_type": "markdown",
   "id": "cb53d98a",
   "metadata": {},
   "source": [
    "## Step 6: Check the price value distributiom after change "
   ]
  },
  {
   "cell_type": "code",
   "execution_count": 12,
   "id": "92f7fb04",
   "metadata": {},
   "outputs": [
    {
     "data": {
      "text/plain": [
       "count    2413.000000\n",
       "mean      159.131372\n",
       "std        89.184413\n",
       "min         0.000000\n",
       "25%        90.000000\n",
       "50%       149.000000\n",
       "75%       200.000000\n",
       "max       375.000000\n",
       "Name: price, dtype: float64"
      ]
     },
     "execution_count": 12,
     "metadata": {},
     "output_type": "execute_result"
    }
   ],
   "source": [
    "house['price'].describe()"
   ]
  },
  {
   "cell_type": "code",
   "execution_count": 13,
   "id": "71fd0aa7",
   "metadata": {},
   "outputs": [],
   "source": [
    "### "
   ]
  },
  {
   "cell_type": "code",
   "execution_count": 14,
   "id": "37af8541",
   "metadata": {},
   "outputs": [
    {
     "data": {
      "image/png": "[encoded data removed]",
      "text/plain": [
       "<Figure size 432x288 with 1 Axes>"
      ]
     },
     "metadata": {
      "needs_background": "light"
     },
     "output_type": "display_data"
    }
   ],
   "source": [
    "\n",
    "plt.scatter(y= house['price'], x= house.index)\n",
    "#plt.hist(nyc['price'],20)\n",
    "plt.show()"
   ]
  },
  {
   "cell_type": "code",
   "execution_count": null,
   "id": "de51ca18",
   "metadata": {},
   "outputs": [],
   "source": []
  }
 ],
 "metadata": {
  "kernelspec": {
   "display_name": "Python 3",
   "language": "python",
   "name": "python3"
  },
  "language_info": {
   "codemirror_mode": {
    "name": "ipython",
    "version": 3
   },
   "file_extension": ".py",
   "mimetype": "text/x-python",
   "name": "python",
   "nbconvert_exporter": "python",
   "pygments_lexer": "ipython3",
   "version": "3.7.12"
  }
 },
 "nbformat": 4,
 "nbformat_minor": 5
}
