{
 "cells": [
  {
   "cell_type": "code",
   "execution_count": null,
   "id": "3693edec",
   "metadata": {},
   "outputs": [],
   "source": []
  },
  {
   "cell_type": "markdown",
   "id": "e4aac6f2",
   "metadata": {},
   "source": [
    "## Outliers: Problem Solving Notebook"
   ]
  },
  {
   "cell_type": "markdown",
   "id": "b6dbfa9d",
   "metadata": {},
   "source": [
    "## Problem description"
   ]
  },
  {
   "cell_type": "markdown",
   "id": "898bcbe4",
   "metadata": {},
   "source": [
    "We have a dataset which contains airbnb prices in the boston area. The dataset is named **boston_apartments.csv**. The dataset has many feature information but we are mostly concerned with the apartment costs in the dataset. We want to find out if there exists any outliers in the `cost` feature of the dataset. If there exists such outliers, we also need to remove those outliers with appropriate measures(discussed in the worked examples) and see if the outlier removal worked properly.\n",
    "\n",
    "The dataset(boston_apartments.csv) is located in the **datasets** folder.\n",
    "\n",
    "From the boston apartments dataset, the goals are:\n",
    "\n",
    "- Find if there exists any outliers in the `cost` feature. \n",
    "- If there is, remove those outliers with proper steps and \n",
    "- Check if the outliers are properly removed from `cost` data.\n",
    "\n",
    "The following points are given to assist in solving the problem.\n",
    "\n"
   ]
  },
  {
   "cell_type": "markdown",
   "id": "ce20f8d3",
   "metadata": {},
   "source": [
    "### Find out if outliers exist by using plots:"
   ]
  },
  {
   "cell_type": "markdown",
   "id": "4c6d1836",
   "metadata": {},
   "source": [
    "### What is the numerical distribution of `cost` ? Write code to show its distribution."
   ]
  },
  {
   "cell_type": "markdown",
   "id": "918d793b",
   "metadata": {},
   "source": [
    "### What is the interquartile range of `cost` data? Write code to find the interquartile range."
   ]
  },
  {
   "cell_type": "markdown",
   "id": "33efff48",
   "metadata": {},
   "source": [
    "### Find the clipping points to remove the outliers in `cost` ?\n"
   ]
  },
  {
   "cell_type": "markdown",
   "id": "b2eb1666",
   "metadata": {},
   "source": [
    "### What is the numerical distribution of `cost` after clipping?\n"
   ]
  },
  {
   "cell_type": "markdown",
   "id": "15b1914f",
   "metadata": {},
   "source": [
    "### Show multiple visualizations of the clipped `cost` data."
   ]
  },
  {
   "cell_type": "markdown",
   "id": "41b59ce4",
   "metadata": {},
   "source": []
  }
 ],
 "metadata": {
  "kernelspec": {
   "display_name": "Python 3",
   "language": "python",
   "name": "python3"
  },
  "language_info": {
   "codemirror_mode": {
    "name": "ipython",
    "version": 3
   },
   "file_extension": ".py",
   "mimetype": "text/x-python",
   "name": "python",
   "nbconvert_exporter": "python",
   "pygments_lexer": "ipython3",
   "version": "3.7.12"
  }
 },
 "nbformat": 4,
 "nbformat_minor": 5
}
