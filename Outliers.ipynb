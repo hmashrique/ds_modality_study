{
 "cells": [
  {
   "cell_type": "code",
   "execution_count": null,
   "id": "515913d4",
   "metadata": {},
   "outputs": [],
   "source": []
  },
  {
   "cell_type": "markdown",
   "id": "ab056a28",
   "metadata": {},
   "source": [
    "## Clipping Outliers: NYC hotel pricing dataset analysis"
   ]
  },
  {
   "cell_type": "markdown",
   "id": "de473c26",
   "metadata": {},
   "source": [
    "Sometimes, while analyzing a dataset, remove(we might need to remove some data which can be regarded as outliers). Outliers can exert undue influence on some models, like linear regression, when the models try to minimize mean squared error. These outliers can sometimes mislead the set of data and influence model performance. \n",
    "\n",
    "In such cases, clipping the outliers would be more appropriate. There are a few ways to replacing the outliers from a dataset. One of the method is called clipping. \n",
    "\n",
    "Clipping data from a dataset means to clip the data at the last permitted extreme value, e.g. the 1st or 95th percentile value. For example, when we clip the data to 99th percentile, values over the 99th percentile will be interpolated within the 99th percentile meaning all the values in the data are now less than or equal to 99 percentile value.  "
   ]
  },
  {
   "cell_type": "markdown",
   "id": "ef183f4b",
   "metadata": {},
   "source": [
    "## Problem Description\n",
    "\n",
    "In this problem, we want to apply a prediction model that predicts the price of hotels in NYC based on its features. Our predictor is the `price` variable and other features are mostly categorical. We want to predict the price of a hotel .So we want to check for outliers in the `price` data for our prediction to be accurate when a model is applied. Our target column `price` doesnt have any missing values.\n",
    "\n",
    "For our problem, we are using the **NYC_2019.csv** dataset.  "
   ]
  },
  {
   "cell_type": "markdown",
   "id": "544c6aff",
   "metadata": {},
   "source": [
    "First , we load our dataset \"New York Housing\" into a dataframe and view it."
   ]
  },
  {
   "cell_type": "markdown",
   "id": "4f06f913",
   "metadata": {},
   "source": [
    "### Load the Dataset and View data"
   ]
  },
  {
   "cell_type": "code",
   "execution_count": 1,
   "id": "bd483d55",
   "metadata": {},
   "outputs": [
    {
     "data": {
      "text/html": [
       "<div>\n",
       "<style scoped>\n",
       "    .dataframe tbody tr th:only-of-type {\n",
       "        vertical-align: middle;\n",
       "    }\n",
       "\n",
       "    .dataframe tbody tr th {\n",
       "        vertical-align: top;\n",
       "    }\n",
       "\n",
       "    .dataframe thead th {\n",
       "        text-align: right;\n",
       "    }\n",
       "</style>\n",
       "<table border=\"1\" class=\"dataframe\">\n",
       "  <thead>\n",
       "    <tr style=\"text-align: right;\">\n",
       "      <th></th>\n",
       "      <th>id</th>\n",
       "      <th>name</th>\n",
       "      <th>host_id</th>\n",
       "      <th>host_name</th>\n",
       "      <th>neighbourhood_group</th>\n",
       "      <th>neighbourhood</th>\n",
       "      <th>latitude</th>\n",
       "      <th>longitude</th>\n",
       "      <th>room_type</th>\n",
       "      <th>price</th>\n",
       "      <th>minimum_nights</th>\n",
       "      <th>number_of_reviews</th>\n",
       "      <th>last_review</th>\n",
       "      <th>reviews_per_month</th>\n",
       "      <th>calculated_host_listings_count</th>\n",
       "      <th>availability_365</th>\n",
       "    </tr>\n",
       "  </thead>\n",
       "  <tbody>\n",
       "    <tr>\n",
       "      <th>0</th>\n",
       "      <td>2539</td>\n",
       "      <td>Clean &amp; quiet apt home by the park</td>\n",
       "      <td>2787</td>\n",
       "      <td>John</td>\n",
       "      <td>Brooklyn</td>\n",
       "      <td>Kensington</td>\n",
       "      <td>40.64749</td>\n",
       "      <td>-73.97237</td>\n",
       "      <td>Private room</td>\n",
       "      <td>149</td>\n",
       "      <td>1</td>\n",
       "      <td>9</td>\n",
       "      <td>2018-10-19</td>\n",
       "      <td>0.21</td>\n",
       "      <td>6</td>\n",
       "      <td>365</td>\n",
       "    </tr>\n",
       "    <tr>\n",
       "      <th>1</th>\n",
       "      <td>2595</td>\n",
       "      <td>Skylit Midtown Castle</td>\n",
       "      <td>2845</td>\n",
       "      <td>Jennifer</td>\n",
       "      <td>Manhattan</td>\n",
       "      <td>Midtown</td>\n",
       "      <td>40.75362</td>\n",
       "      <td>-73.98377</td>\n",
       "      <td>Entire home/apt</td>\n",
       "      <td>225</td>\n",
       "      <td>1</td>\n",
       "      <td>45</td>\n",
       "      <td>2019-05-21</td>\n",
       "      <td>0.38</td>\n",
       "      <td>2</td>\n",
       "      <td>355</td>\n",
       "    </tr>\n",
       "    <tr>\n",
       "      <th>2</th>\n",
       "      <td>3647</td>\n",
       "      <td>THE VILLAGE OF HARLEM....NEW YORK !</td>\n",
       "      <td>4632</td>\n",
       "      <td>Elisabeth</td>\n",
       "      <td>Manhattan</td>\n",
       "      <td>Harlem</td>\n",
       "      <td>40.80902</td>\n",
       "      <td>-73.94190</td>\n",
       "      <td>Private room</td>\n",
       "      <td>150</td>\n",
       "      <td>3</td>\n",
       "      <td>0</td>\n",
       "      <td>NaN</td>\n",
       "      <td>NaN</td>\n",
       "      <td>1</td>\n",
       "      <td>365</td>\n",
       "    </tr>\n",
       "    <tr>\n",
       "      <th>3</th>\n",
       "      <td>3831</td>\n",
       "      <td>Cozy Entire Floor of Brownstone</td>\n",
       "      <td>4869</td>\n",
       "      <td>LisaRoxanne</td>\n",
       "      <td>Brooklyn</td>\n",
       "      <td>Clinton Hill</td>\n",
       "      <td>40.68514</td>\n",
       "      <td>-73.95976</td>\n",
       "      <td>Entire home/apt</td>\n",
       "      <td>89</td>\n",
       "      <td>1</td>\n",
       "      <td>270</td>\n",
       "      <td>2019-07-05</td>\n",
       "      <td>4.64</td>\n",
       "      <td>1</td>\n",
       "      <td>194</td>\n",
       "    </tr>\n",
       "    <tr>\n",
       "      <th>4</th>\n",
       "      <td>5022</td>\n",
       "      <td>Entire Apt: Spacious Studio/Loft by central park</td>\n",
       "      <td>7192</td>\n",
       "      <td>Laura</td>\n",
       "      <td>Manhattan</td>\n",
       "      <td>East Harlem</td>\n",
       "      <td>40.79851</td>\n",
       "      <td>-73.94399</td>\n",
       "      <td>Entire home/apt</td>\n",
       "      <td>80</td>\n",
       "      <td>10</td>\n",
       "      <td>9</td>\n",
       "      <td>2018-11-19</td>\n",
       "      <td>0.10</td>\n",
       "      <td>1</td>\n",
       "      <td>0</td>\n",
       "    </tr>\n",
       "    <tr>\n",
       "      <th>...</th>\n",
       "      <td>...</td>\n",
       "      <td>...</td>\n",
       "      <td>...</td>\n",
       "      <td>...</td>\n",
       "      <td>...</td>\n",
       "      <td>...</td>\n",
       "      <td>...</td>\n",
       "      <td>...</td>\n",
       "      <td>...</td>\n",
       "      <td>...</td>\n",
       "      <td>...</td>\n",
       "      <td>...</td>\n",
       "      <td>...</td>\n",
       "      <td>...</td>\n",
       "      <td>...</td>\n",
       "      <td>...</td>\n",
       "    </tr>\n",
       "    <tr>\n",
       "      <th>48890</th>\n",
       "      <td>36484665</td>\n",
       "      <td>Charming one bedroom - newly renovated rowhouse</td>\n",
       "      <td>8232441</td>\n",
       "      <td>Sabrina</td>\n",
       "      <td>Brooklyn</td>\n",
       "      <td>Bedford-Stuyvesant</td>\n",
       "      <td>40.67853</td>\n",
       "      <td>-73.94995</td>\n",
       "      <td>Private room</td>\n",
       "      <td>70</td>\n",
       "      <td>2</td>\n",
       "      <td>0</td>\n",
       "      <td>NaN</td>\n",
       "      <td>NaN</td>\n",
       "      <td>2</td>\n",
       "      <td>9</td>\n",
       "    </tr>\n",
       "    <tr>\n",
       "      <th>48891</th>\n",
       "      <td>36485057</td>\n",
       "      <td>Affordable room in Bushwick/East Williamsburg</td>\n",
       "      <td>6570630</td>\n",
       "      <td>Marisol</td>\n",
       "      <td>Brooklyn</td>\n",
       "      <td>Bushwick</td>\n",
       "      <td>40.70184</td>\n",
       "      <td>-73.93317</td>\n",
       "      <td>Private room</td>\n",
       "      <td>40</td>\n",
       "      <td>4</td>\n",
       "      <td>0</td>\n",
       "      <td>NaN</td>\n",
       "      <td>NaN</td>\n",
       "      <td>2</td>\n",
       "      <td>36</td>\n",
       "    </tr>\n",
       "    <tr>\n",
       "      <th>48892</th>\n",
       "      <td>36485431</td>\n",
       "      <td>Sunny Studio at Historical Neighborhood</td>\n",
       "      <td>23492952</td>\n",
       "      <td>Ilgar &amp; Aysel</td>\n",
       "      <td>Manhattan</td>\n",
       "      <td>Harlem</td>\n",
       "      <td>40.81475</td>\n",
       "      <td>-73.94867</td>\n",
       "      <td>Entire home/apt</td>\n",
       "      <td>115</td>\n",
       "      <td>10</td>\n",
       "      <td>0</td>\n",
       "      <td>NaN</td>\n",
       "      <td>NaN</td>\n",
       "      <td>1</td>\n",
       "      <td>27</td>\n",
       "    </tr>\n",
       "    <tr>\n",
       "      <th>48893</th>\n",
       "      <td>36485609</td>\n",
       "      <td>43rd St. Time Square-cozy single bed</td>\n",
       "      <td>30985759</td>\n",
       "      <td>Taz</td>\n",
       "      <td>Manhattan</td>\n",
       "      <td>Hell's Kitchen</td>\n",
       "      <td>40.75751</td>\n",
       "      <td>-73.99112</td>\n",
       "      <td>Shared room</td>\n",
       "      <td>55</td>\n",
       "      <td>1</td>\n",
       "      <td>0</td>\n",
       "      <td>NaN</td>\n",
       "      <td>NaN</td>\n",
       "      <td>6</td>\n",
       "      <td>2</td>\n",
       "    </tr>\n",
       "    <tr>\n",
       "      <th>48894</th>\n",
       "      <td>36487245</td>\n",
       "      <td>Trendy duplex in the very heart of Hell's Kitchen</td>\n",
       "      <td>68119814</td>\n",
       "      <td>Christophe</td>\n",
       "      <td>Manhattan</td>\n",
       "      <td>Hell's Kitchen</td>\n",
       "      <td>40.76404</td>\n",
       "      <td>-73.98933</td>\n",
       "      <td>Private room</td>\n",
       "      <td>90</td>\n",
       "      <td>7</td>\n",
       "      <td>0</td>\n",
       "      <td>NaN</td>\n",
       "      <td>NaN</td>\n",
       "      <td>1</td>\n",
       "      <td>23</td>\n",
       "    </tr>\n",
       "  </tbody>\n",
       "</table>\n",
       "<p>48895 rows × 16 columns</p>\n",
       "</div>"
      ],
      "text/plain": [
       "             id                                               name   host_id  \\\n",
       "0          2539                 Clean & quiet apt home by the park      2787   \n",
       "1          2595                              Skylit Midtown Castle      2845   \n",
       "2          3647                THE VILLAGE OF HARLEM....NEW YORK !      4632   \n",
       "3          3831                    Cozy Entire Floor of Brownstone      4869   \n",
       "4          5022   Entire Apt: Spacious Studio/Loft by central park      7192   \n",
       "...         ...                                                ...       ...   \n",
       "48890  36484665    Charming one bedroom - newly renovated rowhouse   8232441   \n",
       "48891  36485057      Affordable room in Bushwick/East Williamsburg   6570630   \n",
       "48892  36485431            Sunny Studio at Historical Neighborhood  23492952   \n",
       "48893  36485609               43rd St. Time Square-cozy single bed  30985759   \n",
       "48894  36487245  Trendy duplex in the very heart of Hell's Kitchen  68119814   \n",
       "\n",
       "           host_name neighbourhood_group       neighbourhood  latitude  \\\n",
       "0               John            Brooklyn          Kensington  40.64749   \n",
       "1           Jennifer           Manhattan             Midtown  40.75362   \n",
       "2          Elisabeth           Manhattan              Harlem  40.80902   \n",
       "3        LisaRoxanne            Brooklyn        Clinton Hill  40.68514   \n",
       "4              Laura           Manhattan         East Harlem  40.79851   \n",
       "...              ...                 ...                 ...       ...   \n",
       "48890        Sabrina            Brooklyn  Bedford-Stuyvesant  40.67853   \n",
       "48891        Marisol            Brooklyn            Bushwick  40.70184   \n",
       "48892  Ilgar & Aysel           Manhattan              Harlem  40.81475   \n",
       "48893            Taz           Manhattan      Hell's Kitchen  40.75751   \n",
       "48894     Christophe           Manhattan      Hell's Kitchen  40.76404   \n",
       "\n",
       "       longitude        room_type  price  minimum_nights  number_of_reviews  \\\n",
       "0      -73.97237     Private room    149               1                  9   \n",
       "1      -73.98377  Entire home/apt    225               1                 45   \n",
       "2      -73.94190     Private room    150               3                  0   \n",
       "3      -73.95976  Entire home/apt     89               1                270   \n",
       "4      -73.94399  Entire home/apt     80              10                  9   \n",
       "...          ...              ...    ...             ...                ...   \n",
       "48890  -73.94995     Private room     70               2                  0   \n",
       "48891  -73.93317     Private room     40               4                  0   \n",
       "48892  -73.94867  Entire home/apt    115              10                  0   \n",
       "48893  -73.99112      Shared room     55               1                  0   \n",
       "48894  -73.98933     Private room     90               7                  0   \n",
       "\n",
       "      last_review  reviews_per_month  calculated_host_listings_count  \\\n",
       "0      2018-10-19               0.21                               6   \n",
       "1      2019-05-21               0.38                               2   \n",
       "2             NaN                NaN                               1   \n",
       "3      2019-07-05               4.64                               1   \n",
       "4      2018-11-19               0.10                               1   \n",
       "...           ...                ...                             ...   \n",
       "48890         NaN                NaN                               2   \n",
       "48891         NaN                NaN                               2   \n",
       "48892         NaN                NaN                               1   \n",
       "48893         NaN                NaN                               6   \n",
       "48894         NaN                NaN                               1   \n",
       "\n",
       "       availability_365  \n",
       "0                   365  \n",
       "1                   355  \n",
       "2                   365  \n",
       "3                   194  \n",
       "4                     0  \n",
       "...                 ...  \n",
       "48890                 9  \n",
       "48891                36  \n",
       "48892                27  \n",
       "48893                 2  \n",
       "48894                23  \n",
       "\n",
       "[48895 rows x 16 columns]"
      ]
     },
     "execution_count": 1,
     "metadata": {},
     "output_type": "execute_result"
    }
   ],
   "source": [
    "import pandas as pd\n",
    "nyc=pd.read_csv(\"../datasets/AB_NYC_2019.csv\")\n",
    "nyc"
   ]
  },
  {
   "cell_type": "markdown",
   "id": "e5553bb9",
   "metadata": {},
   "source": [
    "## Check for outliers in `price` data\n",
    "\n",
    "Since we are looking to find out the outliers in the hotel price ,we can apply  a few methods to look for outliers.A very effective way of finding outliers is using visualizations. For finding outliers, scatterplot is useful to see how the datapoints are spread.\n",
    "\n",
    "\n"
   ]
  },
  {
   "cell_type": "markdown",
   "id": "eb455af0",
   "metadata": {},
   "source": [
    "### Plot a scatter plot for outlier estimation:\n",
    "\n",
    "For our scatterplot, we want to see the price data for every datapoint. So our indepent variable would be the index and the dependant variable will be the `price` data. We also need the `matplotlib` library to use the scatterplot.\n",
    "\n"
   ]
  },
  {
   "cell_type": "code",
   "execution_count": 2,
   "id": "9ebc3433",
   "metadata": {},
   "outputs": [
    {
     "data": {
      "image/png": "[encoded data removed]",
      "text/plain": [
       "<Figure size 432x288 with 1 Axes>"
      ]
     },
     "metadata": {
      "needs_background": "light"
     },
     "output_type": "display_data"
    }
   ],
   "source": [
    "import matplotlib.pyplot as plt\n",
    "\n",
    "plt.scatter(x= nyc.index, y= nyc['price'])\n",
    "#plt.hist(nyc['price'],20)\n",
    "plt.show()"
   ]
  },
  {
   "cell_type": "markdown",
   "id": "6e152be7",
   "metadata": {},
   "source": [
    "\n",
    "From the scatterplot, we can see that majority of the datapoints are within the range of 0-2000 and a some of them are over 4000. The points beyond them (> 4000) can be considered as outliers for price data. But we need better estimation for finding out the outliers. For further clarification, we can use the `describe` method to see the spread of `price` data by numbers.\n",
    "\n"
   ]
  },
  {
   "cell_type": "markdown",
   "id": "a49a9597",
   "metadata": {},
   "source": [
    "### Use `describe()` for `price` distribution in terms of numbers:\n",
    "\n"
   ]
  },
  {
   "cell_type": "code",
   "execution_count": 3,
   "id": "18d1fc42",
   "metadata": {},
   "outputs": [
    {
     "data": {
      "text/plain": [
       "count    48895.000000\n",
       "mean       152.720687\n",
       "std        240.154170\n",
       "min          0.000000\n",
       "25%         69.000000\n",
       "50%        106.000000\n",
       "75%        175.000000\n",
       "max      10000.000000\n",
       "Name: price, dtype: float64"
      ]
     },
     "execution_count": 3,
     "metadata": {},
     "output_type": "execute_result"
    }
   ],
   "source": [
    "nyc['price'].describe()"
   ]
  },
  {
   "cell_type": "markdown",
   "id": "789fc1de",
   "metadata": {},
   "source": [
    "Here, if we look on the **price** distribution, we can see the min, 25%, 50%, 75% and max price value in that column. The price values ranges from 0 to 1000 and the 75% percentile value of price is 175. This means 75% price value is within 0 -175. So a good amount of values are in the 75-100 range.   \n",
    "\n",
    "To see more clearly where our outliers actually lies for price, we can use `boxplots`."
   ]
  },
  {
   "cell_type": "markdown",
   "id": "3b8f5ebc",
   "metadata": {},
   "source": [
    "### Use `Box Plots` for outlier limit estimation:\n",
    "\n",
    "Boxplots are very useful to see the distribution of a variable.  It is a useful graphical display for describing the behavior of the data in the middle as well as at the ends of the distributions. A box plot uses the median and the lower(Q1) and upper(Q3) quartiles (defined as the 25th and 75th percentiles). The difference between the lower quartile is Q1 and the upper quartile(Q3 - Q1) is called the interquartile range or IQ. \n",
    "\n",
    "Boxplots help us find the outlier in the data by using the IQ range. As a rule, values that are outside the range of 1.5*QR from Q1 and Q3 are regarded as outliers. The below image will help us better understand the outliers in our data.  \n",
    "\n",
    "<img src=\"boxplot.png\"\n",
    "     alt=\"boxplot icon\"\n",
    "     width=\"500\" \n",
    "     height=\"300\"\n",
    "     style=\"margin-right: 10px;\" />\n",
    "     \n",
    "\n",
    "\n",
    "Lets plot our `price` data in a boxplot.     "
   ]
  },
  {
   "cell_type": "code",
   "execution_count": 4,
   "id": "b3a2651d",
   "metadata": {},
   "outputs": [],
   "source": [
    "import matplotlib.pyplot as plt"
   ]
  },
  {
   "cell_type": "code",
   "execution_count": 5,
   "id": "8ba08290",
   "metadata": {},
   "outputs": [
    {
     "data": {
      "text/plain": [
       "<AxesSubplot:>"
      ]
     },
     "execution_count": 5,
     "metadata": {},
     "output_type": "execute_result"
    },
    {
     "data": {
      "image/png": "[encoded data removed]",
      "text/plain": [
       "<Figure size 720x720 with 1 Axes>"
      ]
     },
     "metadata": {
      "needs_background": "light"
     },
     "output_type": "display_data"
    }
   ],
   "source": [
    "\n",
    "boxplot = nyc.boxplot(figsize = (10,10), column='price', fontsize= '8', grid =True)\n",
    "boxplot"
   ]
  },
  {
   "cell_type": "markdown",
   "id": "80f2e616",
   "metadata": {},
   "source": [
    "From the boxplot, we can see that most of the data are out of the interquartile(IQ) range. Our valid range of values (that are not outliers) would be within the range of (Q1-1.5*IQR) and (Q3 + 1.5*IQR). The datapoints outside this range are considered as outliers.\n"
   ]
  },
  {
   "cell_type": "markdown",
   "id": "fd332353",
   "metadata": {},
   "source": [
    "### Find the outliers:"
   ]
  },
  {
   "cell_type": "markdown",
   "id": "f8a25117",
   "metadata": {},
   "source": [
    "Using the `quantile` formula, we find out our interquartile(IQR) range alongside outlier lower and upper limit for outliers."
   ]
  },
  {
   "cell_type": "code",
   "execution_count": 6,
   "id": "b4c8ed48",
   "metadata": {},
   "outputs": [
    {
     "name": "stdout",
     "output_type": "stream",
     "text": [
      "q1: 69.0\n",
      "q3: 175.0\n",
      "iqr: 106.0\n",
      "upper bound 334.0\n",
      "lower bound -90.0\n"
     ]
    }
   ],
   "source": [
    "## finding outliers\n",
    "\n",
    "## find the 75th percentile value\n",
    "q3=nyc['price'].quantile(0.75)\n",
    "\n",
    "## find the 25th percentile value\n",
    "q1= nyc['price'].quantile(0.25)\n",
    "\n",
    "print(\"q1:\",q1)\n",
    "print(\"q3:\",q3)\n",
    "\n",
    "## find the interquartile range (IQ)\n",
    "iqr= q3 - q1\n",
    "print(\"iqr:\",iqr)\n",
    "\n",
    "## find the upper and lower bound\n",
    "upper_bound= q3 + 1.5*iqr\n",
    "lower_bound= q1 - 1.5*iqr\n",
    "\n",
    "print(\"upper bound\",upper_bound)\n",
    "print(\"lower bound\",lower_bound)"
   ]
  },
  {
   "cell_type": "markdown",
   "id": "d2db7a92",
   "metadata": {},
   "source": [
    "We see that our upper limit is 334 and lower limit -90. -90 means our lower limit is 0. \n",
    "\n",
    "Now that we have figured out what will be our upper limit to clip the data from, we just need to find the quantile the upper limit (334) falls into. We do some testing with various percentages to find the quantile closer to our upper limit."
   ]
  },
  {
   "cell_type": "code",
   "execution_count": 7,
   "id": "5648b85e",
   "metadata": {},
   "outputs": [
    {
     "name": "stdout",
     "output_type": "stream",
     "text": [
      "95th: 355.0 94th: 340.0 93th: 300.0\n"
     ]
    }
   ],
   "source": [
    "rrth=nyc['price'].quantile(0.95)\n",
    "ffth=nyc['price'].quantile(0.94)\n",
    "ggth=nyc['price'].quantile(0.93)\n",
    "\n",
    "print(\"95th:\",rrth,\"94th:\",ffth,\"93th:\",ggth)"
   ]
  },
  {
   "cell_type": "markdown",
   "id": "0a9fb301",
   "metadata": {},
   "source": [
    "From the quantile check, we see that the 94th percentile value (340) is closest to our upper clipping limit. Therefore , we can choose the 94th quantile as our upper clipping limit for `price` data."
   ]
  },
  {
   "cell_type": "markdown",
   "id": "9b3a7695",
   "metadata": {},
   "source": [
    "## Clip the Outliers:"
   ]
  },
  {
   "cell_type": "markdown",
   "id": "543c2f4a",
   "metadata": {},
   "source": [
    "### Clip `price` data with lower and upper limit:\n",
    "\n",
    "The clipping method clips the data of a certain column into a range of values. It takes 2 quantile values (upper and lower) and keeps all the values within the value range. For example, if the upper limit is 98 percentile, the values over the 98 percentile will be set to the 98% value using interpolation.\n",
    "\n",
    "We do the clipping method using the below syntax."
   ]
  },
  {
   "cell_type": "code",
   "execution_count": 8,
   "id": "a703805f",
   "metadata": {},
   "outputs": [],
   "source": [
    "nyc['price']= nyc['price'].clip(nyc['price'].quantile(0.00), nyc['price'].quantile(0.94))"
   ]
  },
  {
   "cell_type": "markdown",
   "id": "fde2e9aa",
   "metadata": {},
   "source": [
    "After clippping, we check the max and min value of the `price` data."
   ]
  },
  {
   "cell_type": "code",
   "execution_count": 9,
   "id": "24b0f469",
   "metadata": {},
   "outputs": [
    {
     "data": {
      "text/plain": [
       "340.0"
      ]
     },
     "execution_count": 9,
     "metadata": {},
     "output_type": "execute_result"
    }
   ],
   "source": [
    "nyc['price'].max()"
   ]
  },
  {
   "cell_type": "markdown",
   "id": "b19a0dcb",
   "metadata": {},
   "source": [
    "Notice that our max value has been replaced with values of the 95 percentile value.\n",
    "The use of clipping method has interpolated the values for us."
   ]
  },
  {
   "cell_type": "code",
   "execution_count": 10,
   "id": "e9f17c9b",
   "metadata": {},
   "outputs": [
    {
     "data": {
      "text/plain": [
       "0.0"
      ]
     },
     "execution_count": 10,
     "metadata": {},
     "output_type": "execute_result"
    }
   ],
   "source": [
    "nyc['price'].min()"
   ]
  },
  {
   "cell_type": "markdown",
   "id": "589db4c8",
   "metadata": {},
   "source": [
    "## Check final clipped data:"
   ]
  },
  {
   "cell_type": "markdown",
   "id": "e8f298e9",
   "metadata": {},
   "source": [
    "We again check the value range of `price` using the `describe` method."
   ]
  },
  {
   "cell_type": "code",
   "execution_count": 11,
   "id": "3e4211c2",
   "metadata": {},
   "outputs": [
    {
     "data": {
      "text/plain": [
       "count    48895.000000\n",
       "mean       133.343062\n",
       "std         84.412427\n",
       "min          0.000000\n",
       "25%         69.000000\n",
       "50%        106.000000\n",
       "75%        175.000000\n",
       "max        340.000000\n",
       "Name: price, dtype: float64"
      ]
     },
     "execution_count": 11,
     "metadata": {},
     "output_type": "execute_result"
    }
   ],
   "source": [
    "nyc['price'].describe()"
   ]
  },
  {
   "cell_type": "markdown",
   "id": "daface1f",
   "metadata": {},
   "source": [
    "After clipping the `price` data, we can see the distribution has become more dense (30-550) which was in the range(0-10000) before. Building a model from the given distribution will give a better estimation of a  hotel price after removing all the outlier values."
   ]
  },
  {
   "cell_type": "markdown",
   "id": "acfa5078",
   "metadata": {},
   "source": [
    "## Distribution after clipping data  "
   ]
  },
  {
   "cell_type": "code",
   "execution_count": 12,
   "id": "ab73b0cb",
   "metadata": {},
   "outputs": [
    {
     "data": {
      "image/png": "[encoded data removed]",
      "text/plain": [
       "<Figure size 432x288 with 1 Axes>"
      ]
     },
     "metadata": {
      "needs_background": "light"
     },
     "output_type": "display_data"
    }
   ],
   "source": [
    "plt.scatter(x= nyc.index, y= nyc['price'])\n",
    "#plt.hist(nyc['price'],20)\n",
    "plt.show()"
   ]
  },
  {
   "cell_type": "markdown",
   "id": "07d753b2",
   "metadata": {},
   "source": [
    "### Conclusion"
   ]
  },
  {
   "cell_type": "markdown",
   "id": "4c322a59",
   "metadata": {},
   "source": [
    "By using the clipping method, we have removed our outliers from the price data. Now using this dataset will give us good predictions of hotel prices. "
   ]
  },
  {
   "cell_type": "code",
   "execution_count": null,
   "id": "83bfdf8a",
   "metadata": {},
   "outputs": [],
   "source": []
  },
  {
   "cell_type": "code",
   "execution_count": null,
   "id": "90a282ed",
   "metadata": {},
   "outputs": [],
   "source": []
  },
  {
   "cell_type": "markdown",
   "id": "0332f2b0",
   "metadata": {},
   "source": [
    "## Scratch"
   ]
  },
  {
   "cell_type": "markdown",
   "id": "66a3acfc",
   "metadata": {},
   "source": [
    "we again look at the distribution of the price data using histogram."
   ]
  },
  {
   "cell_type": "code",
   "execution_count": 13,
   "id": "d4929f3a",
   "metadata": {},
   "outputs": [
    {
     "data": {
      "text/plain": [
       "array([[<AxesSubplot:title={'center':'price'}>]], dtype=object)"
      ]
     },
     "execution_count": 13,
     "metadata": {},
     "output_type": "execute_result"
    },
    {
     "data": {
      "image/png": "[encoded data removed]",
      "text/plain": [
       "<Figure size 720x504 with 1 Axes>"
      ]
     },
     "metadata": {
      "needs_background": "light"
     },
     "output_type": "display_data"
    }
   ],
   "source": [
    "#hist(data=nyc['price'],bins=300)\n",
    "\n",
    "nyc.hist(column='price',bins=100,figsize=(10,7))\n",
    "\n"
   ]
  },
  {
   "cell_type": "markdown",
   "id": "25b26f5e",
   "metadata": {},
   "source": [
    "We can see from the above histogram is the data is within the much smaller bound of 350 rather than 10000 as the max value. This way we have removed the outliers."
   ]
  },
  {
   "cell_type": "code",
   "execution_count": null,
   "id": "1aee62f3",
   "metadata": {},
   "outputs": [],
   "source": []
  },
  {
   "cell_type": "markdown",
   "id": "938282c5",
   "metadata": {},
   "source": []
  },
  {
   "cell_type": "code",
   "execution_count": 14,
   "id": "555b037b",
   "metadata": {},
   "outputs": [
    {
     "data": {
      "text/plain": [
       "array([[<AxesSubplot:title={'center':'price'}>]], dtype=object)"
      ]
     },
     "execution_count": 14,
     "metadata": {},
     "output_type": "execute_result"
    },
    {
     "data": {
      "image/png": "[encoded data removed]",
      "text/plain": [
       "<Figure size 1080x504 with 1 Axes>"
      ]
     },
     "metadata": {
      "needs_background": "light"
     },
     "output_type": "display_data"
    }
   ],
   "source": [
    "\n",
    "nyc.hist(column='price',bins=500,figsize=(15,7))\n"
   ]
  }
 ],
 "metadata": {
  "kernelspec": {
   "display_name": "Python 3",
   "language": "python",
   "name": "python3"
  },
  "language_info": {
   "codemirror_mode": {
    "name": "ipython",
    "version": 3
   },
   "file_extension": ".py",
   "mimetype": "text/x-python",
   "name": "python",
   "nbconvert_exporter": "python",
   "pygments_lexer": "ipython3",
   "version": "3.7.12"
  }
 },
 "nbformat": 4,
 "nbformat_minor": 5
}
