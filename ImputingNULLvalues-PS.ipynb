{
 "cells": [
  {
   "cell_type": "markdown",
   "id": "7cab762f",
   "metadata": {},
   "source": [
    "## Imputing Null Values"
   ]
  },
  {
   "cell_type": "markdown",
   "id": "e36bf96c",
   "metadata": {},
   "source": [
    "## Problem Description"
   ]
  },
  {
   "cell_type": "markdown",
   "id": "7771f126",
   "metadata": {},
   "source": [
    "### Step 1: Read the data from source"
   ]
  },
  {
   "cell_type": "markdown",
   "id": "598be549",
   "metadata": {},
   "source": [
    "### Step 2: Figuring out the null values from data"
   ]
  },
  {
   "cell_type": "markdown",
   "id": "0bcb396f",
   "metadata": {},
   "source": [
    "### Step 3: Define the null values as null"
   ]
  },
  {
   "cell_type": "markdown",
   "id": "720961d5",
   "metadata": {},
   "source": [
    "### Step 4: Look at distribution of target variable\n"
   ]
  },
  {
   "cell_type": "markdown",
   "id": "e2c6b9ec",
   "metadata": {},
   "source": [
    "### Step 5: Impute the missing values based on distribution"
   ]
  },
  {
   "cell_type": "markdown",
   "id": "47606e36",
   "metadata": {},
   "source": [
    "### Step 6: Check the changes  "
   ]
  },
  {
   "cell_type": "markdown",
   "id": "fe5090a6",
   "metadata": {},
   "source": []
  },
  {
   "cell_type": "markdown",
   "id": "176c9402",
   "metadata": {},
   "source": []
  },
  {
   "cell_type": "markdown",
   "id": "0f4400b9",
   "metadata": {},
   "source": []
  },
  {
   "cell_type": "markdown",
   "id": "603d3434",
   "metadata": {},
   "source": []
  },
  {
   "cell_type": "markdown",
   "id": "37b0693f",
   "metadata": {},
   "source": []
  },
  {
   "cell_type": "markdown",
   "id": "b7292232",
   "metadata": {},
   "source": []
  },
  {
   "cell_type": "markdown",
   "id": "edf82d0d",
   "metadata": {},
   "source": []
  },
  {
   "cell_type": "markdown",
   "id": "60edb1b9",
   "metadata": {},
   "source": []
  },
  {
   "cell_type": "markdown",
   "id": "f9b5c3e6",
   "metadata": {},
   "source": []
  },
  {
   "cell_type": "markdown",
   "id": "2a091980",
   "metadata": {},
   "source": []
  }
 ],
 "metadata": {
  "kernelspec": {
   "display_name": "Python 3",
   "language": "python",
   "name": "python3"
  },
  "language_info": {
   "codemirror_mode": {
    "name": "ipython",
    "version": 3
   },
   "file_extension": ".py",
   "mimetype": "text/x-python",
   "name": "python",
   "nbconvert_exporter": "python",
   "pygments_lexer": "ipython3",
   "version": "3.7.12"
  }
 },
 "nbformat": 4,
 "nbformat_minor": 5
}
