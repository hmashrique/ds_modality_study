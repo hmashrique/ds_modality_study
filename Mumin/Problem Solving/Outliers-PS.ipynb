{
 "cells": [
  {
   "cell_type": "code",
   "execution_count": null,
   "id": "b364be5c",
   "metadata": {},
   "outputs": [],
   "source": []
  },
  {
   "cell_type": "markdown",
   "id": "396147a0",
   "metadata": {},
   "source": [
    "## Outliers: Problem Solving Notebook"
   ]
  },
  {
   "cell_type": "markdown",
   "id": "29fe0048",
   "metadata": {},
   "source": [
    "## Problem description"
   ]
  },
  {
   "cell_type": "markdown",
   "id": "cec3459d",
   "metadata": {},
   "source": [
    "We have a dataset which contains airbnb prices in the boston area. The dataset is named **boston_apartments.csv**. The dataset has many feature information but we are mostly concerned with the apartment costs in the dataset. We want to find out if there exists any outliers in the `cost` feature of the dataset. If there exists such outliers, we also need to remove those outliers with appropriate measures(discussed in the worked examples) and see if the changes worked properly.\n",
    "\n",
    "From the boston apartments dataset, find out \n",
    "- if there exists any outliers in the `cost` feature. \n",
    "- If there is, remove those outliers with proper steps and \n",
    "- check if the outliers are properly removed from `cost` data.\n",
    "\n",
    "The following points are given to assist in solving the problem.\n",
    "\n",
    "The dataset(boston_apartments.csv) is located in the **datasets** folder."
   ]
  },
  {
   "cell_type": "markdown",
   "id": "52cf05bc",
   "metadata": {},
   "source": [
    "### Find out if outliers exist by using plots:"
   ]
  },
  {
   "cell_type": "markdown",
   "id": "64697bee",
   "metadata": {},
   "source": [
    "### What is the numerical distribution of `cost` ? Write code to show its distribution."
   ]
  },
  {
   "cell_type": "markdown",
   "id": "a3ebb594",
   "metadata": {},
   "source": [
    "### What is the interquartile range of `cost` data? Write code to find the interquartile range."
   ]
  },
  {
   "cell_type": "markdown",
   "id": "6917fad0",
   "metadata": {},
   "source": [
    "### Find the clipping points to remove the outliers in `cost` ?\n"
   ]
  },
  {
   "cell_type": "markdown",
   "id": "7f0b538c",
   "metadata": {},
   "source": [
    "### What is the numerical distribution of `cost` after clipping?\n"
   ]
  },
  {
   "cell_type": "markdown",
   "id": "54eab27a",
   "metadata": {},
   "source": [
    "### Show multiple visualizations of the clipped `cost` data?"
   ]
  },
  {
   "cell_type": "markdown",
   "id": "c268b9bd",
   "metadata": {},
   "source": []
  }
 ],
 "metadata": {
  "kernelspec": {
   "display_name": "Python 3",
   "language": "python",
   "name": "python3"
  },
  "language_info": {
   "codemirror_mode": {
    "name": "ipython",
    "version": 3
   },
   "file_extension": ".py",
   "mimetype": "text/x-python",
   "name": "python",
   "nbconvert_exporter": "python",
   "pygments_lexer": "ipython3",
   "version": "3.7.12"
  }
 },
 "nbformat": 4,
 "nbformat_minor": 5
}
